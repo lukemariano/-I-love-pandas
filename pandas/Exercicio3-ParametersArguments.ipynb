{
 "cells": [
  {
   "cell_type": "code",
   "execution_count": 1,
   "id": "f7d88af3",
   "metadata": {},
   "outputs": [],
   "source": [
    "# The code below defines a list of delicious foods\n",
    "# and some dipping sauces to dip them in\n",
    "import pandas as pd"
   ]
  },
  {
   "cell_type": "code",
   "execution_count": 2,
   "id": "3956d342",
   "metadata": {},
   "outputs": [],
   "source": [
    "foods = [\"French Fries\", \"Chicken Nuggets\", \"Celery\", \"Carrots\"]\n",
    "dipping_sauces = [\"BBQ\", \"Honey Mustard\", \"Ranch\", \"Sriracha\"]"
   ]
  },
  {
   "cell_type": "code",
   "execution_count": 3,
   "id": "acb95957",
   "metadata": {},
   "outputs": [
    {
     "data": {
      "text/plain": [
       "BBQ                 French Fries\n",
       "Honey Mustard    Chicken Nuggets\n",
       "Ranch                     Celery\n",
       "Sriracha                 Carrots\n",
       "dtype: object"
      ]
     },
     "execution_count": 3,
     "metadata": {},
     "output_type": "execute_result"
    }
   ],
   "source": [
    "# Create a Series and assign it to the s1 variable below. \n",
    "# Assign the foods list as the data source\n",
    "# and the dipping_sauces list as the Series index \n",
    "# For this solution, use positional arguments (i.e. feed in the arguments sequentially)\n",
    "s1 = pd.Series(foods, dipping_sauces)\n",
    "\n",
    "s1"
   ]
  },
  {
   "cell_type": "code",
   "execution_count": 5,
   "id": "46aed277",
   "metadata": {},
   "outputs": [
    {
     "data": {
      "text/plain": [
       "French Fries                 BBQ\n",
       "Chicken Nuggets    Honey Mustard\n",
       "Celery                     Ranch\n",
       "Carrots                 Sriracha\n",
       "dtype: object"
      ]
     },
     "execution_count": 5,
     "metadata": {},
     "output_type": "execute_result"
    }
   ],
   "source": [
    "# Create a Series and assign it to the s2 variable below. \n",
    "# Assign the dipping_sauces list as the data source\n",
    "# and the foods list as the Series index \n",
    "# For this solution, use keyword arguments (i.e. provide the parameter names\n",
    "# alongside the arguments)\n",
    "s2 = pd.Series(data = dipping_sauces, index = foods)\n",
    "s2"
   ]
  }
 ],
 "metadata": {
  "kernelspec": {
   "display_name": "Python 3 (ipykernel)",
   "language": "python",
   "name": "python3"
  },
  "language_info": {
   "codemirror_mode": {
    "name": "ipython",
    "version": 3
   },
   "file_extension": ".py",
   "mimetype": "text/x-python",
   "name": "python",
   "nbconvert_exporter": "python",
   "pygments_lexer": "ipython3",
   "version": "3.10.4"
  }
 },
 "nbformat": 4,
 "nbformat_minor": 5
}
