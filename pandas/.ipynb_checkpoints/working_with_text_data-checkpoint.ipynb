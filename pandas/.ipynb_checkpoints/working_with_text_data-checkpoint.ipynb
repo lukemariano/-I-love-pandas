{
 "cells": [
  {
   "cell_type": "code",
   "execution_count": 1,
   "id": "e8057fee-d36b-4703-b43b-01af08cbdce1",
   "metadata": {},
   "outputs": [],
   "source": [
    "import pandas as pd"
   ]
  },
  {
   "cell_type": "code",
   "execution_count": 17,
   "id": "c3bef6f6-4c57-4b0e-a161-d8c00c5c69bf",
   "metadata": {},
   "outputs": [
    {
     "data": {
      "text/html": [
       "<div>\n",
       "<style scoped>\n",
       "    .dataframe tbody tr th:only-of-type {\n",
       "        vertical-align: middle;\n",
       "    }\n",
       "\n",
       "    .dataframe tbody tr th {\n",
       "        vertical-align: top;\n",
       "    }\n",
       "\n",
       "    .dataframe thead th {\n",
       "        text-align: right;\n",
       "    }\n",
       "</style>\n",
       "<table border=\"1\" class=\"dataframe\">\n",
       "  <thead>\n",
       "    <tr style=\"text-align: right;\">\n",
       "      <th></th>\n",
       "      <th>Name</th>\n",
       "      <th>Position Title</th>\n",
       "      <th>Department</th>\n",
       "      <th>Employee Annual Salary</th>\n",
       "    </tr>\n",
       "  </thead>\n",
       "  <tbody>\n",
       "    <tr>\n",
       "      <th>32059</th>\n",
       "      <td>ZYMANTAS,  MARK E</td>\n",
       "      <td>POLICE OFFICER</td>\n",
       "      <td>POLICE</td>\n",
       "      <td>$84450.00</td>\n",
       "    </tr>\n",
       "    <tr>\n",
       "      <th>32060</th>\n",
       "      <td>ZYRKOWSKI,  CARLO E</td>\n",
       "      <td>POLICE OFFICER</td>\n",
       "      <td>POLICE</td>\n",
       "      <td>$87384.00</td>\n",
       "    </tr>\n",
       "    <tr>\n",
       "      <th>32061</th>\n",
       "      <td>ZYSKOWSKI,  DARIUSZ</td>\n",
       "      <td>CHIEF DATA BASE ANALYST</td>\n",
       "      <td>DoIT</td>\n",
       "      <td>$113664.00</td>\n",
       "    </tr>\n",
       "  </tbody>\n",
       "</table>\n",
       "</div>"
      ],
      "text/plain": [
       "                      Name           Position Title Department  \\\n",
       "32059    ZYMANTAS,  MARK E           POLICE OFFICER     POLICE   \n",
       "32060  ZYRKOWSKI,  CARLO E           POLICE OFFICER     POLICE   \n",
       "32061  ZYSKOWSKI,  DARIUSZ  CHIEF DATA BASE ANALYST       DoIT   \n",
       "\n",
       "      Employee Annual Salary  \n",
       "32059              $84450.00  \n",
       "32060              $87384.00  \n",
       "32061             $113664.00  "
      ]
     },
     "execution_count": 17,
     "metadata": {},
     "output_type": "execute_result"
    }
   ],
   "source": [
    "chicago = pd.read_csv(\"chicago.csv\")\n",
    "chicago.dropna(how = \"all\", inplace = True)\n",
    "chicago.tail(3)"
   ]
  },
  {
   "cell_type": "code",
   "execution_count": 5,
   "id": "67d65417-6883-4157-804a-e4c105a586de",
   "metadata": {},
   "outputs": [
    {
     "name": "stdout",
     "output_type": "stream",
     "text": [
      "<class 'pandas.core.frame.DataFrame'>\n",
      "RangeIndex: 32063 entries, 0 to 32062\n",
      "Data columns (total 4 columns):\n",
      " #   Column                  Non-Null Count  Dtype \n",
      "---  ------                  --------------  ----- \n",
      " 0   Name                    32062 non-null  object\n",
      " 1   Position Title          32062 non-null  object\n",
      " 2   Department              32062 non-null  object\n",
      " 3   Employee Annual Salary  32062 non-null  object\n",
      "dtypes: object(4)\n",
      "memory usage: 1002.1+ KB\n"
     ]
    }
   ],
   "source": [
    "chicago.info()"
   ]
  },
  {
   "cell_type": "code",
   "execution_count": 9,
   "id": "e1f564eb-e263-44dc-8d1b-cd8ccce681de",
   "metadata": {},
   "outputs": [
    {
     "data": {
      "text/plain": [
       "array(['WATER MGMNT', 'POLICE', 'GENERAL SERVICES', 'CITY COUNCIL',\n",
       "       'STREETS & SAN', 'OEMC', 'AVIATION', 'FIRE', 'FAMILY & SUPPORT',\n",
       "       'IPRA', 'PUBLIC LIBRARY', 'BUSINESS AFFAIRS', 'TRANSPORTN',\n",
       "       'HEALTH', \"MAYOR'S OFFICE\", 'LAW', 'FINANCE', 'CULTURAL AFFAIRS',\n",
       "       'COMMUNITY DEVELOPMENT', 'BUILDINGS', 'ANIMAL CONTRL',\n",
       "       'CITY CLERK', 'BOARD OF ELECTION', 'INSPECTOR GEN', 'TREASURER',\n",
       "       'DISABILITIES', 'HUMAN RESOURCES', 'DoIT', 'BUDGET & MGMT',\n",
       "       'PROCUREMENT', 'HUMAN RELATIONS', 'BOARD OF ETHICS',\n",
       "       'POLICE BOARD', 'ADMIN HEARNG', 'LICENSE APPL COMM', nan],\n",
       "      dtype=object)"
      ]
     },
     "execution_count": 9,
     "metadata": {},
     "output_type": "execute_result"
    }
   ],
   "source": [
    "chicago[\"Department\"].unique()"
   ]
  },
  {
   "cell_type": "code",
   "execution_count": 10,
   "id": "b29e237d-0dd1-44bb-bfce-b44177594ba6",
   "metadata": {},
   "outputs": [
    {
     "data": {
      "text/plain": [
       "35"
      ]
     },
     "execution_count": 10,
     "metadata": {},
     "output_type": "execute_result"
    }
   ],
   "source": [
    "chicago[\"Department\"].nunique()"
   ]
  },
  {
   "cell_type": "code",
   "execution_count": 11,
   "id": "1642c526-c59f-4eba-bd1f-26d678b43fff",
   "metadata": {},
   "outputs": [
    {
     "data": {
      "text/plain": [
       "Name                      31776\n",
       "Position Title             1093\n",
       "Department                   35\n",
       "Employee Annual Salary     1156\n",
       "dtype: int64"
      ]
     },
     "execution_count": 11,
     "metadata": {},
     "output_type": "execute_result"
    }
   ],
   "source": [
    "# Nós da uma boa aproxy de quais colunas podemos utilizar para otimizarmos o consumo de memória do nosso Datafrane\n",
    "\n",
    "chicago.nunique() # Nos dá uma overview sobre a quantidade de valores únicos para cada coluna do nosso Dataframe"
   ]
  },
  {
   "cell_type": "code",
   "execution_count": 13,
   "id": "ceec091d-0044-411d-a05e-1b357d0f729f",
   "metadata": {},
   "outputs": [],
   "source": [
    "# Otimizando o consumo de memória do nosso Datafrane\n",
    "\n",
    "chicago[\"Department\"] = chicago[\"Department\"].astype(\"category\")"
   ]
  },
  {
   "cell_type": "code",
   "execution_count": 14,
   "id": "6355ab14-b7fc-4c8b-9e4e-d059afba23ec",
   "metadata": {},
   "outputs": [
    {
     "name": "stdout",
     "output_type": "stream",
     "text": [
      "<class 'pandas.core.frame.DataFrame'>\n",
      "RangeIndex: 32063 entries, 0 to 32062\n",
      "Data columns (total 4 columns):\n",
      " #   Column                  Non-Null Count  Dtype   \n",
      "---  ------                  --------------  -----   \n",
      " 0   Name                    32062 non-null  object  \n",
      " 1   Position Title          32062 non-null  object  \n",
      " 2   Department              32062 non-null  category\n",
      " 3   Employee Annual Salary  32062 non-null  object  \n",
      "dtypes: category(1), object(3)\n",
      "memory usage: 784.2+ KB\n"
     ]
    }
   ],
   "source": [
    "chicago.info()"
   ]
  },
  {
   "cell_type": "code",
   "execution_count": null,
   "id": "6773e116-06aa-42d0-916e-c59b6235aea9",
   "metadata": {},
   "outputs": [],
   "source": []
  },
  {
   "cell_type": "markdown",
   "id": "ad07e2cf-30fe-4850-9d5e-52966d82bbda",
   "metadata": {},
   "source": [
    "## **Common String Methods - .lower(), .upper(), .title() and .len()**"
   ]
  },
  {
   "cell_type": "code",
   "execution_count": 19,
   "id": "5f8c3c8a-e268-4852-a47d-1e9e5bc40de0",
   "metadata": {},
   "outputs": [
    {
     "data": {
      "text/html": [
       "<div>\n",
       "<style scoped>\n",
       "    .dataframe tbody tr th:only-of-type {\n",
       "        vertical-align: middle;\n",
       "    }\n",
       "\n",
       "    .dataframe tbody tr th {\n",
       "        vertical-align: top;\n",
       "    }\n",
       "\n",
       "    .dataframe thead th {\n",
       "        text-align: right;\n",
       "    }\n",
       "</style>\n",
       "<table border=\"1\" class=\"dataframe\">\n",
       "  <thead>\n",
       "    <tr style=\"text-align: right;\">\n",
       "      <th></th>\n",
       "      <th>Name</th>\n",
       "      <th>Position Title</th>\n",
       "      <th>Department</th>\n",
       "      <th>Employee Annual Salary</th>\n",
       "    </tr>\n",
       "  </thead>\n",
       "  <tbody>\n",
       "    <tr>\n",
       "      <th>0</th>\n",
       "      <td>AARON,  ELVIA J</td>\n",
       "      <td>WATER RATE TAKER</td>\n",
       "      <td>WATER MGMNT</td>\n",
       "      <td>$90744.00</td>\n",
       "    </tr>\n",
       "    <tr>\n",
       "      <th>1</th>\n",
       "      <td>AARON,  JEFFERY M</td>\n",
       "      <td>POLICE OFFICER</td>\n",
       "      <td>POLICE</td>\n",
       "      <td>$84450.00</td>\n",
       "    </tr>\n",
       "    <tr>\n",
       "      <th>2</th>\n",
       "      <td>AARON,  KARINA</td>\n",
       "      <td>POLICE OFFICER</td>\n",
       "      <td>POLICE</td>\n",
       "      <td>$84450.00</td>\n",
       "    </tr>\n",
       "  </tbody>\n",
       "</table>\n",
       "</div>"
      ],
      "text/plain": [
       "                Name    Position Title   Department Employee Annual Salary\n",
       "0    AARON,  ELVIA J  WATER RATE TAKER  WATER MGMNT              $90744.00\n",
       "1  AARON,  JEFFERY M    POLICE OFFICER       POLICE              $84450.00\n",
       "2     AARON,  KARINA    POLICE OFFICER       POLICE              $84450.00"
      ]
     },
     "execution_count": 19,
     "metadata": {},
     "output_type": "execute_result"
    }
   ],
   "source": [
    "chicago = pd.read_csv(filepath_or_buffer = \"chicago.csv\")\n",
    "chicago.dropna(how = \"all\", inplace = True)\n",
    "chicago[\"Department\"] = chicago[\"Department\"].astype(\"category\")\n",
    "\n",
    "chicago.head(3)"
   ]
  },
  {
   "cell_type": "code",
   "execution_count": 20,
   "id": "bbd2329d-65c4-4f70-81b0-a1dc6e72f2e6",
   "metadata": {},
   "outputs": [
    {
     "data": {
      "text/plain": [
       "'hello world'"
      ]
     },
     "execution_count": 20,
     "metadata": {},
     "output_type": "execute_result"
    }
   ],
   "source": [
    "\"Hello World\".lower()"
   ]
  },
  {
   "cell_type": "code",
   "execution_count": 21,
   "id": "02e720fe-9aa2-4681-878d-b1e215fce9c7",
   "metadata": {},
   "outputs": [
    {
     "data": {
      "text/plain": [
       "'HELLO WORLD'"
      ]
     },
     "execution_count": 21,
     "metadata": {},
     "output_type": "execute_result"
    }
   ],
   "source": [
    "\"Hello World\".upper()"
   ]
  },
  {
   "cell_type": "code",
   "execution_count": 23,
   "id": "fe7ffd0f-39ef-496d-8e42-1b47444647ae",
   "metadata": {},
   "outputs": [
    {
     "data": {
      "text/plain": [
       "'Hello World'"
      ]
     },
     "execution_count": 23,
     "metadata": {},
     "output_type": "execute_result"
    }
   ],
   "source": [
    "\"heLlo woRld\".title()"
   ]
  },
  {
   "cell_type": "code",
   "execution_count": 26,
   "id": "8e463471-c8b4-469f-8f8a-99c8c2eb8f5e",
   "metadata": {},
   "outputs": [
    {
     "data": {
      "text/plain": [
       "0            aaron,  elvia j\n",
       "1          aaron,  jeffery m\n",
       "2             aaron,  karina\n",
       "3        aaron,  kimberlei r\n",
       "4        abad jr,  vicente m\n",
       "                ...         \n",
       "32057    zygadlo,  michael j\n",
       "32058     zygowicz,  peter j\n",
       "32059      zymantas,  mark e\n",
       "32060    zyrkowski,  carlo e\n",
       "32061    zyskowski,  dariusz\n",
       "Name: Name, Length: 32062, dtype: object"
      ]
     },
     "execution_count": 26,
     "metadata": {},
     "output_type": "execute_result"
    }
   ],
   "source": [
    "# Para aplicarmos métodos comuns de strings em valores de Séries Pandas, precisamos extender a Série para a propriedade 'str'\n",
    "\n",
    "chicago[\"Name\"].str.lower()"
   ]
  },
  {
   "cell_type": "code",
   "execution_count": 32,
   "id": "8c7245f7-5b96-471e-aad9-f8eb4b62bd9c",
   "metadata": {},
   "outputs": [],
   "source": [
    "chicago[\"Name\"] = chicago[\"Name\"].str.title()\n",
    "chicago[\"Position Title\"] = chicago[\"Position Title\"].str.title()\n",
    "chicago[\"Department\"] = chicago[\"Department\"].str.title()"
   ]
  },
  {
   "cell_type": "code",
   "execution_count": 33,
   "id": "e76c8e03-4baf-4766-8251-cb675176ce22",
   "metadata": {},
   "outputs": [
    {
     "data": {
      "text/html": [
       "<div>\n",
       "<style scoped>\n",
       "    .dataframe tbody tr th:only-of-type {\n",
       "        vertical-align: middle;\n",
       "    }\n",
       "\n",
       "    .dataframe tbody tr th {\n",
       "        vertical-align: top;\n",
       "    }\n",
       "\n",
       "    .dataframe thead th {\n",
       "        text-align: right;\n",
       "    }\n",
       "</style>\n",
       "<table border=\"1\" class=\"dataframe\">\n",
       "  <thead>\n",
       "    <tr style=\"text-align: right;\">\n",
       "      <th></th>\n",
       "      <th>Name</th>\n",
       "      <th>Position Title</th>\n",
       "      <th>Department</th>\n",
       "      <th>Employee Annual Salary</th>\n",
       "    </tr>\n",
       "  </thead>\n",
       "  <tbody>\n",
       "    <tr>\n",
       "      <th>0</th>\n",
       "      <td>Aaron,  Elvia J</td>\n",
       "      <td>Water Rate Taker</td>\n",
       "      <td>Water Mgmnt</td>\n",
       "      <td>$90744.00</td>\n",
       "    </tr>\n",
       "    <tr>\n",
       "      <th>1</th>\n",
       "      <td>Aaron,  Jeffery M</td>\n",
       "      <td>Police Officer</td>\n",
       "      <td>Police</td>\n",
       "      <td>$84450.00</td>\n",
       "    </tr>\n",
       "    <tr>\n",
       "      <th>2</th>\n",
       "      <td>Aaron,  Karina</td>\n",
       "      <td>Police Officer</td>\n",
       "      <td>Police</td>\n",
       "      <td>$84450.00</td>\n",
       "    </tr>\n",
       "  </tbody>\n",
       "</table>\n",
       "</div>"
      ],
      "text/plain": [
       "                Name    Position Title   Department Employee Annual Salary\n",
       "0    Aaron,  Elvia J  Water Rate Taker  Water Mgmnt              $90744.00\n",
       "1  Aaron,  Jeffery M    Police Officer       Police              $84450.00\n",
       "2     Aaron,  Karina    Police Officer       Police              $84450.00"
      ]
     },
     "execution_count": 33,
     "metadata": {},
     "output_type": "execute_result"
    }
   ],
   "source": [
    "chicago.head(3)"
   ]
  },
  {
   "cell_type": "code",
   "execution_count": 34,
   "id": "bc19d9ba-2420-4a93-bbbf-783f2b620ee2",
   "metadata": {},
   "outputs": [
    {
     "data": {
      "text/plain": [
       "0        11\n",
       "1         6\n",
       "2         6\n",
       "3        16\n",
       "4        11\n",
       "         ..\n",
       "32057    16\n",
       "32058     6\n",
       "32059     6\n",
       "32060     6\n",
       "32061     4\n",
       "Name: Department, Length: 32062, dtype: int64"
      ]
     },
     "execution_count": 34,
     "metadata": {},
     "output_type": "execute_result"
    }
   ],
   "source": [
    "# Utilizando o método .len() para verificarmos a quantidade de caracteres em cada string da nossa coluna\n",
    "\n",
    "chicago[\"Department\"].str.len()"
   ]
  },
  {
   "cell_type": "code",
   "execution_count": null,
   "id": "fc621260-5bb5-44ac-8e40-e60af8a764ea",
   "metadata": {},
   "outputs": [],
   "source": []
  },
  {
   "cell_type": "markdown",
   "id": "3fb4a004-36d8-4255-8aec-4aa29cdae351",
   "metadata": {},
   "source": [
    "## **The .str.replace() Method**"
   ]
  },
  {
   "cell_type": "code",
   "execution_count": 35,
   "id": "0a66d820-f40d-4865-851d-0d3409819036",
   "metadata": {},
   "outputs": [
    {
     "data": {
      "text/html": [
       "<div>\n",
       "<style scoped>\n",
       "    .dataframe tbody tr th:only-of-type {\n",
       "        vertical-align: middle;\n",
       "    }\n",
       "\n",
       "    .dataframe tbody tr th {\n",
       "        vertical-align: top;\n",
       "    }\n",
       "\n",
       "    .dataframe thead th {\n",
       "        text-align: right;\n",
       "    }\n",
       "</style>\n",
       "<table border=\"1\" class=\"dataframe\">\n",
       "  <thead>\n",
       "    <tr style=\"text-align: right;\">\n",
       "      <th></th>\n",
       "      <th>Name</th>\n",
       "      <th>Position Title</th>\n",
       "      <th>Department</th>\n",
       "      <th>Employee Annual Salary</th>\n",
       "    </tr>\n",
       "  </thead>\n",
       "  <tbody>\n",
       "    <tr>\n",
       "      <th>32059</th>\n",
       "      <td>ZYMANTAS,  MARK E</td>\n",
       "      <td>POLICE OFFICER</td>\n",
       "      <td>POLICE</td>\n",
       "      <td>$84450.00</td>\n",
       "    </tr>\n",
       "    <tr>\n",
       "      <th>32060</th>\n",
       "      <td>ZYRKOWSKI,  CARLO E</td>\n",
       "      <td>POLICE OFFICER</td>\n",
       "      <td>POLICE</td>\n",
       "      <td>$87384.00</td>\n",
       "    </tr>\n",
       "    <tr>\n",
       "      <th>32061</th>\n",
       "      <td>ZYSKOWSKI,  DARIUSZ</td>\n",
       "      <td>CHIEF DATA BASE ANALYST</td>\n",
       "      <td>DoIT</td>\n",
       "      <td>$113664.00</td>\n",
       "    </tr>\n",
       "  </tbody>\n",
       "</table>\n",
       "</div>"
      ],
      "text/plain": [
       "                      Name           Position Title Department  \\\n",
       "32059    ZYMANTAS,  MARK E           POLICE OFFICER     POLICE   \n",
       "32060  ZYRKOWSKI,  CARLO E           POLICE OFFICER     POLICE   \n",
       "32061  ZYSKOWSKI,  DARIUSZ  CHIEF DATA BASE ANALYST       DoIT   \n",
       "\n",
       "      Employee Annual Salary  \n",
       "32059              $84450.00  \n",
       "32060              $87384.00  \n",
       "32061             $113664.00  "
      ]
     },
     "execution_count": 35,
     "metadata": {},
     "output_type": "execute_result"
    }
   ],
   "source": [
    "chicago = pd.read_csv(\"chicago.csv\")\n",
    "chicago.dropna(how = \"all\", inplace = True)\n",
    "chicago[\"Department\"] = chicago[\"Department\"].astype(\"category\")\n",
    "\n",
    "chicago.tail(3)"
   ]
  },
  {
   "cell_type": "code",
   "execution_count": 36,
   "id": "d6c57e94-0fdf-4e51-9366-5187c5341bf8",
   "metadata": {},
   "outputs": [
    {
     "data": {
      "text/plain": [
       "'He!!o wor!d'"
      ]
     },
     "execution_count": 36,
     "metadata": {},
     "output_type": "execute_result"
    }
   ],
   "source": [
    "\"Hello world\".replace(\"l\", \"!\")"
   ]
  },
  {
   "cell_type": "code",
   "execution_count": 39,
   "id": "3f1aa466-2007-4d9b-9ac7-b65a72f858a6",
   "metadata": {},
   "outputs": [],
   "source": [
    "chicago[\"Department\"] = chicago[\"Department\"].str.title().str.replace(\"Mgmnt\", \"Management\")"
   ]
  },
  {
   "cell_type": "code",
   "execution_count": 40,
   "id": "b8e589d3-fd79-400e-a431-186b013d3c90",
   "metadata": {},
   "outputs": [
    {
     "data": {
      "text/html": [
       "<div>\n",
       "<style scoped>\n",
       "    .dataframe tbody tr th:only-of-type {\n",
       "        vertical-align: middle;\n",
       "    }\n",
       "\n",
       "    .dataframe tbody tr th {\n",
       "        vertical-align: top;\n",
       "    }\n",
       "\n",
       "    .dataframe thead th {\n",
       "        text-align: right;\n",
       "    }\n",
       "</style>\n",
       "<table border=\"1\" class=\"dataframe\">\n",
       "  <thead>\n",
       "    <tr style=\"text-align: right;\">\n",
       "      <th></th>\n",
       "      <th>Name</th>\n",
       "      <th>Position Title</th>\n",
       "      <th>Department</th>\n",
       "      <th>Employee Annual Salary</th>\n",
       "    </tr>\n",
       "  </thead>\n",
       "  <tbody>\n",
       "    <tr>\n",
       "      <th>0</th>\n",
       "      <td>AARON,  ELVIA J</td>\n",
       "      <td>WATER RATE TAKER</td>\n",
       "      <td>Water Management</td>\n",
       "      <td>$90744.00</td>\n",
       "    </tr>\n",
       "    <tr>\n",
       "      <th>1</th>\n",
       "      <td>AARON,  JEFFERY M</td>\n",
       "      <td>POLICE OFFICER</td>\n",
       "      <td>Police</td>\n",
       "      <td>$84450.00</td>\n",
       "    </tr>\n",
       "    <tr>\n",
       "      <th>2</th>\n",
       "      <td>AARON,  KARINA</td>\n",
       "      <td>POLICE OFFICER</td>\n",
       "      <td>Police</td>\n",
       "      <td>$84450.00</td>\n",
       "    </tr>\n",
       "  </tbody>\n",
       "</table>\n",
       "</div>"
      ],
      "text/plain": [
       "                Name    Position Title        Department  \\\n",
       "0    AARON,  ELVIA J  WATER RATE TAKER  Water Management   \n",
       "1  AARON,  JEFFERY M    POLICE OFFICER            Police   \n",
       "2     AARON,  KARINA    POLICE OFFICER            Police   \n",
       "\n",
       "  Employee Annual Salary  \n",
       "0              $90744.00  \n",
       "1              $84450.00  \n",
       "2              $84450.00  "
      ]
     },
     "execution_count": 40,
     "metadata": {},
     "output_type": "execute_result"
    }
   ],
   "source": [
    "chicago.head(3)"
   ]
  },
  {
   "cell_type": "code",
   "execution_count": 44,
   "id": "a01bb4b8-57f2-4ec0-a514-6dab0a8384f7",
   "metadata": {},
   "outputs": [
    {
     "name": "stderr",
     "output_type": "stream",
     "text": [
      "/tmp/ipykernel_1647427/2959077595.py:1: FutureWarning: The default value of regex will change from True to False in a future version. In addition, single character regular expressions will *not* be treated as literal strings when regex=True.\n",
      "  chicago[\"Employee Annual Salary\"] = chicago[\"Employee Annual Salary\"].str.replace(\"$\", \"\").astype(\"float\")\n"
     ]
    }
   ],
   "source": [
    "chicago[\"Employee Annual Salary\"] = chicago[\"Employee Annual Salary\"].str.replace(\"$\", \"\").astype(\"float\")"
   ]
  },
  {
   "cell_type": "code",
   "execution_count": 45,
   "id": "9623bbfe-3f69-4ce8-941b-7bf2a7180cf5",
   "metadata": {},
   "outputs": [
    {
     "data": {
      "text/html": [
       "<div>\n",
       "<style scoped>\n",
       "    .dataframe tbody tr th:only-of-type {\n",
       "        vertical-align: middle;\n",
       "    }\n",
       "\n",
       "    .dataframe tbody tr th {\n",
       "        vertical-align: top;\n",
       "    }\n",
       "\n",
       "    .dataframe thead th {\n",
       "        text-align: right;\n",
       "    }\n",
       "</style>\n",
       "<table border=\"1\" class=\"dataframe\">\n",
       "  <thead>\n",
       "    <tr style=\"text-align: right;\">\n",
       "      <th></th>\n",
       "      <th>Name</th>\n",
       "      <th>Position Title</th>\n",
       "      <th>Department</th>\n",
       "      <th>Employee Annual Salary</th>\n",
       "    </tr>\n",
       "  </thead>\n",
       "  <tbody>\n",
       "    <tr>\n",
       "      <th>0</th>\n",
       "      <td>AARON,  ELVIA J</td>\n",
       "      <td>WATER RATE TAKER</td>\n",
       "      <td>Water Management</td>\n",
       "      <td>90744.0</td>\n",
       "    </tr>\n",
       "    <tr>\n",
       "      <th>1</th>\n",
       "      <td>AARON,  JEFFERY M</td>\n",
       "      <td>POLICE OFFICER</td>\n",
       "      <td>Police</td>\n",
       "      <td>84450.0</td>\n",
       "    </tr>\n",
       "    <tr>\n",
       "      <th>2</th>\n",
       "      <td>AARON,  KARINA</td>\n",
       "      <td>POLICE OFFICER</td>\n",
       "      <td>Police</td>\n",
       "      <td>84450.0</td>\n",
       "    </tr>\n",
       "  </tbody>\n",
       "</table>\n",
       "</div>"
      ],
      "text/plain": [
       "                Name    Position Title        Department  \\\n",
       "0    AARON,  ELVIA J  WATER RATE TAKER  Water Management   \n",
       "1  AARON,  JEFFERY M    POLICE OFFICER            Police   \n",
       "2     AARON,  KARINA    POLICE OFFICER            Police   \n",
       "\n",
       "   Employee Annual Salary  \n",
       "0                 90744.0  \n",
       "1                 84450.0  \n",
       "2                 84450.0  "
      ]
     },
     "execution_count": 45,
     "metadata": {},
     "output_type": "execute_result"
    }
   ],
   "source": [
    "chicago.head(3)"
   ]
  },
  {
   "cell_type": "code",
   "execution_count": 46,
   "id": "1663da74-a06f-4e1b-8d7d-523bfffc6aac",
   "metadata": {},
   "outputs": [
    {
     "data": {
      "text/plain": [
       "2571506375.36"
      ]
     },
     "execution_count": 46,
     "metadata": {},
     "output_type": "execute_result"
    }
   ],
   "source": [
    "chicago[\"Employee Annual Salary\"].sum()"
   ]
  },
  {
   "cell_type": "code",
   "execution_count": null,
   "id": "5a1f80ae-55de-4a9e-ad2c-a0e36bd87078",
   "metadata": {},
   "outputs": [],
   "source": []
  },
  {
   "cell_type": "code",
   "execution_count": null,
   "id": "53936204-8a06-46f5-bacf-424f8a96148e",
   "metadata": {},
   "outputs": [],
   "source": []
  },
  {
   "cell_type": "code",
   "execution_count": null,
   "id": "1d558b6a-e00c-4711-9239-e83aca2ce35c",
   "metadata": {},
   "outputs": [],
   "source": []
  },
  {
   "cell_type": "code",
   "execution_count": null,
   "id": "46820bcf-a726-488d-b0b5-d03a03d340ed",
   "metadata": {},
   "outputs": [],
   "source": []
  },
  {
   "cell_type": "code",
   "execution_count": null,
   "id": "ce085699-d48c-4873-9d5b-0e901be954d3",
   "metadata": {},
   "outputs": [],
   "source": []
  },
  {
   "cell_type": "code",
   "execution_count": null,
   "id": "83239645-d06b-498d-8472-572fca833667",
   "metadata": {},
   "outputs": [],
   "source": []
  },
  {
   "cell_type": "code",
   "execution_count": null,
   "id": "7ddcfe65-52be-45ea-a37e-a833d6e5f15c",
   "metadata": {},
   "outputs": [],
   "source": []
  },
  {
   "cell_type": "code",
   "execution_count": null,
   "id": "7f6d1bff-bcbb-47bb-87ab-86f1a56556f9",
   "metadata": {},
   "outputs": [],
   "source": []
  },
  {
   "cell_type": "code",
   "execution_count": null,
   "id": "8c6b61c6-2fda-4a8c-a40f-a49a8b2970cb",
   "metadata": {},
   "outputs": [],
   "source": []
  },
  {
   "cell_type": "code",
   "execution_count": null,
   "id": "64bb697d-96e4-4d77-8d55-658b2ad97c4e",
   "metadata": {},
   "outputs": [],
   "source": []
  },
  {
   "cell_type": "code",
   "execution_count": null,
   "id": "67523338-6855-4826-8d0d-57e1072d935e",
   "metadata": {},
   "outputs": [],
   "source": []
  },
  {
   "cell_type": "code",
   "execution_count": null,
   "id": "ce852178-6e20-4a28-bd79-822743b3e571",
   "metadata": {},
   "outputs": [],
   "source": []
  },
  {
   "cell_type": "code",
   "execution_count": null,
   "id": "47eace15-d04c-4149-84ef-4ce71281fc48",
   "metadata": {},
   "outputs": [],
   "source": []
  },
  {
   "cell_type": "code",
   "execution_count": null,
   "id": "70bc8168-3df6-4588-be44-aa1d3d5f6bc4",
   "metadata": {},
   "outputs": [],
   "source": []
  },
  {
   "cell_type": "code",
   "execution_count": null,
   "id": "7c7d9e66-e3bf-46e4-9de4-b81bd6a42e11",
   "metadata": {},
   "outputs": [],
   "source": []
  },
  {
   "cell_type": "code",
   "execution_count": null,
   "id": "0a128358-1262-44ff-b8c5-595fe7443afb",
   "metadata": {},
   "outputs": [],
   "source": []
  },
  {
   "cell_type": "code",
   "execution_count": null,
   "id": "3128cb52-61a4-4ea0-8ffd-c580039e8e38",
   "metadata": {},
   "outputs": [],
   "source": []
  },
  {
   "cell_type": "code",
   "execution_count": null,
   "id": "ef733ba0-cd37-4616-b009-90d9f78544a7",
   "metadata": {},
   "outputs": [],
   "source": []
  },
  {
   "cell_type": "code",
   "execution_count": null,
   "id": "75636c7c-e43c-4cc1-8745-ed5b266754d8",
   "metadata": {},
   "outputs": [],
   "source": []
  },
  {
   "cell_type": "code",
   "execution_count": null,
   "id": "fb8f7ae0-cef8-4fc3-abae-dd0eb21a1791",
   "metadata": {},
   "outputs": [],
   "source": []
  },
  {
   "cell_type": "code",
   "execution_count": null,
   "id": "5ee813a4-4c1b-4ea7-b48a-65d724b08798",
   "metadata": {},
   "outputs": [],
   "source": []
  }
 ],
 "metadata": {
  "kernelspec": {
   "display_name": "Python 3 (ipykernel)",
   "language": "python",
   "name": "python3"
  },
  "language_info": {
   "codemirror_mode": {
    "name": "ipython",
    "version": 3
   },
   "file_extension": ".py",
   "mimetype": "text/x-python",
   "name": "python",
   "nbconvert_exporter": "python",
   "pygments_lexer": "ipython3",
   "version": "3.10.4"
  }
 },
 "nbformat": 4,
 "nbformat_minor": 5
}
