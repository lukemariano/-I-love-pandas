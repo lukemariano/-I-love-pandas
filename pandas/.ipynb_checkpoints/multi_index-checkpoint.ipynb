{
 "cells": [
  {
   "cell_type": "code",
   "execution_count": 1,
   "id": "86c19bd3-a1dc-4431-987b-e8c88d1ea407",
   "metadata": {},
   "outputs": [],
   "source": [
    "import pandas as pd"
   ]
  },
  {
   "cell_type": "code",
   "execution_count": 11,
   "id": "dcc8bb5c-b043-4a49-9d7b-0ad40569f536",
   "metadata": {},
   "outputs": [
    {
     "data": {
      "text/html": [
       "<div>\n",
       "<style scoped>\n",
       "    .dataframe tbody tr th:only-of-type {\n",
       "        vertical-align: middle;\n",
       "    }\n",
       "\n",
       "    .dataframe tbody tr th {\n",
       "        vertical-align: top;\n",
       "    }\n",
       "\n",
       "    .dataframe thead th {\n",
       "        text-align: right;\n",
       "    }\n",
       "</style>\n",
       "<table border=\"1\" class=\"dataframe\">\n",
       "  <thead>\n",
       "    <tr style=\"text-align: right;\">\n",
       "      <th></th>\n",
       "      <th>Date</th>\n",
       "      <th>Country</th>\n",
       "      <th>Price in US Dollars</th>\n",
       "    </tr>\n",
       "  </thead>\n",
       "  <tbody>\n",
       "    <tr>\n",
       "      <th>0</th>\n",
       "      <td>2016-01-01</td>\n",
       "      <td>Argentina</td>\n",
       "      <td>2.39</td>\n",
       "    </tr>\n",
       "    <tr>\n",
       "      <th>1</th>\n",
       "      <td>2016-01-01</td>\n",
       "      <td>Australia</td>\n",
       "      <td>3.74</td>\n",
       "    </tr>\n",
       "    <tr>\n",
       "      <th>2</th>\n",
       "      <td>2016-01-01</td>\n",
       "      <td>Brazil</td>\n",
       "      <td>3.35</td>\n",
       "    </tr>\n",
       "  </tbody>\n",
       "</table>\n",
       "</div>"
      ],
      "text/plain": [
       "        Date    Country  Price in US Dollars\n",
       "0 2016-01-01  Argentina                 2.39\n",
       "1 2016-01-01  Australia                 3.74\n",
       "2 2016-01-01     Brazil                 3.35"
      ]
     },
     "execution_count": 11,
     "metadata": {},
     "output_type": "execute_result"
    }
   ],
   "source": [
    "bigmac = pd.read_csv(\"bigmac.csv\", parse_dates=[\"Date\"])\n",
    "bigmac[\"Country\"] = bigmac[\"Country\"].astype(\"category\") \n",
    "bigmac.head(3)"
   ]
  },
  {
   "cell_type": "code",
   "execution_count": 12,
   "id": "7acfe87e-c301-4f64-8651-27b80c10dd73",
   "metadata": {},
   "outputs": [
    {
     "name": "stdout",
     "output_type": "stream",
     "text": [
      "<class 'pandas.core.frame.DataFrame'>\n",
      "RangeIndex: 652 entries, 0 to 651\n",
      "Data columns (total 3 columns):\n",
      " #   Column               Non-Null Count  Dtype         \n",
      "---  ------               --------------  -----         \n",
      " 0   Date                 652 non-null    datetime64[ns]\n",
      " 1   Country              652 non-null    category      \n",
      " 2   Price in US Dollars  652 non-null    float64       \n",
      "dtypes: category(1), datetime64[ns](1), float64(1)\n",
      "memory usage: 13.5 KB\n"
     ]
    }
   ],
   "source": [
    "bigmac.info()"
   ]
  },
  {
   "cell_type": "code",
   "execution_count": 17,
   "id": "7324a819-a345-4394-9969-95ab5e0f8670",
   "metadata": {},
   "outputs": [
    {
     "data": {
      "text/plain": [
       "Date                   datetime64[ns]\n",
       "Country                      category\n",
       "Price in US Dollars           float64\n",
       "dtype: object"
      ]
     },
     "execution_count": 17,
     "metadata": {},
     "output_type": "execute_result"
    }
   ],
   "source": [
    "bigmac.dtypes"
   ]
  },
  {
   "cell_type": "code",
   "execution_count": null,
   "id": "7f279e28-19d3-4ff7-917d-85aa4bfde302",
   "metadata": {},
   "outputs": [],
   "source": []
  },
  {
   "cell_type": "markdown",
   "id": "9da824af-7f60-49d1-a831-9b4fb00062d1",
   "metadata": {},
   "source": [
    "## **Create a MultiIndex with the set_index Method**"
   ]
  },
  {
   "cell_type": "code",
   "execution_count": 20,
   "id": "aa29da77-ebe8-4d35-9195-cab11e83a0d8",
   "metadata": {},
   "outputs": [
    {
     "data": {
      "text/html": [
       "<div>\n",
       "<style scoped>\n",
       "    .dataframe tbody tr th:only-of-type {\n",
       "        vertical-align: middle;\n",
       "    }\n",
       "\n",
       "    .dataframe tbody tr th {\n",
       "        vertical-align: top;\n",
       "    }\n",
       "\n",
       "    .dataframe thead th {\n",
       "        text-align: right;\n",
       "    }\n",
       "</style>\n",
       "<table border=\"1\" class=\"dataframe\">\n",
       "  <thead>\n",
       "    <tr style=\"text-align: right;\">\n",
       "      <th></th>\n",
       "      <th>Date</th>\n",
       "      <th>Country</th>\n",
       "      <th>Price in US Dollars</th>\n",
       "    </tr>\n",
       "  </thead>\n",
       "  <tbody>\n",
       "    <tr>\n",
       "      <th>0</th>\n",
       "      <td>2016-01-01</td>\n",
       "      <td>Argentina</td>\n",
       "      <td>2.39</td>\n",
       "    </tr>\n",
       "    <tr>\n",
       "      <th>1</th>\n",
       "      <td>2016-01-01</td>\n",
       "      <td>Australia</td>\n",
       "      <td>3.74</td>\n",
       "    </tr>\n",
       "    <tr>\n",
       "      <th>2</th>\n",
       "      <td>2016-01-01</td>\n",
       "      <td>Brazil</td>\n",
       "      <td>3.35</td>\n",
       "    </tr>\n",
       "  </tbody>\n",
       "</table>\n",
       "</div>"
      ],
      "text/plain": [
       "        Date    Country  Price in US Dollars\n",
       "0 2016-01-01  Argentina                 2.39\n",
       "1 2016-01-01  Australia                 3.74\n",
       "2 2016-01-01     Brazil                 3.35"
      ]
     },
     "execution_count": 20,
     "metadata": {},
     "output_type": "execute_result"
    }
   ],
   "source": [
    "bigmac = pd.read_csv(\"bigmac.csv\", parse_dates=[\"Date\"])\n",
    "bigmac[\"Country\"] = bigmac[\"Country\"].astype(\"category\") \n",
    "bigmac.head(3)"
   ]
  },
  {
   "cell_type": "markdown",
   "id": "37b0db62-af30-478a-a477-3dd1f3e4b610",
   "metadata": {},
   "source": [
    "### A boa prática aqui é utilizar a coluna com a menor quantidade de valores únicos nas camadas mais externas dos multi-indices, pois elas irão empacotar as camadas internas"
   ]
  },
  {
   "cell_type": "code",
   "execution_count": 27,
   "id": "69960e33-c1a9-460d-aadf-71ab5ead0d4e",
   "metadata": {},
   "outputs": [
    {
     "data": {
      "text/plain": [
       "Date                    12\n",
       "Country                 58\n",
       "Price in US Dollars    330\n",
       "dtype: int64"
      ]
     },
     "execution_count": 27,
     "metadata": {},
     "output_type": "execute_result"
    }
   ],
   "source": [
    "bigmac.nunique()"
   ]
  },
  {
   "cell_type": "code",
   "execution_count": 28,
   "id": "1e52a5ff-5145-4ad4-87b5-18c6620982ad",
   "metadata": {},
   "outputs": [],
   "source": [
    "bigmac.set_index(keys = [\"Date\", \"Country\"], inplace = True)"
   ]
  },
  {
   "cell_type": "code",
   "execution_count": 29,
   "id": "5648e0e4-be3a-4491-91b9-63b6baad01fd",
   "metadata": {},
   "outputs": [
    {
     "data": {
      "text/html": [
       "<div>\n",
       "<style scoped>\n",
       "    .dataframe tbody tr th:only-of-type {\n",
       "        vertical-align: middle;\n",
       "    }\n",
       "\n",
       "    .dataframe tbody tr th {\n",
       "        vertical-align: top;\n",
       "    }\n",
       "\n",
       "    .dataframe thead th {\n",
       "        text-align: right;\n",
       "    }\n",
       "</style>\n",
       "<table border=\"1\" class=\"dataframe\">\n",
       "  <thead>\n",
       "    <tr style=\"text-align: right;\">\n",
       "      <th></th>\n",
       "      <th></th>\n",
       "      <th>Price in US Dollars</th>\n",
       "    </tr>\n",
       "    <tr>\n",
       "      <th>Date</th>\n",
       "      <th>Country</th>\n",
       "      <th></th>\n",
       "    </tr>\n",
       "  </thead>\n",
       "  <tbody>\n",
       "    <tr>\n",
       "      <th rowspan=\"5\" valign=\"top\">2016-01-01</th>\n",
       "      <th>Argentina</th>\n",
       "      <td>2.39</td>\n",
       "    </tr>\n",
       "    <tr>\n",
       "      <th>Australia</th>\n",
       "      <td>3.74</td>\n",
       "    </tr>\n",
       "    <tr>\n",
       "      <th>Brazil</th>\n",
       "      <td>3.35</td>\n",
       "    </tr>\n",
       "    <tr>\n",
       "      <th>Britain</th>\n",
       "      <td>4.22</td>\n",
       "    </tr>\n",
       "    <tr>\n",
       "      <th>Canada</th>\n",
       "      <td>4.14</td>\n",
       "    </tr>\n",
       "  </tbody>\n",
       "</table>\n",
       "</div>"
      ],
      "text/plain": [
       "                      Price in US Dollars\n",
       "Date       Country                       \n",
       "2016-01-01 Argentina                 2.39\n",
       "           Australia                 3.74\n",
       "           Brazil                    3.35\n",
       "           Britain                   4.22\n",
       "           Canada                    4.14"
      ]
     },
     "execution_count": 29,
     "metadata": {},
     "output_type": "execute_result"
    }
   ],
   "source": [
    "bigmac.head()"
   ]
  },
  {
   "cell_type": "code",
   "execution_count": 40,
   "id": "94fe794b-9cb8-417c-a451-ca9bffed36a4",
   "metadata": {},
   "outputs": [],
   "source": [
    "bigmac.sort_index(inplace = True) # todos os níveis são ordenados, iniciando pela camada mais externa para a mais interna."
   ]
  },
  {
   "cell_type": "code",
   "execution_count": 41,
   "id": "a9f5d76d-a8a3-4c47-8450-84dec27b6332",
   "metadata": {},
   "outputs": [
    {
     "data": {
      "text/html": [
       "<div>\n",
       "<style scoped>\n",
       "    .dataframe tbody tr th:only-of-type {\n",
       "        vertical-align: middle;\n",
       "    }\n",
       "\n",
       "    .dataframe tbody tr th {\n",
       "        vertical-align: top;\n",
       "    }\n",
       "\n",
       "    .dataframe thead th {\n",
       "        text-align: right;\n",
       "    }\n",
       "</style>\n",
       "<table border=\"1\" class=\"dataframe\">\n",
       "  <thead>\n",
       "    <tr style=\"text-align: right;\">\n",
       "      <th></th>\n",
       "      <th></th>\n",
       "      <th>Price in US Dollars</th>\n",
       "    </tr>\n",
       "    <tr>\n",
       "      <th>Date</th>\n",
       "      <th>Country</th>\n",
       "      <th></th>\n",
       "    </tr>\n",
       "  </thead>\n",
       "  <tbody>\n",
       "    <tr>\n",
       "      <th rowspan=\"5\" valign=\"top\">2010-01-01</th>\n",
       "      <th>Argentina</th>\n",
       "      <td>1.84</td>\n",
       "    </tr>\n",
       "    <tr>\n",
       "      <th>Australia</th>\n",
       "      <td>3.98</td>\n",
       "    </tr>\n",
       "    <tr>\n",
       "      <th>Brazil</th>\n",
       "      <td>4.76</td>\n",
       "    </tr>\n",
       "    <tr>\n",
       "      <th>Britain</th>\n",
       "      <td>3.67</td>\n",
       "    </tr>\n",
       "    <tr>\n",
       "      <th>Canada</th>\n",
       "      <td>3.97</td>\n",
       "    </tr>\n",
       "  </tbody>\n",
       "</table>\n",
       "</div>"
      ],
      "text/plain": [
       "                      Price in US Dollars\n",
       "Date       Country                       \n",
       "2010-01-01 Argentina                 1.84\n",
       "           Australia                 3.98\n",
       "           Brazil                    4.76\n",
       "           Britain                   3.67\n",
       "           Canada                    3.97"
      ]
     },
     "execution_count": 41,
     "metadata": {},
     "output_type": "execute_result"
    }
   ],
   "source": [
    "bigmac.head()"
   ]
  },
  {
   "cell_type": "code",
   "execution_count": 42,
   "id": "6970df38-3d89-436d-a2ee-9a6f198658eb",
   "metadata": {},
   "outputs": [
    {
     "data": {
      "text/plain": [
       "MultiIndex([('2010-01-01',      'Argentina'),\n",
       "            ('2010-01-01',      'Australia'),\n",
       "            ('2010-01-01',         'Brazil'),\n",
       "            ('2010-01-01',        'Britain'),\n",
       "            ('2010-01-01',         'Canada'),\n",
       "            ('2010-01-01',          'Chile'),\n",
       "            ('2010-01-01',          'China'),\n",
       "            ('2010-01-01',       'Colombia'),\n",
       "            ('2010-01-01',     'Costa Rica'),\n",
       "            ('2010-01-01', 'Czech Republic'),\n",
       "            ...\n",
       "            ('2016-01-01',    'Switzerland'),\n",
       "            ('2016-01-01',         'Taiwan'),\n",
       "            ('2016-01-01',       'Thailand'),\n",
       "            ('2016-01-01',         'Turkey'),\n",
       "            ('2016-01-01',            'UAE'),\n",
       "            ('2016-01-01',        'Ukraine'),\n",
       "            ('2016-01-01',  'United States'),\n",
       "            ('2016-01-01',        'Uruguay'),\n",
       "            ('2016-01-01',      'Venezuela'),\n",
       "            ('2016-01-01',        'Vietnam')],\n",
       "           names=['Date', 'Country'], length=652)"
      ]
     },
     "execution_count": 42,
     "metadata": {},
     "output_type": "execute_result"
    }
   ],
   "source": [
    "bigmac.index"
   ]
  },
  {
   "cell_type": "code",
   "execution_count": 43,
   "id": "919128ff-ccb3-4a5d-83df-f9f9ff810bab",
   "metadata": {},
   "outputs": [
    {
     "data": {
      "text/plain": [
       "FrozenList(['Date', 'Country'])"
      ]
     },
     "execution_count": 43,
     "metadata": {},
     "output_type": "execute_result"
    }
   ],
   "source": [
    "bigmac.index.names"
   ]
  },
  {
   "cell_type": "code",
   "execution_count": 44,
   "id": "8c8eb4c4-c247-45e6-ba64-bf12efbf3658",
   "metadata": {},
   "outputs": [
    {
     "data": {
      "text/plain": [
       "pandas.core.indexes.multi.MultiIndex"
      ]
     },
     "execution_count": 44,
     "metadata": {},
     "output_type": "execute_result"
    }
   ],
   "source": [
    "type(bigmac.index)"
   ]
  },
  {
   "cell_type": "code",
   "execution_count": 53,
   "id": "3291495f-5aa3-490a-bcec-7c20f64a5c9d",
   "metadata": {},
   "outputs": [
    {
     "data": {
      "text/plain": [
       "(Timestamp('2010-01-01 00:00:00'), 'Argentina')"
      ]
     },
     "execution_count": 53,
     "metadata": {},
     "output_type": "execute_result"
    }
   ],
   "source": [
    "bigmac.index[0]"
   ]
  },
  {
   "cell_type": "code",
   "execution_count": 38,
   "id": "56ac9365-6caf-44b8-885b-25eb356ef6d0",
   "metadata": {},
   "outputs": [
    {
     "data": {
      "text/plain": [
       "Price in US Dollars    3.35\n",
       "Name: (2016-01-01 00:00:00, Brazil), dtype: float64"
      ]
     },
     "execution_count": 38,
     "metadata": {},
     "output_type": "execute_result"
    }
   ],
   "source": [
    "bigmac.loc[('2016-01-01', 'Brazil')]"
   ]
  },
  {
   "cell_type": "code",
   "execution_count": 54,
   "id": "71758472-44aa-418e-9e0c-546ffcf143a8",
   "metadata": {},
   "outputs": [
    {
     "data": {
      "text/plain": [
       "Price in US Dollars    1.84\n",
       "Name: (2010-01-01 00:00:00, Argentina), dtype: float64"
      ]
     },
     "execution_count": 54,
     "metadata": {},
     "output_type": "execute_result"
    }
   ],
   "source": [
    "bigmac.loc[bigmac.index[0]]"
   ]
  },
  {
   "cell_type": "code",
   "execution_count": null,
   "id": "d28eb86b-01f1-4976-abf4-37d7ad96c3ec",
   "metadata": {},
   "outputs": [],
   "source": []
  },
  {
   "cell_type": "markdown",
   "id": "c27f579a-e9ab-4cd3-a1a8-701bfa49f1f0",
   "metadata": {},
   "source": [
    "## **Extract Index Level Values with the ```get_level_values()``` Method**"
   ]
  },
  {
   "cell_type": "code",
   "execution_count": 72,
   "id": "2ddd7e7c-83b9-4468-b9ff-1d77ec861019",
   "metadata": {},
   "outputs": [
    {
     "data": {
      "text/html": [
       "<div>\n",
       "<style scoped>\n",
       "    .dataframe tbody tr th:only-of-type {\n",
       "        vertical-align: middle;\n",
       "    }\n",
       "\n",
       "    .dataframe tbody tr th {\n",
       "        vertical-align: top;\n",
       "    }\n",
       "\n",
       "    .dataframe thead th {\n",
       "        text-align: right;\n",
       "    }\n",
       "</style>\n",
       "<table border=\"1\" class=\"dataframe\">\n",
       "  <thead>\n",
       "    <tr style=\"text-align: right;\">\n",
       "      <th></th>\n",
       "      <th></th>\n",
       "      <th>Price in US Dollars</th>\n",
       "    </tr>\n",
       "    <tr>\n",
       "      <th>Date</th>\n",
       "      <th>Country</th>\n",
       "      <th></th>\n",
       "    </tr>\n",
       "  </thead>\n",
       "  <tbody>\n",
       "    <tr>\n",
       "      <th rowspan=\"3\" valign=\"top\">2010-01-01</th>\n",
       "      <th>Argentina</th>\n",
       "      <td>1.84</td>\n",
       "    </tr>\n",
       "    <tr>\n",
       "      <th>Australia</th>\n",
       "      <td>3.98</td>\n",
       "    </tr>\n",
       "    <tr>\n",
       "      <th>Brazil</th>\n",
       "      <td>4.76</td>\n",
       "    </tr>\n",
       "  </tbody>\n",
       "</table>\n",
       "</div>"
      ],
      "text/plain": [
       "                      Price in US Dollars\n",
       "Date       Country                       \n",
       "2010-01-01 Argentina                 1.84\n",
       "           Australia                 3.98\n",
       "           Brazil                    4.76"
      ]
     },
     "execution_count": 72,
     "metadata": {},
     "output_type": "execute_result"
    }
   ],
   "source": [
    "bigmac = pd.read_csv(\"bigmac.csv\", parse_dates=[\"Date\"], index_col = [\"Date\", \"Country\"]).sort_index()\n",
    "bigmac.head(3)"
   ]
  },
  {
   "cell_type": "code",
   "execution_count": 64,
   "id": "0ea4cdd7-cd1b-4dcc-bc52-94a40021f0fb",
   "metadata": {},
   "outputs": [
    {
     "data": {
      "text/plain": [
       "MultiIndex([('2010-01-01',      'Argentina'),\n",
       "            ('2010-01-01',      'Australia'),\n",
       "            ('2010-01-01',         'Brazil'),\n",
       "            ('2010-01-01',        'Britain'),\n",
       "            ('2010-01-01',         'Canada'),\n",
       "            ('2010-01-01',          'Chile'),\n",
       "            ('2010-01-01',          'China'),\n",
       "            ('2010-01-01',       'Colombia'),\n",
       "            ('2010-01-01',     'Costa Rica'),\n",
       "            ('2010-01-01', 'Czech Republic'),\n",
       "            ...\n",
       "            ('2016-01-01',    'Switzerland'),\n",
       "            ('2016-01-01',         'Taiwan'),\n",
       "            ('2016-01-01',       'Thailand'),\n",
       "            ('2016-01-01',         'Turkey'),\n",
       "            ('2016-01-01',            'UAE'),\n",
       "            ('2016-01-01',        'Ukraine'),\n",
       "            ('2016-01-01',  'United States'),\n",
       "            ('2016-01-01',        'Uruguay'),\n",
       "            ('2016-01-01',      'Venezuela'),\n",
       "            ('2016-01-01',        'Vietnam')],\n",
       "           names=['Date', 'Country'], length=652)"
      ]
     },
     "execution_count": 64,
     "metadata": {},
     "output_type": "execute_result"
    }
   ],
   "source": [
    "bigmac.index"
   ]
  },
  {
   "cell_type": "code",
   "execution_count": 70,
   "id": "63a40383-5d9a-4cd3-bcd8-5c01d0e0a1ce",
   "metadata": {},
   "outputs": [
    {
     "data": {
      "text/plain": [
       "DatetimeIndex(['2010-01-01', '2010-01-01', '2010-01-01', '2010-01-01',\n",
       "               '2010-01-01', '2010-01-01', '2010-01-01', '2010-01-01',\n",
       "               '2010-01-01', '2010-01-01',\n",
       "               ...\n",
       "               '2016-01-01', '2016-01-01', '2016-01-01', '2016-01-01',\n",
       "               '2016-01-01', '2016-01-01', '2016-01-01', '2016-01-01',\n",
       "               '2016-01-01', '2016-01-01'],\n",
       "              dtype='datetime64[ns]', name='Date', length=652, freq=None)"
      ]
     },
     "execution_count": 70,
     "metadata": {},
     "output_type": "execute_result"
    }
   ],
   "source": [
    "bigmac.index.get_level_values(\"Date\") # retorna todos os valores da camada de indice fornecida como argumento\n",
    "bigmac.index.get_level_values(0)"
   ]
  },
  {
   "cell_type": "code",
   "execution_count": 71,
   "id": "60e586f5-c583-4962-b096-d58236b1ca9d",
   "metadata": {},
   "outputs": [
    {
     "data": {
      "text/plain": [
       "Index(['Argentina', 'Australia', 'Brazil', 'Britain', 'Canada', 'Chile',\n",
       "       'China', 'Colombia', 'Costa Rica', 'Czech Republic',\n",
       "       ...\n",
       "       'Switzerland', 'Taiwan', 'Thailand', 'Turkey', 'UAE', 'Ukraine',\n",
       "       'United States', 'Uruguay', 'Venezuela', 'Vietnam'],\n",
       "      dtype='object', name='Country', length=652)"
      ]
     },
     "execution_count": 71,
     "metadata": {},
     "output_type": "execute_result"
    }
   ],
   "source": [
    "bigmac.index.get_level_values(\"Country\")\n",
    "bigmac.index.get_level_values(1)"
   ]
  },
  {
   "cell_type": "code",
   "execution_count": null,
   "id": "153d7df9-ed90-46ce-b198-53c0634f0b1a",
   "metadata": {},
   "outputs": [],
   "source": []
  },
  {
   "cell_type": "markdown",
   "id": "a3a0ca97-8cdd-4207-aae3-a163bb2fb878",
   "metadata": {},
   "source": [
    "## **Change Index Level Name with the ```.set_names()``` Method**"
   ]
  },
  {
   "cell_type": "code",
   "execution_count": 73,
   "id": "465b09b6-6c5a-46cc-84af-0abdd7c54c07",
   "metadata": {},
   "outputs": [
    {
     "data": {
      "text/html": [
       "<div>\n",
       "<style scoped>\n",
       "    .dataframe tbody tr th:only-of-type {\n",
       "        vertical-align: middle;\n",
       "    }\n",
       "\n",
       "    .dataframe tbody tr th {\n",
       "        vertical-align: top;\n",
       "    }\n",
       "\n",
       "    .dataframe thead th {\n",
       "        text-align: right;\n",
       "    }\n",
       "</style>\n",
       "<table border=\"1\" class=\"dataframe\">\n",
       "  <thead>\n",
       "    <tr style=\"text-align: right;\">\n",
       "      <th></th>\n",
       "      <th></th>\n",
       "      <th>Price in US Dollars</th>\n",
       "    </tr>\n",
       "    <tr>\n",
       "      <th>Date</th>\n",
       "      <th>Country</th>\n",
       "      <th></th>\n",
       "    </tr>\n",
       "  </thead>\n",
       "  <tbody>\n",
       "    <tr>\n",
       "      <th rowspan=\"3\" valign=\"top\">2010-01-01</th>\n",
       "      <th>Argentina</th>\n",
       "      <td>1.84</td>\n",
       "    </tr>\n",
       "    <tr>\n",
       "      <th>Australia</th>\n",
       "      <td>3.98</td>\n",
       "    </tr>\n",
       "    <tr>\n",
       "      <th>Brazil</th>\n",
       "      <td>4.76</td>\n",
       "    </tr>\n",
       "  </tbody>\n",
       "</table>\n",
       "</div>"
      ],
      "text/plain": [
       "                      Price in US Dollars\n",
       "Date       Country                       \n",
       "2010-01-01 Argentina                 1.84\n",
       "           Australia                 3.98\n",
       "           Brazil                    4.76"
      ]
     },
     "execution_count": 73,
     "metadata": {},
     "output_type": "execute_result"
    }
   ],
   "source": [
    "bigmac = pd.read_csv(\"bigmac.csv\", parse_dates = [\"Date\"], index_col = [\"Date\", \"Country\"]).sort_index()\n",
    "bigmac.head(3)"
   ]
  },
  {
   "cell_type": "code",
   "execution_count": 75,
   "id": "8838c329-24ff-4ced-b54d-ce630740a929",
   "metadata": {},
   "outputs": [],
   "source": [
    "bigmac.index = bigmac.index.set_names(names = [\"Day\", \"Location\"])"
   ]
  },
  {
   "cell_type": "code",
   "execution_count": 77,
   "id": "61d40084-d6da-4ee1-9a82-4f05a3525b1e",
   "metadata": {},
   "outputs": [
    {
     "data": {
      "text/html": [
       "<div>\n",
       "<style scoped>\n",
       "    .dataframe tbody tr th:only-of-type {\n",
       "        vertical-align: middle;\n",
       "    }\n",
       "\n",
       "    .dataframe tbody tr th {\n",
       "        vertical-align: top;\n",
       "    }\n",
       "\n",
       "    .dataframe thead th {\n",
       "        text-align: right;\n",
       "    }\n",
       "</style>\n",
       "<table border=\"1\" class=\"dataframe\">\n",
       "  <thead>\n",
       "    <tr style=\"text-align: right;\">\n",
       "      <th></th>\n",
       "      <th></th>\n",
       "      <th>Price in US Dollars</th>\n",
       "    </tr>\n",
       "    <tr>\n",
       "      <th>Day</th>\n",
       "      <th>Location</th>\n",
       "      <th></th>\n",
       "    </tr>\n",
       "  </thead>\n",
       "  <tbody>\n",
       "    <tr>\n",
       "      <th rowspan=\"3\" valign=\"top\">2010-01-01</th>\n",
       "      <th>Argentina</th>\n",
       "      <td>1.84</td>\n",
       "    </tr>\n",
       "    <tr>\n",
       "      <th>Australia</th>\n",
       "      <td>3.98</td>\n",
       "    </tr>\n",
       "    <tr>\n",
       "      <th>Brazil</th>\n",
       "      <td>4.76</td>\n",
       "    </tr>\n",
       "  </tbody>\n",
       "</table>\n",
       "</div>"
      ],
      "text/plain": [
       "                      Price in US Dollars\n",
       "Day        Location                      \n",
       "2010-01-01 Argentina                 1.84\n",
       "           Australia                 3.98\n",
       "           Brazil                    4.76"
      ]
     },
     "execution_count": 77,
     "metadata": {},
     "output_type": "execute_result"
    }
   ],
   "source": [
    "bigmac.head(3)"
   ]
  },
  {
   "cell_type": "code",
   "execution_count": 78,
   "id": "efc304e2-a856-44d6-8df7-654ec26059da",
   "metadata": {},
   "outputs": [],
   "source": [
    "bigmac.index.set_names(names = [\"Day\", \"Location\"], inplace = True)"
   ]
  },
  {
   "cell_type": "code",
   "execution_count": 79,
   "id": "2022f7f4-9c21-4d1c-a873-6415cf4d17f0",
   "metadata": {},
   "outputs": [
    {
     "data": {
      "text/plain": [
       "MultiIndex([('2010-01-01',      'Argentina'),\n",
       "            ('2010-01-01',      'Australia'),\n",
       "            ('2010-01-01',         'Brazil'),\n",
       "            ('2010-01-01',        'Britain'),\n",
       "            ('2010-01-01',         'Canada'),\n",
       "            ('2010-01-01',          'Chile'),\n",
       "            ('2010-01-01',          'China'),\n",
       "            ('2010-01-01',       'Colombia'),\n",
       "            ('2010-01-01',     'Costa Rica'),\n",
       "            ('2010-01-01', 'Czech Republic'),\n",
       "            ...\n",
       "            ('2016-01-01',    'Switzerland'),\n",
       "            ('2016-01-01',         'Taiwan'),\n",
       "            ('2016-01-01',       'Thailand'),\n",
       "            ('2016-01-01',         'Turkey'),\n",
       "            ('2016-01-01',            'UAE'),\n",
       "            ('2016-01-01',        'Ukraine'),\n",
       "            ('2016-01-01',  'United States'),\n",
       "            ('2016-01-01',        'Uruguay'),\n",
       "            ('2016-01-01',      'Venezuela'),\n",
       "            ('2016-01-01',        'Vietnam')],\n",
       "           names=['Date', 'Location'], length=652)"
      ]
     },
     "execution_count": 79,
     "metadata": {},
     "output_type": "execute_result"
    }
   ],
   "source": [
    "# Como fazemos para alterar o nome de apenas uma camada de indice?\n",
    "\n",
    "bigmac.index.set_names(names = \"Date\", level = 0) # apenas especificamos o \"level\" que gostariamos de alterar no nosso \"index\""
   ]
  },
  {
   "cell_type": "code",
   "execution_count": null,
   "id": "28382f7d-6b2c-4c48-9d25-0f1b40004a86",
   "metadata": {},
   "outputs": [],
   "source": []
  },
  {
   "cell_type": "markdown",
   "id": "3dbbea94-9faf-4e20-92b6-a03112993ec9",
   "metadata": {},
   "source": [
    "## **The ```.sort_index()``` Method on a MultiIndex Dataframe**"
   ]
  },
  {
   "cell_type": "code",
   "execution_count": 85,
   "id": "48de97f5-bd8b-4cdf-a784-ab37f1898b16",
   "metadata": {},
   "outputs": [
    {
     "data": {
      "text/html": [
       "<div>\n",
       "<style scoped>\n",
       "    .dataframe tbody tr th:only-of-type {\n",
       "        vertical-align: middle;\n",
       "    }\n",
       "\n",
       "    .dataframe tbody tr th {\n",
       "        vertical-align: top;\n",
       "    }\n",
       "\n",
       "    .dataframe thead th {\n",
       "        text-align: right;\n",
       "    }\n",
       "</style>\n",
       "<table border=\"1\" class=\"dataframe\">\n",
       "  <thead>\n",
       "    <tr style=\"text-align: right;\">\n",
       "      <th></th>\n",
       "      <th></th>\n",
       "      <th>Price in US Dollars</th>\n",
       "    </tr>\n",
       "    <tr>\n",
       "      <th>Date</th>\n",
       "      <th>Country</th>\n",
       "      <th></th>\n",
       "    </tr>\n",
       "  </thead>\n",
       "  <tbody>\n",
       "    <tr>\n",
       "      <th rowspan=\"3\" valign=\"top\">2016-01-01</th>\n",
       "      <th>Argentina</th>\n",
       "      <td>2.39</td>\n",
       "    </tr>\n",
       "    <tr>\n",
       "      <th>Australia</th>\n",
       "      <td>3.74</td>\n",
       "    </tr>\n",
       "    <tr>\n",
       "      <th>Brazil</th>\n",
       "      <td>3.35</td>\n",
       "    </tr>\n",
       "  </tbody>\n",
       "</table>\n",
       "</div>"
      ],
      "text/plain": [
       "                      Price in US Dollars\n",
       "Date       Country                       \n",
       "2016-01-01 Argentina                 2.39\n",
       "           Australia                 3.74\n",
       "           Brazil                    3.35"
      ]
     },
     "execution_count": 85,
     "metadata": {},
     "output_type": "execute_result"
    }
   ],
   "source": [
    "bigmac = pd.read_csv(\"bigmac.csv\", parse_dates=[\"Date\"], index_col = [\"Date\", \"Country\"])\n",
    "bigmac.head(3)"
   ]
  },
  {
   "cell_type": "code",
   "execution_count": 84,
   "id": "68269dad-02b7-4e79-a967-9b4abaf25ef9",
   "metadata": {},
   "outputs": [
    {
     "data": {
      "text/plain": [
       "2"
      ]
     },
     "execution_count": 84,
     "metadata": {},
     "output_type": "execute_result"
    }
   ],
   "source": [
    "bigmac.index.nlevels"
   ]
  },
  {
   "cell_type": "code",
   "execution_count": 87,
   "id": "b9389120-a910-46e7-b5ce-9b304bd16e00",
   "metadata": {},
   "outputs": [],
   "source": [
    "# podemos ordenar as camadas de indice separadamente:\n",
    "\n",
    "bigmac.sort_index(ascending = [True, False], inplace = True)"
   ]
  },
  {
   "cell_type": "code",
   "execution_count": 91,
   "id": "03163c3c-1f9c-4106-af96-b5b737f15868",
   "metadata": {},
   "outputs": [
    {
     "data": {
      "text/html": [
       "<div>\n",
       "<style scoped>\n",
       "    .dataframe tbody tr th:only-of-type {\n",
       "        vertical-align: middle;\n",
       "    }\n",
       "\n",
       "    .dataframe tbody tr th {\n",
       "        vertical-align: top;\n",
       "    }\n",
       "\n",
       "    .dataframe thead th {\n",
       "        text-align: right;\n",
       "    }\n",
       "</style>\n",
       "<table border=\"1\" class=\"dataframe\">\n",
       "  <thead>\n",
       "    <tr style=\"text-align: right;\">\n",
       "      <th></th>\n",
       "      <th></th>\n",
       "      <th>Price in US Dollars</th>\n",
       "    </tr>\n",
       "    <tr>\n",
       "      <th>Date</th>\n",
       "      <th>Country</th>\n",
       "      <th></th>\n",
       "    </tr>\n",
       "  </thead>\n",
       "  <tbody>\n",
       "    <tr>\n",
       "      <th rowspan=\"5\" valign=\"top\">2010-01-01</th>\n",
       "      <th>Uruguay</th>\n",
       "      <td>3.32</td>\n",
       "    </tr>\n",
       "    <tr>\n",
       "      <th>United States</th>\n",
       "      <td>3.58</td>\n",
       "    </tr>\n",
       "    <tr>\n",
       "      <th>Ukraine</th>\n",
       "      <td>1.83</td>\n",
       "    </tr>\n",
       "    <tr>\n",
       "      <th>UAE</th>\n",
       "      <td>2.99</td>\n",
       "    </tr>\n",
       "    <tr>\n",
       "      <th>Turkey</th>\n",
       "      <td>3.83</td>\n",
       "    </tr>\n",
       "  </tbody>\n",
       "</table>\n",
       "</div>"
      ],
      "text/plain": [
       "                          Price in US Dollars\n",
       "Date       Country                           \n",
       "2010-01-01 Uruguay                       3.32\n",
       "           United States                 3.58\n",
       "           Ukraine                       1.83\n",
       "           UAE                           2.99\n",
       "           Turkey                        3.83"
      ]
     },
     "execution_count": 91,
     "metadata": {},
     "output_type": "execute_result"
    }
   ],
   "source": [
    "bigmac.head()"
   ]
  },
  {
   "cell_type": "code",
   "execution_count": 90,
   "id": "44d64f77-7b26-41e6-ae31-fad8e26fca8d",
   "metadata": {},
   "outputs": [
    {
     "data": {
      "text/html": [
       "<div>\n",
       "<style scoped>\n",
       "    .dataframe tbody tr th:only-of-type {\n",
       "        vertical-align: middle;\n",
       "    }\n",
       "\n",
       "    .dataframe tbody tr th {\n",
       "        vertical-align: top;\n",
       "    }\n",
       "\n",
       "    .dataframe thead th {\n",
       "        text-align: right;\n",
       "    }\n",
       "</style>\n",
       "<table border=\"1\" class=\"dataframe\">\n",
       "  <thead>\n",
       "    <tr style=\"text-align: right;\">\n",
       "      <th></th>\n",
       "      <th></th>\n",
       "      <th>Price in US Dollars</th>\n",
       "    </tr>\n",
       "    <tr>\n",
       "      <th>Date</th>\n",
       "      <th>Country</th>\n",
       "      <th></th>\n",
       "    </tr>\n",
       "  </thead>\n",
       "  <tbody>\n",
       "    <tr>\n",
       "      <th>2010-01-01</th>\n",
       "      <th>Argentina</th>\n",
       "      <td>1.84</td>\n",
       "    </tr>\n",
       "    <tr>\n",
       "      <th>2010-07-01</th>\n",
       "      <th>Argentina</th>\n",
       "      <td>3.56</td>\n",
       "    </tr>\n",
       "    <tr>\n",
       "      <th>2011-07-01</th>\n",
       "      <th>Argentina</th>\n",
       "      <td>4.84</td>\n",
       "    </tr>\n",
       "    <tr>\n",
       "      <th>2012-01-01</th>\n",
       "      <th>Argentina</th>\n",
       "      <td>4.64</td>\n",
       "    </tr>\n",
       "    <tr>\n",
       "      <th>2012-07-01</th>\n",
       "      <th>Argentina</th>\n",
       "      <td>4.16</td>\n",
       "    </tr>\n",
       "    <tr>\n",
       "      <th>...</th>\n",
       "      <th>...</th>\n",
       "      <td>...</td>\n",
       "    </tr>\n",
       "    <tr>\n",
       "      <th>2014-01-01</th>\n",
       "      <th>Vietnam</th>\n",
       "      <td>2.84</td>\n",
       "    </tr>\n",
       "    <tr>\n",
       "      <th>2014-07-01</th>\n",
       "      <th>Vietnam</th>\n",
       "      <td>2.83</td>\n",
       "    </tr>\n",
       "    <tr>\n",
       "      <th>2015-01-01</th>\n",
       "      <th>Vietnam</th>\n",
       "      <td>2.81</td>\n",
       "    </tr>\n",
       "    <tr>\n",
       "      <th>2015-07-01</th>\n",
       "      <th>Vietnam</th>\n",
       "      <td>2.75</td>\n",
       "    </tr>\n",
       "    <tr>\n",
       "      <th>2016-01-01</th>\n",
       "      <th>Vietnam</th>\n",
       "      <td>2.67</td>\n",
       "    </tr>\n",
       "  </tbody>\n",
       "</table>\n",
       "<p>652 rows × 1 columns</p>\n",
       "</div>"
      ],
      "text/plain": [
       "                      Price in US Dollars\n",
       "Date       Country                       \n",
       "2010-01-01 Argentina                 1.84\n",
       "2010-07-01 Argentina                 3.56\n",
       "2011-07-01 Argentina                 4.84\n",
       "2012-01-01 Argentina                 4.64\n",
       "2012-07-01 Argentina                 4.16\n",
       "...                                   ...\n",
       "2014-01-01 Vietnam                   2.84\n",
       "2014-07-01 Vietnam                   2.83\n",
       "2015-01-01 Vietnam                   2.81\n",
       "2015-07-01 Vietnam                   2.75\n",
       "2016-01-01 Vietnam                   2.67\n",
       "\n",
       "[652 rows x 1 columns]"
      ]
     },
     "execution_count": 90,
     "metadata": {},
     "output_type": "execute_result"
    }
   ],
   "source": [
    "# podemos ordenar apenas uma das nossas camadas de indice:\n",
    "\n",
    "bigmac.sort_index(level = \"Country\") # estamos dizendo ao pandas para ordenar apenas os valores do indice especificado em 'level' e ignorar os outros indices"
   ]
  },
  {
   "cell_type": "code",
   "execution_count": null,
   "id": "3d9f05cd-b990-49ee-b538-515006a55c52",
   "metadata": {},
   "outputs": [],
   "source": []
  },
  {
   "cell_type": "markdown",
   "id": "5eff4faf-5ca5-41d4-a381-89ad0c914934",
   "metadata": {},
   "source": [
    "## **Extract Rows from a ```MultiIndex Dataframe```**"
   ]
  },
  {
   "cell_type": "code",
   "execution_count": 92,
   "id": "3683a907-b07c-4ac2-a361-59ec386ca42a",
   "metadata": {},
   "outputs": [
    {
     "data": {
      "text/html": [
       "<div>\n",
       "<style scoped>\n",
       "    .dataframe tbody tr th:only-of-type {\n",
       "        vertical-align: middle;\n",
       "    }\n",
       "\n",
       "    .dataframe tbody tr th {\n",
       "        vertical-align: top;\n",
       "    }\n",
       "\n",
       "    .dataframe thead th {\n",
       "        text-align: right;\n",
       "    }\n",
       "</style>\n",
       "<table border=\"1\" class=\"dataframe\">\n",
       "  <thead>\n",
       "    <tr style=\"text-align: right;\">\n",
       "      <th></th>\n",
       "      <th></th>\n",
       "      <th>Price in US Dollars</th>\n",
       "    </tr>\n",
       "    <tr>\n",
       "      <th>Date</th>\n",
       "      <th>Country</th>\n",
       "      <th></th>\n",
       "    </tr>\n",
       "  </thead>\n",
       "  <tbody>\n",
       "    <tr>\n",
       "      <th rowspan=\"3\" valign=\"top\">2010-01-01</th>\n",
       "      <th>Argentina</th>\n",
       "      <td>1.84</td>\n",
       "    </tr>\n",
       "    <tr>\n",
       "      <th>Australia</th>\n",
       "      <td>3.98</td>\n",
       "    </tr>\n",
       "    <tr>\n",
       "      <th>Brazil</th>\n",
       "      <td>4.76</td>\n",
       "    </tr>\n",
       "  </tbody>\n",
       "</table>\n",
       "</div>"
      ],
      "text/plain": [
       "                      Price in US Dollars\n",
       "Date       Country                       \n",
       "2010-01-01 Argentina                 1.84\n",
       "           Australia                 3.98\n",
       "           Brazil                    4.76"
      ]
     },
     "execution_count": 92,
     "metadata": {},
     "output_type": "execute_result"
    }
   ],
   "source": [
    "bigmac = pd.read_csv(\"bigmac.csv\", parse_dates=[\"Date\"], index_col = [\"Date\", \"Country\"]).sort_index()\n",
    "bigmac.head(3)"
   ]
  },
  {
   "cell_type": "code",
   "execution_count": 95,
   "id": "11874774-183b-4be2-bd68-73b3e15bb5f4",
   "metadata": {},
   "outputs": [
    {
     "data": {
      "text/plain": [
       "Country\n",
       "Argentina         1.84\n",
       "Australia         3.98\n",
       "Brazil            4.76\n",
       "Britain           3.67\n",
       "Canada            3.97\n",
       "Chile             3.18\n",
       "China             1.83\n",
       "Colombia          3.91\n",
       "Costa Rica        3.52\n",
       "Czech Republic    3.71\n",
       "Denmark           5.99\n",
       "Egypt             2.38\n",
       "Euro area         4.84\n",
       "Hong Kong         1.91\n",
       "Hungary           3.86\n",
       "Indonesia         2.24\n",
       "Israel            3.99\n",
       "Japan             3.50\n",
       "Latvia            3.09\n",
       "Lithuania         2.87\n",
       "Malaysia          2.08\n",
       "Mexico            2.50\n",
       "New Zealand       3.61\n",
       "Norway            7.02\n",
       "Pakistan          2.42\n",
       "Peru              2.81\n",
       "Philippines       2.21\n",
       "Poland            2.86\n",
       "Russia            2.34\n",
       "Saudi Arabia      2.67\n",
       "Singapore         3.19\n",
       "South Africa      2.46\n",
       "South Korea       2.98\n",
       "Sri Lanka         1.83\n",
       "Sweden            5.51\n",
       "Switzerland       6.30\n",
       "Taiwan            2.36\n",
       "Thailand          2.11\n",
       "Turkey            3.83\n",
       "UAE               2.99\n",
       "Ukraine           1.83\n",
       "United States     3.58\n",
       "Uruguay           3.32\n",
       "Name: Price in US Dollars, dtype: float64"
      ]
     },
     "execution_count": 95,
     "metadata": {},
     "output_type": "execute_result"
    }
   ],
   "source": [
    "bigmac.loc[\"2010-01-01\", \"Argentina\"] # essa sintaxe é ambígua e confusa porque geralmente o segundo argumento desse método é o nome de uma coluna\n",
    "bigmac.loc[\"2010-01-01\", \"Price in US Dollars\"] # a mesma sintaxe porém com o nome da coluna ao invés do nome do rótulo --> retorna uma Serie Pandas"
   ]
  },
  {
   "cell_type": "markdown",
   "id": "fdedfd2d-4226-42f4-b1fc-f87db3552098",
   "metadata": {},
   "source": [
    "#### Dado o que comentamos acima, a documentação do pandas recomenda que quando tivermos um objeto MultiIndex, e tivermos como objetivo extrairmos valores de registros com base nesses rótulos múltiplos, que o primeiro argumento da propriedade 'loc' encapsule todas as informações do nível do indice e qu o segundo argumento contenha apenas o nome de colunas."
   ]
  },
  {
   "cell_type": "code",
   "execution_count": 97,
   "id": "4842adc1-4cf6-4939-9840-7251abc209fd",
   "metadata": {},
   "outputs": [
    {
     "data": {
      "text/plain": [
       "4.76"
      ]
     },
     "execution_count": 97,
     "metadata": {},
     "output_type": "execute_result"
    }
   ],
   "source": [
    "bigmac.loc[(\"2010-01-01\", \"Brazil\"), \"Price in US Dollars\"]"
   ]
  },
  {
   "cell_type": "code",
   "execution_count": 105,
   "id": "9205d2e3-2306-4f72-9bb6-22a13e41782f",
   "metadata": {
    "tags": []
   },
   "outputs": [
    {
     "data": {
      "text/html": [
       "<div>\n",
       "<style scoped>\n",
       "    .dataframe tbody tr th:only-of-type {\n",
       "        vertical-align: middle;\n",
       "    }\n",
       "\n",
       "    .dataframe tbody tr th {\n",
       "        vertical-align: top;\n",
       "    }\n",
       "\n",
       "    .dataframe thead th {\n",
       "        text-align: right;\n",
       "    }\n",
       "</style>\n",
       "<table border=\"1\" class=\"dataframe\">\n",
       "  <thead>\n",
       "    <tr style=\"text-align: right;\">\n",
       "      <th></th>\n",
       "      <th></th>\n",
       "      <th>Price in US Dollars</th>\n",
       "    </tr>\n",
       "    <tr>\n",
       "      <th>Date</th>\n",
       "      <th>Country</th>\n",
       "      <th></th>\n",
       "    </tr>\n",
       "  </thead>\n",
       "  <tbody>\n",
       "    <tr>\n",
       "      <th rowspan=\"5\" valign=\"top\">2010-01-01</th>\n",
       "      <th>Argentina</th>\n",
       "      <td>1.84</td>\n",
       "    </tr>\n",
       "    <tr>\n",
       "      <th>Australia</th>\n",
       "      <td>3.98</td>\n",
       "    </tr>\n",
       "    <tr>\n",
       "      <th>Brazil</th>\n",
       "      <td>4.76</td>\n",
       "    </tr>\n",
       "    <tr>\n",
       "      <th>Britain</th>\n",
       "      <td>3.67</td>\n",
       "    </tr>\n",
       "    <tr>\n",
       "      <th>Canada</th>\n",
       "      <td>3.97</td>\n",
       "    </tr>\n",
       "    <tr>\n",
       "      <th>...</th>\n",
       "      <th>...</th>\n",
       "      <td>...</td>\n",
       "    </tr>\n",
       "    <tr>\n",
       "      <th rowspan=\"3\" valign=\"top\">2011-07-01</th>\n",
       "      <th>United States</th>\n",
       "      <td>4.07</td>\n",
       "    </tr>\n",
       "    <tr>\n",
       "      <th>Uruguay</th>\n",
       "      <td>4.88</td>\n",
       "    </tr>\n",
       "    <tr>\n",
       "      <th>Venezuela</th>\n",
       "      <td>6.52</td>\n",
       "    </tr>\n",
       "    <tr>\n",
       "      <th rowspan=\"2\" valign=\"top\">2012-01-01</th>\n",
       "      <th>Argentina</th>\n",
       "      <td>4.64</td>\n",
       "    </tr>\n",
       "    <tr>\n",
       "      <th>Australia</th>\n",
       "      <td>4.94</td>\n",
       "    </tr>\n",
       "  </tbody>\n",
       "</table>\n",
       "<p>145 rows × 1 columns</p>\n",
       "</div>"
      ],
      "text/plain": [
       "                          Price in US Dollars\n",
       "Date       Country                           \n",
       "2010-01-01 Argentina                     1.84\n",
       "           Australia                     3.98\n",
       "           Brazil                        4.76\n",
       "           Britain                       3.67\n",
       "           Canada                        3.97\n",
       "...                                       ...\n",
       "2011-07-01 United States                 4.07\n",
       "           Uruguay                       4.88\n",
       "           Venezuela                     6.52\n",
       "2012-01-01 Argentina                     4.64\n",
       "           Australia                     4.94\n",
       "\n",
       "[145 rows x 1 columns]"
      ]
     },
     "execution_count": 105,
     "metadata": {},
     "output_type": "execute_result"
    }
   ],
   "source": [
    "# Existe uma difença entre filtrar uma tupla e apenas um valor entre parênteses (ou não :p):\n",
    "\n",
    "bigmac.loc[(\"2010-01-01\", \"Argentina\"):(\"2012-01-01\", \"Australia\")]"
   ]
  },
  {
   "cell_type": "code",
   "execution_count": null,
   "id": "03cd3c4b-dced-465c-8adc-9154c812a623",
   "metadata": {},
   "outputs": [],
   "source": [
    "bigmac.iloc[]"
   ]
  },
  {
   "cell_type": "code",
   "execution_count": null,
   "id": "4704870d-dd90-4976-b317-a217088b4847",
   "metadata": {
    "tags": []
   },
   "outputs": [],
   "source": []
  },
  {
   "cell_type": "markdown",
   "id": "6db99c3b-8d86-4fa3-93f3-4c5e73101d11",
   "metadata": {},
   "source": [
    "## **The ```transpose``` Method**"
   ]
  },
  {
   "cell_type": "code",
   "execution_count": 112,
   "id": "28fba4f7-4cbd-47e6-8211-da780e06f065",
   "metadata": {},
   "outputs": [
    {
     "data": {
      "text/html": [
       "<div>\n",
       "<style scoped>\n",
       "    .dataframe tbody tr th:only-of-type {\n",
       "        vertical-align: middle;\n",
       "    }\n",
       "\n",
       "    .dataframe tbody tr th {\n",
       "        vertical-align: top;\n",
       "    }\n",
       "\n",
       "    .dataframe thead th {\n",
       "        text-align: right;\n",
       "    }\n",
       "</style>\n",
       "<table border=\"1\" class=\"dataframe\">\n",
       "  <thead>\n",
       "    <tr style=\"text-align: right;\">\n",
       "      <th></th>\n",
       "      <th></th>\n",
       "      <th>Price in US Dollars</th>\n",
       "    </tr>\n",
       "    <tr>\n",
       "      <th>Date</th>\n",
       "      <th>Country</th>\n",
       "      <th></th>\n",
       "    </tr>\n",
       "  </thead>\n",
       "  <tbody>\n",
       "    <tr>\n",
       "      <th rowspan=\"3\" valign=\"top\">2010-01-01</th>\n",
       "      <th>Argentina</th>\n",
       "      <td>1.84</td>\n",
       "    </tr>\n",
       "    <tr>\n",
       "      <th>Australia</th>\n",
       "      <td>3.98</td>\n",
       "    </tr>\n",
       "    <tr>\n",
       "      <th>Brazil</th>\n",
       "      <td>4.76</td>\n",
       "    </tr>\n",
       "  </tbody>\n",
       "</table>\n",
       "</div>"
      ],
      "text/plain": [
       "                      Price in US Dollars\n",
       "Date       Country                       \n",
       "2010-01-01 Argentina                 1.84\n",
       "           Australia                 3.98\n",
       "           Brazil                    4.76"
      ]
     },
     "execution_count": 112,
     "metadata": {},
     "output_type": "execute_result"
    }
   ],
   "source": [
    "bigmac = pd.read_csv(\"bigmac.csv\", parse_dates=[\"Date\"], index_col = [\"Date\", \"Country\"]).sort_index()\n",
    "bigmac.head(3)"
   ]
  },
  {
   "cell_type": "code",
   "execution_count": 118,
   "id": "f1a7809a-f318-4887-a76e-9cf6cc1af8ce",
   "metadata": {},
   "outputs": [
    {
     "data": {
      "text/html": [
       "<div>\n",
       "<style scoped>\n",
       "    .dataframe tbody tr th:only-of-type {\n",
       "        vertical-align: middle;\n",
       "    }\n",
       "\n",
       "    .dataframe tbody tr th {\n",
       "        vertical-align: top;\n",
       "    }\n",
       "\n",
       "    .dataframe thead tr th {\n",
       "        text-align: left;\n",
       "    }\n",
       "</style>\n",
       "<table border=\"1\" class=\"dataframe\">\n",
       "  <thead>\n",
       "    <tr>\n",
       "      <th>Date</th>\n",
       "      <th colspan=\"10\" halign=\"left\">2010-01-01</th>\n",
       "      <th>...</th>\n",
       "      <th colspan=\"10\" halign=\"left\">2016-01-01</th>\n",
       "    </tr>\n",
       "    <tr>\n",
       "      <th>Country</th>\n",
       "      <th>Argentina</th>\n",
       "      <th>Australia</th>\n",
       "      <th>Brazil</th>\n",
       "      <th>Britain</th>\n",
       "      <th>Canada</th>\n",
       "      <th>Chile</th>\n",
       "      <th>China</th>\n",
       "      <th>Colombia</th>\n",
       "      <th>Costa Rica</th>\n",
       "      <th>Czech Republic</th>\n",
       "      <th>...</th>\n",
       "      <th>Switzerland</th>\n",
       "      <th>Taiwan</th>\n",
       "      <th>Thailand</th>\n",
       "      <th>Turkey</th>\n",
       "      <th>UAE</th>\n",
       "      <th>Ukraine</th>\n",
       "      <th>United States</th>\n",
       "      <th>Uruguay</th>\n",
       "      <th>Venezuela</th>\n",
       "      <th>Vietnam</th>\n",
       "    </tr>\n",
       "  </thead>\n",
       "  <tbody>\n",
       "    <tr>\n",
       "      <th>Price in US Dollars</th>\n",
       "      <td>1.84</td>\n",
       "      <td>3.98</td>\n",
       "      <td>4.76</td>\n",
       "      <td>3.67</td>\n",
       "      <td>3.97</td>\n",
       "      <td>3.18</td>\n",
       "      <td>1.83</td>\n",
       "      <td>3.91</td>\n",
       "      <td>3.52</td>\n",
       "      <td>3.71</td>\n",
       "      <td>...</td>\n",
       "      <td>6.44</td>\n",
       "      <td>2.08</td>\n",
       "      <td>3.09</td>\n",
       "      <td>3.41</td>\n",
       "      <td>3.54</td>\n",
       "      <td>1.54</td>\n",
       "      <td>4.93</td>\n",
       "      <td>3.74</td>\n",
       "      <td>0.66</td>\n",
       "      <td>2.67</td>\n",
       "    </tr>\n",
       "  </tbody>\n",
       "</table>\n",
       "<p>1 rows × 652 columns</p>\n",
       "</div>"
      ],
      "text/plain": [
       "Date                2010-01-01                                              \\\n",
       "Country              Argentina Australia Brazil Britain Canada Chile China   \n",
       "Price in US Dollars       1.84      3.98   4.76    3.67   3.97  3.18  1.83   \n",
       "\n",
       "Date                                                    ...  2016-01-01  \\\n",
       "Country             Colombia Costa Rica Czech Republic  ... Switzerland   \n",
       "Price in US Dollars     3.91       3.52           3.71  ...        6.44   \n",
       "\n",
       "Date                                                                    \\\n",
       "Country             Taiwan Thailand Turkey   UAE Ukraine United States   \n",
       "Price in US Dollars   2.08     3.09   3.41  3.54    1.54          4.93   \n",
       "\n",
       "Date                                           \n",
       "Country             Uruguay Venezuela Vietnam  \n",
       "Price in US Dollars    3.74      0.66    2.67  \n",
       "\n",
       "[1 rows x 652 columns]"
      ]
     },
     "execution_count": 118,
     "metadata": {},
     "output_type": "execute_result"
    }
   ],
   "source": [
    "bigmac = bigmac.T # pega as colunas do dataframe e transforma em indices e os indices em colunas\n",
    "bigmac.head()"
   ]
  },
  {
   "cell_type": "code",
   "execution_count": 124,
   "id": "0937b2d8-11dd-4965-b561-c9abf284549c",
   "metadata": {},
   "outputs": [
    {
     "data": {
      "text/html": [
       "<div>\n",
       "<style scoped>\n",
       "    .dataframe tbody tr th:only-of-type {\n",
       "        vertical-align: middle;\n",
       "    }\n",
       "\n",
       "    .dataframe tbody tr th {\n",
       "        vertical-align: top;\n",
       "    }\n",
       "\n",
       "    .dataframe thead tr th {\n",
       "        text-align: left;\n",
       "    }\n",
       "</style>\n",
       "<table border=\"1\" class=\"dataframe\">\n",
       "  <thead>\n",
       "    <tr>\n",
       "      <th>Date</th>\n",
       "      <th colspan=\"7\" halign=\"left\">2010-01-01</th>\n",
       "    </tr>\n",
       "    <tr>\n",
       "      <th>Country</th>\n",
       "      <th>Brazil</th>\n",
       "      <th>Britain</th>\n",
       "      <th>Canada</th>\n",
       "      <th>Chile</th>\n",
       "      <th>China</th>\n",
       "      <th>Colombia</th>\n",
       "      <th>Costa Rica</th>\n",
       "    </tr>\n",
       "  </thead>\n",
       "  <tbody>\n",
       "    <tr>\n",
       "      <th>Price in US Dollars</th>\n",
       "      <td>4.76</td>\n",
       "      <td>3.67</td>\n",
       "      <td>3.97</td>\n",
       "      <td>3.18</td>\n",
       "      <td>1.83</td>\n",
       "      <td>3.91</td>\n",
       "      <td>3.52</td>\n",
       "    </tr>\n",
       "  </tbody>\n",
       "</table>\n",
       "</div>"
      ],
      "text/plain": [
       "Date                2010-01-01                                               \n",
       "Country                 Brazil Britain Canada Chile China Colombia Costa Rica\n",
       "Price in US Dollars       4.76    3.67   3.97  3.18  1.83     3.91       3.52"
      ]
     },
     "execution_count": 124,
     "metadata": {},
     "output_type": "execute_result"
    }
   ],
   "source": [
    "bigmac.loc[(\"Price in US Dollars\",), (\"2010-01-01\", \"Brazil\"):(\"2010-01-01\", \"Costa Rica\")] # agora temos indices múltiplos em nossas colunas"
   ]
  },
  {
   "cell_type": "code",
   "execution_count": null,
   "id": "beaebcd4-2ffb-4bf7-a9f0-171e7b813233",
   "metadata": {},
   "outputs": [],
   "source": []
  },
  {
   "cell_type": "markdown",
   "id": "130dcee7-6fbe-4c8f-a21e-9478bbae2892",
   "metadata": {},
   "source": [
    "## **The ```swaplevel``` Method**"
   ]
  },
  {
   "cell_type": "code",
   "execution_count": 125,
   "id": "a1612cc1-8a06-43ff-80a2-aa659aeb81c8",
   "metadata": {},
   "outputs": [
    {
     "data": {
      "text/html": [
       "<div>\n",
       "<style scoped>\n",
       "    .dataframe tbody tr th:only-of-type {\n",
       "        vertical-align: middle;\n",
       "    }\n",
       "\n",
       "    .dataframe tbody tr th {\n",
       "        vertical-align: top;\n",
       "    }\n",
       "\n",
       "    .dataframe thead th {\n",
       "        text-align: right;\n",
       "    }\n",
       "</style>\n",
       "<table border=\"1\" class=\"dataframe\">\n",
       "  <thead>\n",
       "    <tr style=\"text-align: right;\">\n",
       "      <th></th>\n",
       "      <th></th>\n",
       "      <th>Price in US Dollars</th>\n",
       "    </tr>\n",
       "    <tr>\n",
       "      <th>Date</th>\n",
       "      <th>Country</th>\n",
       "      <th></th>\n",
       "    </tr>\n",
       "  </thead>\n",
       "  <tbody>\n",
       "    <tr>\n",
       "      <th rowspan=\"4\" valign=\"top\">2010-01-01</th>\n",
       "      <th>Argentina</th>\n",
       "      <td>1.84</td>\n",
       "    </tr>\n",
       "    <tr>\n",
       "      <th>Australia</th>\n",
       "      <td>3.98</td>\n",
       "    </tr>\n",
       "    <tr>\n",
       "      <th>Brazil</th>\n",
       "      <td>4.76</td>\n",
       "    </tr>\n",
       "    <tr>\n",
       "      <th>Britain</th>\n",
       "      <td>3.67</td>\n",
       "    </tr>\n",
       "  </tbody>\n",
       "</table>\n",
       "</div>"
      ],
      "text/plain": [
       "                      Price in US Dollars\n",
       "Date       Country                       \n",
       "2010-01-01 Argentina                 1.84\n",
       "           Australia                 3.98\n",
       "           Brazil                    4.76\n",
       "           Britain                   3.67"
      ]
     },
     "execution_count": 125,
     "metadata": {},
     "output_type": "execute_result"
    }
   ],
   "source": [
    "bigmac = pd.read_csv(\"bigmac.csv\", parse_dates = [\"Date\"], index_col = [\"Date\", \"Country\"]).sort_index()\n",
    "bigmac.head(4)"
   ]
  },
  {
   "cell_type": "code",
   "execution_count": 130,
   "id": "9b5c64fd-22af-4575-9162-961d36f7ba78",
   "metadata": {},
   "outputs": [],
   "source": [
    "bigmac.index = bigmac.swaplevel().index # inverte a ordem os indices múltiplos"
   ]
  },
  {
   "cell_type": "code",
   "execution_count": 131,
   "id": "3e427736-c60f-430f-a075-f43142017085",
   "metadata": {},
   "outputs": [
    {
     "data": {
      "text/html": [
       "<div>\n",
       "<style scoped>\n",
       "    .dataframe tbody tr th:only-of-type {\n",
       "        vertical-align: middle;\n",
       "    }\n",
       "\n",
       "    .dataframe tbody tr th {\n",
       "        vertical-align: top;\n",
       "    }\n",
       "\n",
       "    .dataframe thead th {\n",
       "        text-align: right;\n",
       "    }\n",
       "</style>\n",
       "<table border=\"1\" class=\"dataframe\">\n",
       "  <thead>\n",
       "    <tr style=\"text-align: right;\">\n",
       "      <th></th>\n",
       "      <th></th>\n",
       "      <th>Price in US Dollars</th>\n",
       "    </tr>\n",
       "    <tr>\n",
       "      <th>Date</th>\n",
       "      <th>Country</th>\n",
       "      <th></th>\n",
       "    </tr>\n",
       "  </thead>\n",
       "  <tbody>\n",
       "    <tr>\n",
       "      <th rowspan=\"3\" valign=\"top\">2010-01-01</th>\n",
       "      <th>Argentina</th>\n",
       "      <td>1.84</td>\n",
       "    </tr>\n",
       "    <tr>\n",
       "      <th>Australia</th>\n",
       "      <td>3.98</td>\n",
       "    </tr>\n",
       "    <tr>\n",
       "      <th>Brazil</th>\n",
       "      <td>4.76</td>\n",
       "    </tr>\n",
       "  </tbody>\n",
       "</table>\n",
       "</div>"
      ],
      "text/plain": [
       "                      Price in US Dollars\n",
       "Date       Country                       \n",
       "2010-01-01 Argentina                 1.84\n",
       "           Australia                 3.98\n",
       "           Brazil                    4.76"
      ]
     },
     "execution_count": 131,
     "metadata": {},
     "output_type": "execute_result"
    }
   ],
   "source": [
    "bigmac.head(3)"
   ]
  },
  {
   "cell_type": "code",
   "execution_count": 132,
   "id": "2e101d66-b5b9-491c-841c-252ef66cd3ef",
   "metadata": {},
   "outputs": [
    {
     "data": {
      "text/html": [
       "<div>\n",
       "<style scoped>\n",
       "    .dataframe tbody tr th:only-of-type {\n",
       "        vertical-align: middle;\n",
       "    }\n",
       "\n",
       "    .dataframe tbody tr th {\n",
       "        vertical-align: top;\n",
       "    }\n",
       "\n",
       "    .dataframe thead th {\n",
       "        text-align: right;\n",
       "    }\n",
       "</style>\n",
       "<table border=\"1\" class=\"dataframe\">\n",
       "  <thead>\n",
       "    <tr style=\"text-align: right;\">\n",
       "      <th></th>\n",
       "      <th></th>\n",
       "      <th>Price in US Dollars</th>\n",
       "    </tr>\n",
       "    <tr>\n",
       "      <th>Country</th>\n",
       "      <th>Date</th>\n",
       "      <th></th>\n",
       "    </tr>\n",
       "  </thead>\n",
       "  <tbody>\n",
       "    <tr>\n",
       "      <th>Argentina</th>\n",
       "      <th>2010-01-01</th>\n",
       "      <td>1.84</td>\n",
       "    </tr>\n",
       "    <tr>\n",
       "      <th>Australia</th>\n",
       "      <th>2010-01-01</th>\n",
       "      <td>3.98</td>\n",
       "    </tr>\n",
       "    <tr>\n",
       "      <th>Brazil</th>\n",
       "      <th>2010-01-01</th>\n",
       "      <td>4.76</td>\n",
       "    </tr>\n",
       "    <tr>\n",
       "      <th>Britain</th>\n",
       "      <th>2010-01-01</th>\n",
       "      <td>3.67</td>\n",
       "    </tr>\n",
       "    <tr>\n",
       "      <th>Canada</th>\n",
       "      <th>2010-01-01</th>\n",
       "      <td>3.97</td>\n",
       "    </tr>\n",
       "    <tr>\n",
       "      <th>...</th>\n",
       "      <th>...</th>\n",
       "      <td>...</td>\n",
       "    </tr>\n",
       "    <tr>\n",
       "      <th>Ukraine</th>\n",
       "      <th>2016-01-01</th>\n",
       "      <td>1.54</td>\n",
       "    </tr>\n",
       "    <tr>\n",
       "      <th>United States</th>\n",
       "      <th>2016-01-01</th>\n",
       "      <td>4.93</td>\n",
       "    </tr>\n",
       "    <tr>\n",
       "      <th>Uruguay</th>\n",
       "      <th>2016-01-01</th>\n",
       "      <td>3.74</td>\n",
       "    </tr>\n",
       "    <tr>\n",
       "      <th>Venezuela</th>\n",
       "      <th>2016-01-01</th>\n",
       "      <td>0.66</td>\n",
       "    </tr>\n",
       "    <tr>\n",
       "      <th>Vietnam</th>\n",
       "      <th>2016-01-01</th>\n",
       "      <td>2.67</td>\n",
       "    </tr>\n",
       "  </tbody>\n",
       "</table>\n",
       "<p>652 rows × 1 columns</p>\n",
       "</div>"
      ],
      "text/plain": [
       "                          Price in US Dollars\n",
       "Country       Date                           \n",
       "Argentina     2010-01-01                 1.84\n",
       "Australia     2010-01-01                 3.98\n",
       "Brazil        2010-01-01                 4.76\n",
       "Britain       2010-01-01                 3.67\n",
       "Canada        2010-01-01                 3.97\n",
       "...                                       ...\n",
       "Ukraine       2016-01-01                 1.54\n",
       "United States 2016-01-01                 4.93\n",
       "Uruguay       2016-01-01                 3.74\n",
       "Venezuela     2016-01-01                 0.66\n",
       "Vietnam       2016-01-01                 2.67\n",
       "\n",
       "[652 rows x 1 columns]"
      ]
     },
     "execution_count": 132,
     "metadata": {},
     "output_type": "execute_result"
    }
   ],
   "source": [
    "bigmac.swaplevel(i = \"Date\", j = \"Country\") # os argumentos são os rótulos que queremos inverter"
   ]
  },
  {
   "cell_type": "code",
   "execution_count": null,
   "id": "646c47d2-f211-4abf-9bc4-57aec1a6f74b",
   "metadata": {},
   "outputs": [],
   "source": []
  },
  {
   "cell_type": "markdown",
   "id": "c6c4588c-1ccd-4b19-ade9-cc688714a245",
   "metadata": {},
   "source": [
    "## **The ```.stack()``` Method**"
   ]
  },
  {
   "cell_type": "code",
   "execution_count": 141,
   "id": "34baf58e-43c4-4422-806b-01e5e5b0983d",
   "metadata": {},
   "outputs": [
    {
     "data": {
      "text/html": [
       "<div>\n",
       "<style scoped>\n",
       "    .dataframe tbody tr th:only-of-type {\n",
       "        vertical-align: middle;\n",
       "    }\n",
       "\n",
       "    .dataframe tbody tr th {\n",
       "        vertical-align: top;\n",
       "    }\n",
       "\n",
       "    .dataframe thead th {\n",
       "        text-align: right;\n",
       "    }\n",
       "</style>\n",
       "<table border=\"1\" class=\"dataframe\">\n",
       "  <thead>\n",
       "    <tr style=\"text-align: right;\">\n",
       "      <th></th>\n",
       "      <th></th>\n",
       "      <th>Population</th>\n",
       "      <th>GDP</th>\n",
       "    </tr>\n",
       "    <tr>\n",
       "      <th>country</th>\n",
       "      <th>year</th>\n",
       "      <th></th>\n",
       "      <th></th>\n",
       "    </tr>\n",
       "  </thead>\n",
       "  <tbody>\n",
       "    <tr>\n",
       "      <th rowspan=\"5\" valign=\"top\">Arab World</th>\n",
       "      <th>2015-01-01</th>\n",
       "      <td>392022276.0</td>\n",
       "      <td>2.530102e+12</td>\n",
       "    </tr>\n",
       "    <tr>\n",
       "      <th>2014-01-01</th>\n",
       "      <td>384222592.0</td>\n",
       "      <td>2.873600e+12</td>\n",
       "    </tr>\n",
       "    <tr>\n",
       "      <th>2013-01-01</th>\n",
       "      <td>376504253.0</td>\n",
       "      <td>2.846994e+12</td>\n",
       "    </tr>\n",
       "    <tr>\n",
       "      <th>2012-01-01</th>\n",
       "      <td>368802611.0</td>\n",
       "      <td>2.773270e+12</td>\n",
       "    </tr>\n",
       "    <tr>\n",
       "      <th>2011-01-01</th>\n",
       "      <td>361031820.0</td>\n",
       "      <td>2.497945e+12</td>\n",
       "    </tr>\n",
       "  </tbody>\n",
       "</table>\n",
       "</div>"
      ],
      "text/plain": [
       "                        Population           GDP\n",
       "country    year                                 \n",
       "Arab World 2015-01-01  392022276.0  2.530102e+12\n",
       "           2014-01-01  384222592.0  2.873600e+12\n",
       "           2013-01-01  376504253.0  2.846994e+12\n",
       "           2012-01-01  368802611.0  2.773270e+12\n",
       "           2011-01-01  361031820.0  2.497945e+12"
      ]
     },
     "execution_count": 141,
     "metadata": {},
     "output_type": "execute_result"
    }
   ],
   "source": [
    "stats = pd.read_csv(\"worldstats.csv\", parse_dates = [\"year\"], index_col = [\"country\", \"year\"])\n",
    "# nesse caso faz sentido agrupar por pais porque cada pais tem vários registros para anos diferentes (então acaba repetindo menos valores do que as datas)\n",
    "stats.head()"
   ]
  },
  {
   "cell_type": "markdown",
   "id": "3af4644c-c289-4802-b4d1-6e1b3da869f6",
   "metadata": {},
   "source": [
    "Colunas ainda são indices na posição 0"
   ]
  },
  {
   "cell_type": "code",
   "execution_count": 147,
   "id": "94cd6f7d-7633-4544-a937-43e16890c3be",
   "metadata": {},
   "outputs": [
    {
     "data": {
      "text/plain": [
       "country     year                  \n",
       "Arab World  2015-01-01  Population    3.920223e+08\n",
       "                        GDP           2.530102e+12\n",
       "            2014-01-01  Population    3.842226e+08\n",
       "                        GDP           2.873600e+12\n",
       "            2013-01-01  Population    3.765043e+08\n",
       "                                          ...     \n",
       "Zimbabwe    1962-01-01  GDP           1.117602e+09\n",
       "            1961-01-01  Population    3.876638e+06\n",
       "                        GDP           1.096647e+09\n",
       "            1960-01-01  Population    3.752390e+06\n",
       "                        GDP           1.052990e+09\n",
       "Length: 22422, dtype: float64"
      ]
     },
     "execution_count": 147,
     "metadata": {},
     "output_type": "execute_result"
    }
   ],
   "source": [
    "stats.stack() \n",
    "\n",
    "# empilha as colunas em indices para cada combinação única de rótulos de indice + rótulos de colunas para obter valores empilhados\n",
    "# Não estamos mudando os dados do nosso Dataframe, estamos apenas olhando para ele de uma perspectiva diferente\n",
    "# Além de estarmos duplicando a quantidade de registros no nosso Dataframe\n",
    "# Estamos também transformando o nosso conjunto de dados em um objeto unidimensional"
   ]
  },
  {
   "cell_type": "code",
   "execution_count": 148,
   "id": "e0abc2d7-db01-4a69-a157-50211ea94de0",
   "metadata": {},
   "outputs": [
    {
     "data": {
      "text/html": [
       "<div>\n",
       "<style scoped>\n",
       "    .dataframe tbody tr th:only-of-type {\n",
       "        vertical-align: middle;\n",
       "    }\n",
       "\n",
       "    .dataframe tbody tr th {\n",
       "        vertical-align: top;\n",
       "    }\n",
       "\n",
       "    .dataframe thead th {\n",
       "        text-align: right;\n",
       "    }\n",
       "</style>\n",
       "<table border=\"1\" class=\"dataframe\">\n",
       "  <thead>\n",
       "    <tr style=\"text-align: right;\">\n",
       "      <th></th>\n",
       "      <th></th>\n",
       "      <th></th>\n",
       "      <th>0</th>\n",
       "    </tr>\n",
       "    <tr>\n",
       "      <th>country</th>\n",
       "      <th>year</th>\n",
       "      <th></th>\n",
       "      <th></th>\n",
       "    </tr>\n",
       "  </thead>\n",
       "  <tbody>\n",
       "    <tr>\n",
       "      <th rowspan=\"5\" valign=\"top\">Arab World</th>\n",
       "      <th rowspan=\"2\" valign=\"top\">2015-01-01</th>\n",
       "      <th>Population</th>\n",
       "      <td>3.920223e+08</td>\n",
       "    </tr>\n",
       "    <tr>\n",
       "      <th>GDP</th>\n",
       "      <td>2.530102e+12</td>\n",
       "    </tr>\n",
       "    <tr>\n",
       "      <th rowspan=\"2\" valign=\"top\">2014-01-01</th>\n",
       "      <th>Population</th>\n",
       "      <td>3.842226e+08</td>\n",
       "    </tr>\n",
       "    <tr>\n",
       "      <th>GDP</th>\n",
       "      <td>2.873600e+12</td>\n",
       "    </tr>\n",
       "    <tr>\n",
       "      <th>2013-01-01</th>\n",
       "      <th>Population</th>\n",
       "      <td>3.765043e+08</td>\n",
       "    </tr>\n",
       "    <tr>\n",
       "      <th>...</th>\n",
       "      <th>...</th>\n",
       "      <th>...</th>\n",
       "      <td>...</td>\n",
       "    </tr>\n",
       "    <tr>\n",
       "      <th rowspan=\"5\" valign=\"top\">Zimbabwe</th>\n",
       "      <th>1962-01-01</th>\n",
       "      <th>GDP</th>\n",
       "      <td>1.117602e+09</td>\n",
       "    </tr>\n",
       "    <tr>\n",
       "      <th rowspan=\"2\" valign=\"top\">1961-01-01</th>\n",
       "      <th>Population</th>\n",
       "      <td>3.876638e+06</td>\n",
       "    </tr>\n",
       "    <tr>\n",
       "      <th>GDP</th>\n",
       "      <td>1.096647e+09</td>\n",
       "    </tr>\n",
       "    <tr>\n",
       "      <th rowspan=\"2\" valign=\"top\">1960-01-01</th>\n",
       "      <th>Population</th>\n",
       "      <td>3.752390e+06</td>\n",
       "    </tr>\n",
       "    <tr>\n",
       "      <th>GDP</th>\n",
       "      <td>1.052990e+09</td>\n",
       "    </tr>\n",
       "  </tbody>\n",
       "</table>\n",
       "<p>22422 rows × 1 columns</p>\n",
       "</div>"
      ],
      "text/plain": [
       "                                             0\n",
       "country    year                               \n",
       "Arab World 2015-01-01 Population  3.920223e+08\n",
       "                      GDP         2.530102e+12\n",
       "           2014-01-01 Population  3.842226e+08\n",
       "                      GDP         2.873600e+12\n",
       "           2013-01-01 Population  3.765043e+08\n",
       "...                                        ...\n",
       "Zimbabwe   1962-01-01 GDP         1.117602e+09\n",
       "           1961-01-01 Population  3.876638e+06\n",
       "                      GDP         1.096647e+09\n",
       "           1960-01-01 Population  3.752390e+06\n",
       "                      GDP         1.052990e+09\n",
       "\n",
       "[22422 rows x 1 columns]"
      ]
     },
     "execution_count": 148,
     "metadata": {},
     "output_type": "execute_result"
    }
   ],
   "source": [
    "stats.stack().to_frame()"
   ]
  },
  {
   "cell_type": "markdown",
   "id": "2ae61183-e3a4-437a-b00a-7a0719f6cf42",
   "metadata": {},
   "source": [
    "## **The ```.unstack()``` Method, Part 1**"
   ]
  },
  {
   "cell_type": "code",
   "execution_count": 149,
   "id": "551f5790-db18-4cfe-95f7-09a03ec9d58a",
   "metadata": {},
   "outputs": [
    {
     "data": {
      "text/html": [
       "<div>\n",
       "<style scoped>\n",
       "    .dataframe tbody tr th:only-of-type {\n",
       "        vertical-align: middle;\n",
       "    }\n",
       "\n",
       "    .dataframe tbody tr th {\n",
       "        vertical-align: top;\n",
       "    }\n",
       "\n",
       "    .dataframe thead th {\n",
       "        text-align: right;\n",
       "    }\n",
       "</style>\n",
       "<table border=\"1\" class=\"dataframe\">\n",
       "  <thead>\n",
       "    <tr style=\"text-align: right;\">\n",
       "      <th></th>\n",
       "      <th></th>\n",
       "      <th>Population</th>\n",
       "      <th>GDP</th>\n",
       "    </tr>\n",
       "    <tr>\n",
       "      <th>country</th>\n",
       "      <th>year</th>\n",
       "      <th></th>\n",
       "      <th></th>\n",
       "    </tr>\n",
       "  </thead>\n",
       "  <tbody>\n",
       "    <tr>\n",
       "      <th rowspan=\"3\" valign=\"top\">Afghanistan</th>\n",
       "      <th>1960</th>\n",
       "      <td>8994793.0</td>\n",
       "      <td>5.377778e+08</td>\n",
       "    </tr>\n",
       "    <tr>\n",
       "      <th>1961</th>\n",
       "      <td>9164945.0</td>\n",
       "      <td>5.488889e+08</td>\n",
       "    </tr>\n",
       "    <tr>\n",
       "      <th>1962</th>\n",
       "      <td>9343772.0</td>\n",
       "      <td>5.466667e+08</td>\n",
       "    </tr>\n",
       "  </tbody>\n",
       "</table>\n",
       "</div>"
      ],
      "text/plain": [
       "                  Population           GDP\n",
       "country     year                          \n",
       "Afghanistan 1960   8994793.0  5.377778e+08\n",
       "            1961   9164945.0  5.488889e+08\n",
       "            1962   9343772.0  5.466667e+08"
      ]
     },
     "execution_count": 149,
     "metadata": {},
     "output_type": "execute_result"
    }
   ],
   "source": [
    "world = pd.read_csv(\"worldstats.csv\", index_col = [\"country\", \"year\"]).sort_index()\n",
    "world.head(3)"
   ]
  },
  {
   "cell_type": "code",
   "execution_count": 155,
   "id": "abe06fe1-0ad2-4b19-af66-4b07534b3a2d",
   "metadata": {},
   "outputs": [
    {
     "data": {
      "text/plain": [
       "country      year            \n",
       "Afghanistan  1960  Population    8.994793e+06\n",
       "                   GDP           5.377778e+08\n",
       "dtype: float64"
      ]
     },
     "execution_count": 155,
     "metadata": {},
     "output_type": "execute_result"
    }
   ],
   "source": [
    "s = world.stack()\n",
    "s.head(2)"
   ]
  },
  {
   "cell_type": "code",
   "execution_count": 160,
   "id": "810fb7dd-ef69-49f5-8a6f-b19d860666ef",
   "metadata": {},
   "outputs": [
    {
     "data": {
      "text/plain": [
       "            year  country           \n",
       "Population  1960  Afghanistan           8.994793e+06\n",
       "                  Albania                        NaN\n",
       "                  Algeria               1.112489e+07\n",
       "                  Andorra                        NaN\n",
       "                  Angola                         NaN\n",
       "                                            ...     \n",
       "GDP         2015  West Bank and Gaza    1.267740e+10\n",
       "                  World                 7.343364e+13\n",
       "                  Yemen, Rep.                    NaN\n",
       "                  Zambia                2.120156e+10\n",
       "                  Zimbabwe              1.389294e+10\n",
       "Length: 28224, dtype: float64"
      ]
     },
     "execution_count": 160,
     "metadata": {},
     "output_type": "execute_result"
    }
   ],
   "source": [
    "s.unstack().unstack().unstack() # desempilha o tipo de camada mais interno no nosso conjunto de dados"
   ]
  },
  {
   "cell_type": "code",
   "execution_count": null,
   "id": "572949a1-78f0-4585-a01d-66045bbfa89b",
   "metadata": {},
   "outputs": [],
   "source": []
  },
  {
   "cell_type": "markdown",
   "id": "84a8c033-469e-46d4-a3c5-184a37595bc1",
   "metadata": {},
   "source": [
    "## **The ```.unstack()``` Method, Part 2**"
   ]
  },
  {
   "cell_type": "code",
   "execution_count": 161,
   "id": "a3ca0c91-53cd-4a9c-8aef-18094b19c543",
   "metadata": {},
   "outputs": [
    {
     "data": {
      "text/html": [
       "<div>\n",
       "<style scoped>\n",
       "    .dataframe tbody tr th:only-of-type {\n",
       "        vertical-align: middle;\n",
       "    }\n",
       "\n",
       "    .dataframe tbody tr th {\n",
       "        vertical-align: top;\n",
       "    }\n",
       "\n",
       "    .dataframe thead th {\n",
       "        text-align: right;\n",
       "    }\n",
       "</style>\n",
       "<table border=\"1\" class=\"dataframe\">\n",
       "  <thead>\n",
       "    <tr style=\"text-align: right;\">\n",
       "      <th></th>\n",
       "      <th></th>\n",
       "      <th>Population</th>\n",
       "      <th>GDP</th>\n",
       "    </tr>\n",
       "    <tr>\n",
       "      <th>country</th>\n",
       "      <th>year</th>\n",
       "      <th></th>\n",
       "      <th></th>\n",
       "    </tr>\n",
       "  </thead>\n",
       "  <tbody>\n",
       "    <tr>\n",
       "      <th rowspan=\"3\" valign=\"top\">Arab World</th>\n",
       "      <th>2015</th>\n",
       "      <td>392022276.0</td>\n",
       "      <td>2.530102e+12</td>\n",
       "    </tr>\n",
       "    <tr>\n",
       "      <th>2014</th>\n",
       "      <td>384222592.0</td>\n",
       "      <td>2.873600e+12</td>\n",
       "    </tr>\n",
       "    <tr>\n",
       "      <th>2013</th>\n",
       "      <td>376504253.0</td>\n",
       "      <td>2.846994e+12</td>\n",
       "    </tr>\n",
       "  </tbody>\n",
       "</table>\n",
       "</div>"
      ],
      "text/plain": [
       "                  Population           GDP\n",
       "country    year                           \n",
       "Arab World 2015  392022276.0  2.530102e+12\n",
       "           2014  384222592.0  2.873600e+12\n",
       "           2013  376504253.0  2.846994e+12"
      ]
     },
     "execution_count": 161,
     "metadata": {},
     "output_type": "execute_result"
    }
   ],
   "source": [
    "world = pd.read_csv(\"worldstats.csv\", index_col = [\"country\", \"year\"])\n",
    "world.head(3)"
   ]
  },
  {
   "cell_type": "code",
   "execution_count": 163,
   "id": "2792a562-cbec-41bf-b3fb-a04e7d9ec4fb",
   "metadata": {},
   "outputs": [
    {
     "data": {
      "text/plain": [
       "country     year            \n",
       "Arab World  2015  Population    3.920223e+08\n",
       "                  GDP           2.530102e+12\n",
       "            2014  Population    3.842226e+08\n",
       "dtype: float64"
      ]
     },
     "execution_count": 163,
     "metadata": {},
     "output_type": "execute_result"
    }
   ],
   "source": [
    "s = world.stack()\n",
    "s.head(3)"
   ]
  },
  {
   "cell_type": "code",
   "execution_count": 166,
   "id": "31e0f1fb-4dda-49b5-96d0-c19363799ba3",
   "metadata": {},
   "outputs": [
    {
     "data": {
      "text/html": [
       "<div>\n",
       "<style scoped>\n",
       "    .dataframe tbody tr th:only-of-type {\n",
       "        vertical-align: middle;\n",
       "    }\n",
       "\n",
       "    .dataframe tbody tr th {\n",
       "        vertical-align: top;\n",
       "    }\n",
       "\n",
       "    .dataframe thead th {\n",
       "        text-align: right;\n",
       "    }\n",
       "</style>\n",
       "<table border=\"1\" class=\"dataframe\">\n",
       "  <thead>\n",
       "    <tr style=\"text-align: right;\">\n",
       "      <th></th>\n",
       "      <th></th>\n",
       "      <th>Population</th>\n",
       "      <th>GDP</th>\n",
       "    </tr>\n",
       "    <tr>\n",
       "      <th>country</th>\n",
       "      <th>year</th>\n",
       "      <th></th>\n",
       "      <th></th>\n",
       "    </tr>\n",
       "  </thead>\n",
       "  <tbody>\n",
       "    <tr>\n",
       "      <th rowspan=\"5\" valign=\"top\">Afghanistan</th>\n",
       "      <th>1960</th>\n",
       "      <td>8994793.0</td>\n",
       "      <td>5.377778e+08</td>\n",
       "    </tr>\n",
       "    <tr>\n",
       "      <th>1961</th>\n",
       "      <td>9164945.0</td>\n",
       "      <td>5.488889e+08</td>\n",
       "    </tr>\n",
       "    <tr>\n",
       "      <th>1962</th>\n",
       "      <td>9343772.0</td>\n",
       "      <td>5.466667e+08</td>\n",
       "    </tr>\n",
       "    <tr>\n",
       "      <th>1963</th>\n",
       "      <td>9531555.0</td>\n",
       "      <td>7.511112e+08</td>\n",
       "    </tr>\n",
       "    <tr>\n",
       "      <th>1964</th>\n",
       "      <td>9728645.0</td>\n",
       "      <td>8.000000e+08</td>\n",
       "    </tr>\n",
       "    <tr>\n",
       "      <th>...</th>\n",
       "      <th>...</th>\n",
       "      <td>...</td>\n",
       "      <td>...</td>\n",
       "    </tr>\n",
       "    <tr>\n",
       "      <th rowspan=\"5\" valign=\"top\">Zimbabwe</th>\n",
       "      <th>2011</th>\n",
       "      <td>14255592.0</td>\n",
       "      <td>1.095623e+10</td>\n",
       "    </tr>\n",
       "    <tr>\n",
       "      <th>2012</th>\n",
       "      <td>14565482.0</td>\n",
       "      <td>1.239272e+10</td>\n",
       "    </tr>\n",
       "    <tr>\n",
       "      <th>2013</th>\n",
       "      <td>14898092.0</td>\n",
       "      <td>1.349023e+10</td>\n",
       "    </tr>\n",
       "    <tr>\n",
       "      <th>2014</th>\n",
       "      <td>15245855.0</td>\n",
       "      <td>1.419691e+10</td>\n",
       "    </tr>\n",
       "    <tr>\n",
       "      <th>2015</th>\n",
       "      <td>15602751.0</td>\n",
       "      <td>1.389294e+10</td>\n",
       "    </tr>\n",
       "  </tbody>\n",
       "</table>\n",
       "<p>11211 rows × 2 columns</p>\n",
       "</div>"
      ],
      "text/plain": [
       "                  Population           GDP\n",
       "country     year                          \n",
       "Afghanistan 1960   8994793.0  5.377778e+08\n",
       "            1961   9164945.0  5.488889e+08\n",
       "            1962   9343772.0  5.466667e+08\n",
       "            1963   9531555.0  7.511112e+08\n",
       "            1964   9728645.0  8.000000e+08\n",
       "...                      ...           ...\n",
       "Zimbabwe    2011  14255592.0  1.095623e+10\n",
       "            2012  14565482.0  1.239272e+10\n",
       "            2013  14898092.0  1.349023e+10\n",
       "            2014  15245855.0  1.419691e+10\n",
       "            2015  15602751.0  1.389294e+10\n",
       "\n",
       "[11211 rows x 2 columns]"
      ]
     },
     "execution_count": 166,
     "metadata": {},
     "output_type": "execute_result"
    }
   ],
   "source": [
    "s.unstack(2)\n",
    "\n",
    "# Desempilhar os multi-indices 'Population e GDP' normaliza os dados nas colunas porque não temos valores para esses nomes de indice, são rótulos por si mesmo\n",
    "# Já se desempilharmos os rótulos de indice que possuem valores como por exemplo: year = 1960, year = 1961 e etc, cada um desses valores irá se tornar uma coluna"
   ]
  },
  {
   "cell_type": "code",
   "execution_count": 167,
   "id": "4f762a33-f2ae-4307-b0fd-e672a7efefea",
   "metadata": {},
   "outputs": [
    {
     "data": {
      "text/html": [
       "<div>\n",
       "<style scoped>\n",
       "    .dataframe tbody tr th:only-of-type {\n",
       "        vertical-align: middle;\n",
       "    }\n",
       "\n",
       "    .dataframe tbody tr th {\n",
       "        vertical-align: top;\n",
       "    }\n",
       "\n",
       "    .dataframe thead th {\n",
       "        text-align: right;\n",
       "    }\n",
       "</style>\n",
       "<table border=\"1\" class=\"dataframe\">\n",
       "  <thead>\n",
       "    <tr style=\"text-align: right;\">\n",
       "      <th></th>\n",
       "      <th></th>\n",
       "      <th>Population</th>\n",
       "      <th>GDP</th>\n",
       "    </tr>\n",
       "    <tr>\n",
       "      <th>country</th>\n",
       "      <th>year</th>\n",
       "      <th></th>\n",
       "      <th></th>\n",
       "    </tr>\n",
       "  </thead>\n",
       "  <tbody>\n",
       "    <tr>\n",
       "      <th rowspan=\"5\" valign=\"top\">Afghanistan</th>\n",
       "      <th>1960</th>\n",
       "      <td>8994793.0</td>\n",
       "      <td>5.377778e+08</td>\n",
       "    </tr>\n",
       "    <tr>\n",
       "      <th>1961</th>\n",
       "      <td>9164945.0</td>\n",
       "      <td>5.488889e+08</td>\n",
       "    </tr>\n",
       "    <tr>\n",
       "      <th>1962</th>\n",
       "      <td>9343772.0</td>\n",
       "      <td>5.466667e+08</td>\n",
       "    </tr>\n",
       "    <tr>\n",
       "      <th>1963</th>\n",
       "      <td>9531555.0</td>\n",
       "      <td>7.511112e+08</td>\n",
       "    </tr>\n",
       "    <tr>\n",
       "      <th>1964</th>\n",
       "      <td>9728645.0</td>\n",
       "      <td>8.000000e+08</td>\n",
       "    </tr>\n",
       "    <tr>\n",
       "      <th>...</th>\n",
       "      <th>...</th>\n",
       "      <td>...</td>\n",
       "      <td>...</td>\n",
       "    </tr>\n",
       "    <tr>\n",
       "      <th rowspan=\"5\" valign=\"top\">Zimbabwe</th>\n",
       "      <th>2011</th>\n",
       "      <td>14255592.0</td>\n",
       "      <td>1.095623e+10</td>\n",
       "    </tr>\n",
       "    <tr>\n",
       "      <th>2012</th>\n",
       "      <td>14565482.0</td>\n",
       "      <td>1.239272e+10</td>\n",
       "    </tr>\n",
       "    <tr>\n",
       "      <th>2013</th>\n",
       "      <td>14898092.0</td>\n",
       "      <td>1.349023e+10</td>\n",
       "    </tr>\n",
       "    <tr>\n",
       "      <th>2014</th>\n",
       "      <td>15245855.0</td>\n",
       "      <td>1.419691e+10</td>\n",
       "    </tr>\n",
       "    <tr>\n",
       "      <th>2015</th>\n",
       "      <td>15602751.0</td>\n",
       "      <td>1.389294e+10</td>\n",
       "    </tr>\n",
       "  </tbody>\n",
       "</table>\n",
       "<p>11211 rows × 2 columns</p>\n",
       "</div>"
      ],
      "text/plain": [
       "                  Population           GDP\n",
       "country     year                          \n",
       "Afghanistan 1960   8994793.0  5.377778e+08\n",
       "            1961   9164945.0  5.488889e+08\n",
       "            1962   9343772.0  5.466667e+08\n",
       "            1963   9531555.0  7.511112e+08\n",
       "            1964   9728645.0  8.000000e+08\n",
       "...                      ...           ...\n",
       "Zimbabwe    2011  14255592.0  1.095623e+10\n",
       "            2012  14565482.0  1.239272e+10\n",
       "            2013  14898092.0  1.349023e+10\n",
       "            2014  15245855.0  1.419691e+10\n",
       "            2015  15602751.0  1.389294e+10\n",
       "\n",
       "[11211 rows x 2 columns]"
      ]
     },
     "execution_count": 167,
     "metadata": {},
     "output_type": "execute_result"
    }
   ],
   "source": [
    "s.unstack(-1) # default"
   ]
  },
  {
   "cell_type": "code",
   "execution_count": 170,
   "id": "5d0f5e7c-4d37-46cc-830a-5e088a2b3a54",
   "metadata": {},
   "outputs": [
    {
     "data": {
      "text/html": [
       "<div>\n",
       "<style scoped>\n",
       "    .dataframe tbody tr th:only-of-type {\n",
       "        vertical-align: middle;\n",
       "    }\n",
       "\n",
       "    .dataframe tbody tr th {\n",
       "        vertical-align: top;\n",
       "    }\n",
       "\n",
       "    .dataframe thead th {\n",
       "        text-align: right;\n",
       "    }\n",
       "</style>\n",
       "<table border=\"1\" class=\"dataframe\">\n",
       "  <thead>\n",
       "    <tr style=\"text-align: right;\">\n",
       "      <th></th>\n",
       "      <th>year</th>\n",
       "      <th>1960</th>\n",
       "      <th>1961</th>\n",
       "      <th>1962</th>\n",
       "      <th>1963</th>\n",
       "      <th>1964</th>\n",
       "      <th>1965</th>\n",
       "      <th>1966</th>\n",
       "      <th>1967</th>\n",
       "      <th>1968</th>\n",
       "      <th>1969</th>\n",
       "      <th>...</th>\n",
       "      <th>2006</th>\n",
       "      <th>2007</th>\n",
       "      <th>2008</th>\n",
       "      <th>2009</th>\n",
       "      <th>2010</th>\n",
       "      <th>2011</th>\n",
       "      <th>2012</th>\n",
       "      <th>2013</th>\n",
       "      <th>2014</th>\n",
       "      <th>2015</th>\n",
       "    </tr>\n",
       "    <tr>\n",
       "      <th>country</th>\n",
       "      <th></th>\n",
       "      <th></th>\n",
       "      <th></th>\n",
       "      <th></th>\n",
       "      <th></th>\n",
       "      <th></th>\n",
       "      <th></th>\n",
       "      <th></th>\n",
       "      <th></th>\n",
       "      <th></th>\n",
       "      <th></th>\n",
       "      <th></th>\n",
       "      <th></th>\n",
       "      <th></th>\n",
       "      <th></th>\n",
       "      <th></th>\n",
       "      <th></th>\n",
       "      <th></th>\n",
       "      <th></th>\n",
       "      <th></th>\n",
       "      <th></th>\n",
       "      <th></th>\n",
       "    </tr>\n",
       "  </thead>\n",
       "  <tbody>\n",
       "    <tr>\n",
       "      <th rowspan=\"2\" valign=\"top\">Afghanistan</th>\n",
       "      <th>Population</th>\n",
       "      <td>8.994793e+06</td>\n",
       "      <td>9.164945e+06</td>\n",
       "      <td>9.343772e+06</td>\n",
       "      <td>9.531555e+06</td>\n",
       "      <td>9.728645e+06</td>\n",
       "      <td>9.935358e+06</td>\n",
       "      <td>1.014884e+07</td>\n",
       "      <td>1.036860e+07</td>\n",
       "      <td>1.059979e+07</td>\n",
       "      <td>1.084951e+07</td>\n",
       "      <td>...</td>\n",
       "      <td>2.518362e+07</td>\n",
       "      <td>2.587754e+07</td>\n",
       "      <td>2.652874e+07</td>\n",
       "      <td>2.720729e+07</td>\n",
       "      <td>2.796221e+07</td>\n",
       "      <td>2.880917e+07</td>\n",
       "      <td>2.972680e+07</td>\n",
       "      <td>3.068250e+07</td>\n",
       "      <td>3.162751e+07</td>\n",
       "      <td>3.252656e+07</td>\n",
       "    </tr>\n",
       "    <tr>\n",
       "      <th>GDP</th>\n",
       "      <td>5.377778e+08</td>\n",
       "      <td>5.488889e+08</td>\n",
       "      <td>5.466667e+08</td>\n",
       "      <td>7.511112e+08</td>\n",
       "      <td>8.000000e+08</td>\n",
       "      <td>1.006667e+09</td>\n",
       "      <td>1.400000e+09</td>\n",
       "      <td>1.673333e+09</td>\n",
       "      <td>1.373333e+09</td>\n",
       "      <td>1.408889e+09</td>\n",
       "      <td>...</td>\n",
       "      <td>7.057598e+09</td>\n",
       "      <td>9.843842e+09</td>\n",
       "      <td>1.019053e+10</td>\n",
       "      <td>1.248694e+10</td>\n",
       "      <td>1.593680e+10</td>\n",
       "      <td>1.793024e+10</td>\n",
       "      <td>2.053654e+10</td>\n",
       "      <td>2.004633e+10</td>\n",
       "      <td>2.005019e+10</td>\n",
       "      <td>1.919944e+10</td>\n",
       "    </tr>\n",
       "    <tr>\n",
       "      <th rowspan=\"2\" valign=\"top\">Albania</th>\n",
       "      <th>Population</th>\n",
       "      <td>NaN</td>\n",
       "      <td>NaN</td>\n",
       "      <td>NaN</td>\n",
       "      <td>NaN</td>\n",
       "      <td>NaN</td>\n",
       "      <td>NaN</td>\n",
       "      <td>NaN</td>\n",
       "      <td>NaN</td>\n",
       "      <td>NaN</td>\n",
       "      <td>NaN</td>\n",
       "      <td>...</td>\n",
       "      <td>2.992547e+06</td>\n",
       "      <td>2.970017e+06</td>\n",
       "      <td>2.947314e+06</td>\n",
       "      <td>2.927519e+06</td>\n",
       "      <td>2.913021e+06</td>\n",
       "      <td>2.904780e+06</td>\n",
       "      <td>2.900247e+06</td>\n",
       "      <td>2.896652e+06</td>\n",
       "      <td>2.893654e+06</td>\n",
       "      <td>2.889167e+06</td>\n",
       "    </tr>\n",
       "    <tr>\n",
       "      <th>GDP</th>\n",
       "      <td>NaN</td>\n",
       "      <td>NaN</td>\n",
       "      <td>NaN</td>\n",
       "      <td>NaN</td>\n",
       "      <td>NaN</td>\n",
       "      <td>NaN</td>\n",
       "      <td>NaN</td>\n",
       "      <td>NaN</td>\n",
       "      <td>NaN</td>\n",
       "      <td>NaN</td>\n",
       "      <td>...</td>\n",
       "      <td>8.992642e+09</td>\n",
       "      <td>1.070101e+10</td>\n",
       "      <td>1.288135e+10</td>\n",
       "      <td>1.204421e+10</td>\n",
       "      <td>1.192695e+10</td>\n",
       "      <td>1.289087e+10</td>\n",
       "      <td>1.231978e+10</td>\n",
       "      <td>1.278103e+10</td>\n",
       "      <td>1.327796e+10</td>\n",
       "      <td>1.145560e+10</td>\n",
       "    </tr>\n",
       "    <tr>\n",
       "      <th>Algeria</th>\n",
       "      <th>Population</th>\n",
       "      <td>1.112489e+07</td>\n",
       "      <td>1.140486e+07</td>\n",
       "      <td>1.169015e+07</td>\n",
       "      <td>1.198513e+07</td>\n",
       "      <td>1.229597e+07</td>\n",
       "      <td>1.262695e+07</td>\n",
       "      <td>1.298027e+07</td>\n",
       "      <td>1.335420e+07</td>\n",
       "      <td>1.374438e+07</td>\n",
       "      <td>1.414444e+07</td>\n",
       "      <td>...</td>\n",
       "      <td>3.374933e+07</td>\n",
       "      <td>3.426197e+07</td>\n",
       "      <td>3.481106e+07</td>\n",
       "      <td>3.540179e+07</td>\n",
       "      <td>3.603616e+07</td>\n",
       "      <td>3.671713e+07</td>\n",
       "      <td>3.743943e+07</td>\n",
       "      <td>3.818614e+07</td>\n",
       "      <td>3.893433e+07</td>\n",
       "      <td>3.966652e+07</td>\n",
       "    </tr>\n",
       "    <tr>\n",
       "      <th>...</th>\n",
       "      <th>...</th>\n",
       "      <td>...</td>\n",
       "      <td>...</td>\n",
       "      <td>...</td>\n",
       "      <td>...</td>\n",
       "      <td>...</td>\n",
       "      <td>...</td>\n",
       "      <td>...</td>\n",
       "      <td>...</td>\n",
       "      <td>...</td>\n",
       "      <td>...</td>\n",
       "      <td>...</td>\n",
       "      <td>...</td>\n",
       "      <td>...</td>\n",
       "      <td>...</td>\n",
       "      <td>...</td>\n",
       "      <td>...</td>\n",
       "      <td>...</td>\n",
       "      <td>...</td>\n",
       "      <td>...</td>\n",
       "      <td>...</td>\n",
       "      <td>...</td>\n",
       "    </tr>\n",
       "    <tr>\n",
       "      <th>Yemen, Rep.</th>\n",
       "      <th>GDP</th>\n",
       "      <td>NaN</td>\n",
       "      <td>NaN</td>\n",
       "      <td>NaN</td>\n",
       "      <td>NaN</td>\n",
       "      <td>NaN</td>\n",
       "      <td>NaN</td>\n",
       "      <td>NaN</td>\n",
       "      <td>NaN</td>\n",
       "      <td>NaN</td>\n",
       "      <td>NaN</td>\n",
       "      <td>...</td>\n",
       "      <td>1.908173e+10</td>\n",
       "      <td>2.563367e+10</td>\n",
       "      <td>3.039720e+10</td>\n",
       "      <td>2.845950e+10</td>\n",
       "      <td>3.090675e+10</td>\n",
       "      <td>3.107886e+10</td>\n",
       "      <td>3.207477e+10</td>\n",
       "      <td>3.595450e+10</td>\n",
       "      <td>NaN</td>\n",
       "      <td>NaN</td>\n",
       "    </tr>\n",
       "    <tr>\n",
       "      <th rowspan=\"2\" valign=\"top\">Zambia</th>\n",
       "      <th>Population</th>\n",
       "      <td>3.049586e+06</td>\n",
       "      <td>3.142848e+06</td>\n",
       "      <td>3.240664e+06</td>\n",
       "      <td>3.342894e+06</td>\n",
       "      <td>3.449266e+06</td>\n",
       "      <td>3.559687e+06</td>\n",
       "      <td>3.674088e+06</td>\n",
       "      <td>3.792864e+06</td>\n",
       "      <td>3.916928e+06</td>\n",
       "      <td>4.047479e+06</td>\n",
       "      <td>...</td>\n",
       "      <td>1.238151e+07</td>\n",
       "      <td>1.273868e+07</td>\n",
       "      <td>1.311458e+07</td>\n",
       "      <td>1.350785e+07</td>\n",
       "      <td>1.391744e+07</td>\n",
       "      <td>1.434353e+07</td>\n",
       "      <td>1.478658e+07</td>\n",
       "      <td>1.524609e+07</td>\n",
       "      <td>1.572134e+07</td>\n",
       "      <td>1.621177e+07</td>\n",
       "    </tr>\n",
       "    <tr>\n",
       "      <th>GDP</th>\n",
       "      <td>6.987397e+08</td>\n",
       "      <td>6.823597e+08</td>\n",
       "      <td>6.792797e+08</td>\n",
       "      <td>7.043397e+08</td>\n",
       "      <td>8.226397e+08</td>\n",
       "      <td>1.061200e+09</td>\n",
       "      <td>1.239000e+09</td>\n",
       "      <td>1.340639e+09</td>\n",
       "      <td>1.573739e+09</td>\n",
       "      <td>1.926399e+09</td>\n",
       "      <td>...</td>\n",
       "      <td>1.275686e+10</td>\n",
       "      <td>1.405696e+10</td>\n",
       "      <td>1.791086e+10</td>\n",
       "      <td>1.532834e+10</td>\n",
       "      <td>2.026555e+10</td>\n",
       "      <td>2.345952e+10</td>\n",
       "      <td>2.550306e+10</td>\n",
       "      <td>2.804552e+10</td>\n",
       "      <td>2.713464e+10</td>\n",
       "      <td>2.120156e+10</td>\n",
       "    </tr>\n",
       "    <tr>\n",
       "      <th rowspan=\"2\" valign=\"top\">Zimbabwe</th>\n",
       "      <th>Population</th>\n",
       "      <td>3.752390e+06</td>\n",
       "      <td>3.876638e+06</td>\n",
       "      <td>4.006262e+06</td>\n",
       "      <td>4.140804e+06</td>\n",
       "      <td>4.279561e+06</td>\n",
       "      <td>4.422132e+06</td>\n",
       "      <td>4.568320e+06</td>\n",
       "      <td>4.718612e+06</td>\n",
       "      <td>4.874113e+06</td>\n",
       "      <td>5.036321e+06</td>\n",
       "      <td>...</td>\n",
       "      <td>1.312794e+07</td>\n",
       "      <td>1.329780e+07</td>\n",
       "      <td>1.349546e+07</td>\n",
       "      <td>1.372100e+07</td>\n",
       "      <td>1.397390e+07</td>\n",
       "      <td>1.425559e+07</td>\n",
       "      <td>1.456548e+07</td>\n",
       "      <td>1.489809e+07</td>\n",
       "      <td>1.524586e+07</td>\n",
       "      <td>1.560275e+07</td>\n",
       "    </tr>\n",
       "    <tr>\n",
       "      <th>GDP</th>\n",
       "      <td>1.052990e+09</td>\n",
       "      <td>1.096647e+09</td>\n",
       "      <td>1.117602e+09</td>\n",
       "      <td>1.159512e+09</td>\n",
       "      <td>1.217138e+09</td>\n",
       "      <td>1.311436e+09</td>\n",
       "      <td>1.281750e+09</td>\n",
       "      <td>1.397002e+09</td>\n",
       "      <td>1.479600e+09</td>\n",
       "      <td>1.747999e+09</td>\n",
       "      <td>...</td>\n",
       "      <td>5.443896e+09</td>\n",
       "      <td>5.291950e+09</td>\n",
       "      <td>4.415703e+09</td>\n",
       "      <td>8.157077e+09</td>\n",
       "      <td>9.422161e+09</td>\n",
       "      <td>1.095623e+10</td>\n",
       "      <td>1.239272e+10</td>\n",
       "      <td>1.349023e+10</td>\n",
       "      <td>1.419691e+10</td>\n",
       "      <td>1.389294e+10</td>\n",
       "    </tr>\n",
       "  </tbody>\n",
       "</table>\n",
       "<p>504 rows × 56 columns</p>\n",
       "</div>"
      ],
      "text/plain": [
       "year                            1960          1961          1962  \\\n",
       "country                                                            \n",
       "Afghanistan Population  8.994793e+06  9.164945e+06  9.343772e+06   \n",
       "            GDP         5.377778e+08  5.488889e+08  5.466667e+08   \n",
       "Albania     Population           NaN           NaN           NaN   \n",
       "            GDP                  NaN           NaN           NaN   \n",
       "Algeria     Population  1.112489e+07  1.140486e+07  1.169015e+07   \n",
       "...                              ...           ...           ...   \n",
       "Yemen, Rep. GDP                  NaN           NaN           NaN   \n",
       "Zambia      Population  3.049586e+06  3.142848e+06  3.240664e+06   \n",
       "            GDP         6.987397e+08  6.823597e+08  6.792797e+08   \n",
       "Zimbabwe    Population  3.752390e+06  3.876638e+06  4.006262e+06   \n",
       "            GDP         1.052990e+09  1.096647e+09  1.117602e+09   \n",
       "\n",
       "year                            1963          1964          1965  \\\n",
       "country                                                            \n",
       "Afghanistan Population  9.531555e+06  9.728645e+06  9.935358e+06   \n",
       "            GDP         7.511112e+08  8.000000e+08  1.006667e+09   \n",
       "Albania     Population           NaN           NaN           NaN   \n",
       "            GDP                  NaN           NaN           NaN   \n",
       "Algeria     Population  1.198513e+07  1.229597e+07  1.262695e+07   \n",
       "...                              ...           ...           ...   \n",
       "Yemen, Rep. GDP                  NaN           NaN           NaN   \n",
       "Zambia      Population  3.342894e+06  3.449266e+06  3.559687e+06   \n",
       "            GDP         7.043397e+08  8.226397e+08  1.061200e+09   \n",
       "Zimbabwe    Population  4.140804e+06  4.279561e+06  4.422132e+06   \n",
       "            GDP         1.159512e+09  1.217138e+09  1.311436e+09   \n",
       "\n",
       "year                            1966          1967          1968  \\\n",
       "country                                                            \n",
       "Afghanistan Population  1.014884e+07  1.036860e+07  1.059979e+07   \n",
       "            GDP         1.400000e+09  1.673333e+09  1.373333e+09   \n",
       "Albania     Population           NaN           NaN           NaN   \n",
       "            GDP                  NaN           NaN           NaN   \n",
       "Algeria     Population  1.298027e+07  1.335420e+07  1.374438e+07   \n",
       "...                              ...           ...           ...   \n",
       "Yemen, Rep. GDP                  NaN           NaN           NaN   \n",
       "Zambia      Population  3.674088e+06  3.792864e+06  3.916928e+06   \n",
       "            GDP         1.239000e+09  1.340639e+09  1.573739e+09   \n",
       "Zimbabwe    Population  4.568320e+06  4.718612e+06  4.874113e+06   \n",
       "            GDP         1.281750e+09  1.397002e+09  1.479600e+09   \n",
       "\n",
       "year                            1969  ...          2006          2007  \\\n",
       "country                               ...                               \n",
       "Afghanistan Population  1.084951e+07  ...  2.518362e+07  2.587754e+07   \n",
       "            GDP         1.408889e+09  ...  7.057598e+09  9.843842e+09   \n",
       "Albania     Population           NaN  ...  2.992547e+06  2.970017e+06   \n",
       "            GDP                  NaN  ...  8.992642e+09  1.070101e+10   \n",
       "Algeria     Population  1.414444e+07  ...  3.374933e+07  3.426197e+07   \n",
       "...                              ...  ...           ...           ...   \n",
       "Yemen, Rep. GDP                  NaN  ...  1.908173e+10  2.563367e+10   \n",
       "Zambia      Population  4.047479e+06  ...  1.238151e+07  1.273868e+07   \n",
       "            GDP         1.926399e+09  ...  1.275686e+10  1.405696e+10   \n",
       "Zimbabwe    Population  5.036321e+06  ...  1.312794e+07  1.329780e+07   \n",
       "            GDP         1.747999e+09  ...  5.443896e+09  5.291950e+09   \n",
       "\n",
       "year                            2008          2009          2010  \\\n",
       "country                                                            \n",
       "Afghanistan Population  2.652874e+07  2.720729e+07  2.796221e+07   \n",
       "            GDP         1.019053e+10  1.248694e+10  1.593680e+10   \n",
       "Albania     Population  2.947314e+06  2.927519e+06  2.913021e+06   \n",
       "            GDP         1.288135e+10  1.204421e+10  1.192695e+10   \n",
       "Algeria     Population  3.481106e+07  3.540179e+07  3.603616e+07   \n",
       "...                              ...           ...           ...   \n",
       "Yemen, Rep. GDP         3.039720e+10  2.845950e+10  3.090675e+10   \n",
       "Zambia      Population  1.311458e+07  1.350785e+07  1.391744e+07   \n",
       "            GDP         1.791086e+10  1.532834e+10  2.026555e+10   \n",
       "Zimbabwe    Population  1.349546e+07  1.372100e+07  1.397390e+07   \n",
       "            GDP         4.415703e+09  8.157077e+09  9.422161e+09   \n",
       "\n",
       "year                            2011          2012          2013  \\\n",
       "country                                                            \n",
       "Afghanistan Population  2.880917e+07  2.972680e+07  3.068250e+07   \n",
       "            GDP         1.793024e+10  2.053654e+10  2.004633e+10   \n",
       "Albania     Population  2.904780e+06  2.900247e+06  2.896652e+06   \n",
       "            GDP         1.289087e+10  1.231978e+10  1.278103e+10   \n",
       "Algeria     Population  3.671713e+07  3.743943e+07  3.818614e+07   \n",
       "...                              ...           ...           ...   \n",
       "Yemen, Rep. GDP         3.107886e+10  3.207477e+10  3.595450e+10   \n",
       "Zambia      Population  1.434353e+07  1.478658e+07  1.524609e+07   \n",
       "            GDP         2.345952e+10  2.550306e+10  2.804552e+10   \n",
       "Zimbabwe    Population  1.425559e+07  1.456548e+07  1.489809e+07   \n",
       "            GDP         1.095623e+10  1.239272e+10  1.349023e+10   \n",
       "\n",
       "year                            2014          2015  \n",
       "country                                             \n",
       "Afghanistan Population  3.162751e+07  3.252656e+07  \n",
       "            GDP         2.005019e+10  1.919944e+10  \n",
       "Albania     Population  2.893654e+06  2.889167e+06  \n",
       "            GDP         1.327796e+10  1.145560e+10  \n",
       "Algeria     Population  3.893433e+07  3.966652e+07  \n",
       "...                              ...           ...  \n",
       "Yemen, Rep. GDP                  NaN           NaN  \n",
       "Zambia      Population  1.572134e+07  1.621177e+07  \n",
       "            GDP         2.713464e+10  2.120156e+10  \n",
       "Zimbabwe    Population  1.524586e+07  1.560275e+07  \n",
       "            GDP         1.419691e+10  1.389294e+10  \n",
       "\n",
       "[504 rows x 56 columns]"
      ]
     },
     "execution_count": 170,
     "metadata": {},
     "output_type": "execute_result"
    }
   ],
   "source": [
    "# Se o 'level' que estivermos observando tiver um nome, podemos utilizar esse nome como argumento para o parâmetro \"level\"\n",
    "\n",
    "s.unstack(\"year\")"
   ]
  },
  {
   "cell_type": "code",
   "execution_count": null,
   "id": "87b7b6e9-1a01-4c1f-94f2-4d678cc29416",
   "metadata": {},
   "outputs": [],
   "source": []
  },
  {
   "cell_type": "code",
   "execution_count": null,
   "id": "b1c0336c-a199-4c96-ad9d-4cf41f130a49",
   "metadata": {},
   "outputs": [],
   "source": []
  },
  {
   "cell_type": "code",
   "execution_count": null,
   "id": "912abff5-a506-43f7-bfca-4cd61a6f2b48",
   "metadata": {},
   "outputs": [],
   "source": []
  },
  {
   "cell_type": "code",
   "execution_count": null,
   "id": "5bc5b03f-f82f-4d71-9b23-dbfa34f6814b",
   "metadata": {},
   "outputs": [],
   "source": []
  },
  {
   "cell_type": "code",
   "execution_count": null,
   "id": "79ddcfa6-3b87-42ae-8684-a2ff822a2c24",
   "metadata": {},
   "outputs": [],
   "source": []
  },
  {
   "cell_type": "code",
   "execution_count": null,
   "id": "9ae44201-d869-4791-8be6-2b952a210e77",
   "metadata": {},
   "outputs": [],
   "source": []
  },
  {
   "cell_type": "code",
   "execution_count": null,
   "id": "f5e51f7d-5c9d-45c4-8905-a98cc939a553",
   "metadata": {},
   "outputs": [],
   "source": []
  },
  {
   "cell_type": "code",
   "execution_count": null,
   "id": "0463f9e4-d632-46c4-9802-47538f429f5c",
   "metadata": {},
   "outputs": [],
   "source": []
  },
  {
   "cell_type": "code",
   "execution_count": null,
   "id": "0297edb7-31b7-4e8a-8dfe-554a8187645f",
   "metadata": {},
   "outputs": [],
   "source": []
  }
 ],
 "metadata": {
  "kernelspec": {
   "display_name": "Python 3 (ipykernel)",
   "language": "python",
   "name": "python3"
  },
  "language_info": {
   "codemirror_mode": {
    "name": "ipython",
    "version": 3
   },
   "file_extension": ".py",
   "mimetype": "text/x-python",
   "name": "python",
   "nbconvert_exporter": "python",
   "pygments_lexer": "ipython3",
   "version": "3.10.6"
  }
 },
 "nbformat": 4,
 "nbformat_minor": 5
}
