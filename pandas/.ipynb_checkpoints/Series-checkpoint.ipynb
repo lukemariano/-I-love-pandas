{
 "cells": [
  {
   "cell_type": "markdown",
   "id": "ffffd093",
   "metadata": {},
   "source": [
    "# Imports"
   ]
  },
  {
   "cell_type": "code",
   "execution_count": 1,
   "id": "84a99c4a",
   "metadata": {},
   "outputs": [],
   "source": [
    "import pandas as pd"
   ]
  },
  {
   "cell_type": "markdown",
   "id": "780c810f",
   "metadata": {},
   "source": [
    "# Create a Series Object from a Python List"
   ]
  },
  {
   "cell_type": "code",
   "execution_count": 2,
   "id": "71767af1",
   "metadata": {},
   "outputs": [
    {
     "data": {
      "text/plain": [
       "0    Chocolate\n",
       "1      Morango\n",
       "2     Baunilha\n",
       "3          Uva\n",
       "dtype: object"
      ]
     },
     "execution_count": 2,
     "metadata": {},
     "output_type": "execute_result"
    }
   ],
   "source": [
    "ice_cream = [\"Chocolate\", \"Morango\", \"Baunilha\", \"Uva\"]\n",
    "\n",
    "pd.Series(ice_cream)"
   ]
  },
  {
   "cell_type": "code",
   "execution_count": 4,
   "id": "60c304db",
   "metadata": {},
   "outputs": [
    {
     "data": {
      "text/plain": [
       "0    1\n",
       "1    5\n",
       "2    6\n",
       "3    7\n",
       "4    8\n",
       "dtype: int64"
      ]
     },
     "execution_count": 4,
     "metadata": {},
     "output_type": "execute_result"
    }
   ],
   "source": [
    "lotterry = [1, 5, 6, 7, 8]\n",
    "\n",
    "pd.Series(lotterry)"
   ]
  },
  {
   "cell_type": "markdown",
   "id": "de8f7ffe",
   "metadata": {},
   "source": [
    "# Create a Series Object from a Dictionary"
   ]
  },
  {
   "cell_type": "code",
   "execution_count": 8,
   "id": "02204d2a",
   "metadata": {},
   "outputs": [
    {
     "data": {
      "text/plain": [
       "Ano      2022\n",
       "Nome    Lucas\n",
       "dtype: object"
      ]
     },
     "execution_count": 8,
     "metadata": {},
     "output_type": "execute_result"
    }
   ],
   "source": [
    "dic = {\"Ano\": 2022, \"Nome\": \"Lucas\"}\n",
    "\n",
    "pd.Series(dic)"
   ]
  },
  {
   "cell_type": "code",
   "execution_count": 9,
   "id": "5ff19159",
   "metadata": {},
   "outputs": [
    {
     "data": {
      "text/plain": [
       "2"
      ]
     },
     "execution_count": 9,
     "metadata": {},
     "output_type": "execute_result"
    }
   ],
   "source": [
    "len(dic)"
   ]
  },
  {
   "cell_type": "code",
   "execution_count": 10,
   "id": "f6d97111",
   "metadata": {},
   "outputs": [
    {
     "data": {
      "text/plain": [
       "0     True\n",
       "1    False\n",
       "2    False\n",
       "3     True\n",
       "4     True\n",
       "dtype: bool"
      ]
     },
     "execution_count": 10,
     "metadata": {},
     "output_type": "execute_result"
    }
   ],
   "source": [
    "registrations = [True, False, False, True, True]\n",
    "\n",
    "pd.Series(registrations)"
   ]
  },
  {
   "cell_type": "code",
   "execution_count": 3,
   "id": "72e03c87",
   "metadata": {},
   "outputs": [
    {
     "data": {
      "text/plain": [
       "Salmon    Orange\n",
       "Tuna         Red\n",
       "Eel        Brown\n",
       "dtype: object"
      ]
     },
     "execution_count": 3,
     "metadata": {},
     "output_type": "execute_result"
    }
   ],
   "source": [
    "sushi = {\n",
    "    \"Salmon\": \"Orange\",\n",
    "    \"Tuna\": \"Red\",\n",
    "    \"Eel\": \"Brown\"\n",
    "}\n",
    "\n",
    "pd.Series(sushi)"
   ]
  }
 ],
 "metadata": {
  "kernelspec": {
   "display_name": "Python 3 (ipykernel)",
   "language": "python",
   "name": "python3"
  },
  "language_info": {
   "codemirror_mode": {
    "name": "ipython",
    "version": 3
   },
   "file_extension": ".py",
   "mimetype": "text/x-python",
   "name": "python",
   "nbconvert_exporter": "python",
   "pygments_lexer": "ipython3",
   "version": "3.10.4"
  }
 },
 "nbformat": 4,
 "nbformat_minor": 5
}
