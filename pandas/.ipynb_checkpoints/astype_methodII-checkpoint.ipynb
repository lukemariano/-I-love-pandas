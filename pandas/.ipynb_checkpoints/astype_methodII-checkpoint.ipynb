{
 "cells": [
  {
   "cell_type": "markdown",
   "id": "77372997-79fb-4059-9a04-f8372a46caac",
   "metadata": {},
   "source": [
    "# **astype Method II**"
   ]
  },
  {
   "cell_type": "code",
   "execution_count": 2,
   "id": "cfa47ec9-0983-4f0c-a849-4dd1e69fbb0b",
   "metadata": {},
   "outputs": [],
   "source": [
    "import pandas as pd"
   ]
  },
  {
   "cell_type": "code",
   "execution_count": 4,
   "id": "42b2a114-bf9e-4ceb-8978-df6cb816e18b",
   "metadata": {},
   "outputs": [
    {
     "data": {
      "text/html": [
       "<div>\n",
       "<style scoped>\n",
       "    .dataframe tbody tr th:only-of-type {\n",
       "        vertical-align: middle;\n",
       "    }\n",
       "\n",
       "    .dataframe tbody tr th {\n",
       "        vertical-align: top;\n",
       "    }\n",
       "\n",
       "    .dataframe thead th {\n",
       "        text-align: right;\n",
       "    }\n",
       "</style>\n",
       "<table border=\"1\" class=\"dataframe\">\n",
       "  <thead>\n",
       "    <tr style=\"text-align: right;\">\n",
       "      <th></th>\n",
       "      <th>Name</th>\n",
       "      <th>Team</th>\n",
       "      <th>Number</th>\n",
       "      <th>Position</th>\n",
       "      <th>Age</th>\n",
       "      <th>Height</th>\n",
       "      <th>Weight</th>\n",
       "      <th>College</th>\n",
       "      <th>Salary</th>\n",
       "    </tr>\n",
       "  </thead>\n",
       "  <tbody>\n",
       "    <tr>\n",
       "      <th>452</th>\n",
       "      <td>Trey Lyles</td>\n",
       "      <td>Utah Jazz</td>\n",
       "      <td>41.0</td>\n",
       "      <td>PF</td>\n",
       "      <td>20.0</td>\n",
       "      <td>6-10</td>\n",
       "      <td>234.0</td>\n",
       "      <td>Kentucky</td>\n",
       "      <td>2239800.0</td>\n",
       "    </tr>\n",
       "    <tr>\n",
       "      <th>453</th>\n",
       "      <td>Shelvin Mack</td>\n",
       "      <td>Utah Jazz</td>\n",
       "      <td>8.0</td>\n",
       "      <td>PG</td>\n",
       "      <td>26.0</td>\n",
       "      <td>6-3</td>\n",
       "      <td>203.0</td>\n",
       "      <td>Butler</td>\n",
       "      <td>2433333.0</td>\n",
       "    </tr>\n",
       "    <tr>\n",
       "      <th>454</th>\n",
       "      <td>Raul Neto</td>\n",
       "      <td>Utah Jazz</td>\n",
       "      <td>25.0</td>\n",
       "      <td>PG</td>\n",
       "      <td>24.0</td>\n",
       "      <td>6-1</td>\n",
       "      <td>179.0</td>\n",
       "      <td>NaN</td>\n",
       "      <td>900000.0</td>\n",
       "    </tr>\n",
       "    <tr>\n",
       "      <th>455</th>\n",
       "      <td>Tibor Pleiss</td>\n",
       "      <td>Utah Jazz</td>\n",
       "      <td>21.0</td>\n",
       "      <td>C</td>\n",
       "      <td>26.0</td>\n",
       "      <td>7-3</td>\n",
       "      <td>256.0</td>\n",
       "      <td>NaN</td>\n",
       "      <td>2900000.0</td>\n",
       "    </tr>\n",
       "    <tr>\n",
       "      <th>456</th>\n",
       "      <td>Jeff Withey</td>\n",
       "      <td>Utah Jazz</td>\n",
       "      <td>24.0</td>\n",
       "      <td>C</td>\n",
       "      <td>26.0</td>\n",
       "      <td>7-0</td>\n",
       "      <td>231.0</td>\n",
       "      <td>Kansas</td>\n",
       "      <td>947276.0</td>\n",
       "    </tr>\n",
       "  </tbody>\n",
       "</table>\n",
       "</div>"
      ],
      "text/plain": [
       "             Name       Team  Number Position   Age Height  Weight   College  \\\n",
       "452    Trey Lyles  Utah Jazz    41.0       PF  20.0   6-10   234.0  Kentucky   \n",
       "453  Shelvin Mack  Utah Jazz     8.0       PG  26.0    6-3   203.0    Butler   \n",
       "454     Raul Neto  Utah Jazz    25.0       PG  24.0    6-1   179.0       NaN   \n",
       "455  Tibor Pleiss  Utah Jazz    21.0        C  26.0    7-3   256.0       NaN   \n",
       "456   Jeff Withey  Utah Jazz    24.0        C  26.0    7-0   231.0    Kansas   \n",
       "\n",
       "        Salary  \n",
       "452  2239800.0  \n",
       "453  2433333.0  \n",
       "454   900000.0  \n",
       "455  2900000.0  \n",
       "456   947276.0  "
      ]
     },
     "execution_count": 4,
     "metadata": {},
     "output_type": "execute_result"
    }
   ],
   "source": [
    "nba = pd.read_csv(\"nba.csv\").dropna(how = \"all\") # dropa rows onde todos os valores estão ausentes\n",
    "nba.tail()"
   ]
  },
  {
   "cell_type": "markdown",
   "id": "0761c873-cb4b-45c2-a1b7-5dc7b0415e73",
   "metadata": {},
   "source": [
    "Identificar colunas como categóricas diminui consideravelmente o consumo de memória do dataframe"
   ]
  },
  {
   "cell_type": "markdown",
   "id": "e579abe9-ebc1-4408-9c96-26f2250304a2",
   "metadata": {},
   "source": [
    "O que o pandas faz por de baixo dos panos é invés de replicar ou duplicar esses valores para cada linha do dataframe, ele cria cópias desses valores únicos e apenas reutiliza esses valores;"
   ]
  },
  {
   "cell_type": "code",
   "execution_count": 5,
   "id": "aa3cd4d9-dc7c-478d-b0a5-8803809e0020",
   "metadata": {},
   "outputs": [
    {
     "data": {
      "text/plain": [
       "Name         object\n",
       "Team         object\n",
       "Number      float64\n",
       "Position     object\n",
       "Age         float64\n",
       "Height       object\n",
       "Weight      float64\n",
       "College      object\n",
       "Salary      float64\n",
       "dtype: object"
      ]
     },
     "execution_count": 5,
     "metadata": {},
     "output_type": "execute_result"
    }
   ],
   "source": [
    "# É importante verificar os tipos de dados do dataframe que estamos lidando para identificar bons candidatos para serem identificados como colunas categóricas\n",
    "nba.dtypes "
   ]
  },
  {
   "cell_type": "code",
   "execution_count": 6,
   "id": "fabd89b8-3848-45f1-b330-ab1529f32a6d",
   "metadata": {},
   "outputs": [
    {
     "data": {
      "text/plain": [
       "457"
      ]
     },
     "execution_count": 6,
     "metadata": {},
     "output_type": "execute_result"
    }
   ],
   "source": [
    "len(nba)"
   ]
  },
  {
   "cell_type": "code",
   "execution_count": 8,
   "id": "d2eb7481-9fe5-4af1-908e-eac64d0e2e97",
   "metadata": {},
   "outputs": [
    {
     "name": "stdout",
     "output_type": "stream",
     "text": [
      "<class 'pandas.core.frame.DataFrame'>\n",
      "Int64Index: 457 entries, 0 to 456\n",
      "Data columns (total 9 columns):\n",
      " #   Column    Non-Null Count  Dtype  \n",
      "---  ------    --------------  -----  \n",
      " 0   Name      457 non-null    object \n",
      " 1   Team      457 non-null    object \n",
      " 2   Number    457 non-null    float64\n",
      " 3   Position  457 non-null    object \n",
      " 4   Age       457 non-null    float64\n",
      " 5   Height    457 non-null    object \n",
      " 6   Weight    457 non-null    float64\n",
      " 7   College   373 non-null    object \n",
      " 8   Salary    446 non-null    float64\n",
      "dtypes: float64(4), object(5)\n",
      "memory usage: 35.7+ KB\n"
     ]
    }
   ],
   "source": [
    "# Com o método abaixo podemos identificar informações valiosas sobre o nosso dataset como por exemplo:\n",
    "# quantidade de valores não nulos em cada coluna;\n",
    "# data type de cada coluna;\n",
    "# Uso de memória atual do dataset --> podemos comparar depois para ver a variação percentual da queda do uso de memória após algumas transformações que vizam otimizar esse processo;\n",
    "\n",
    "nba.info()"
   ]
  },
  {
   "cell_type": "code",
   "execution_count": 7,
   "id": "fa3e0e62-c824-46ff-b9fe-5ff034c00010",
   "metadata": {},
   "outputs": [
    {
     "data": {
      "text/plain": [
       "5"
      ]
     },
     "execution_count": 7,
     "metadata": {},
     "output_type": "execute_result"
    }
   ],
   "source": [
    "nba['Position'].nunique()"
   ]
  },
  {
   "cell_type": "code",
   "execution_count": 10,
   "id": "f46ecd9c-70a3-44f4-8f9b-9b3762f39871",
   "metadata": {},
   "outputs": [],
   "source": [
    "nba['Position'] = nba['Position'].astype(\"category\")"
   ]
  },
  {
   "cell_type": "code",
   "execution_count": 11,
   "id": "b67d0aad-0166-4d44-b02c-7e210540da5a",
   "metadata": {},
   "outputs": [
    {
     "name": "stdout",
     "output_type": "stream",
     "text": [
      "<class 'pandas.core.frame.DataFrame'>\n",
      "Int64Index: 457 entries, 0 to 456\n",
      "Data columns (total 9 columns):\n",
      " #   Column    Non-Null Count  Dtype   \n",
      "---  ------    --------------  -----   \n",
      " 0   Name      457 non-null    object  \n",
      " 1   Team      457 non-null    object  \n",
      " 2   Number    457 non-null    float64 \n",
      " 3   Position  457 non-null    category\n",
      " 4   Age       457 non-null    float64 \n",
      " 5   Height    457 non-null    object  \n",
      " 6   Weight    457 non-null    float64 \n",
      " 7   College   373 non-null    object  \n",
      " 8   Salary    446 non-null    float64 \n",
      "dtypes: category(1), float64(4), object(4)\n",
      "memory usage: 32.8+ KB\n"
     ]
    }
   ],
   "source": [
    "nba.info()"
   ]
  },
  {
   "cell_type": "code",
   "execution_count": 16,
   "id": "5b2a0d49-bb5c-450b-a504-2b8ed5b81b27",
   "metadata": {},
   "outputs": [
    {
     "name": "stdout",
     "output_type": "stream",
     "text": [
      "variação percentual relativa de redução de -8.12% no uso da memória.\n"
     ]
    }
   ],
   "source": [
    " print(f\"variação percentual relativa de redução de {round(((32.8 / 35.7) - 1) * 100, 2)}% no uso da memória.\")"
   ]
  },
  {
   "cell_type": "code",
   "execution_count": 17,
   "id": "6d12e451-1a64-4c5f-9b7e-ff3b46c936d7",
   "metadata": {},
   "outputs": [
    {
     "data": {
      "text/plain": [
       "False"
      ]
     },
     "execution_count": 17,
     "metadata": {},
     "output_type": "execute_result"
    }
   ],
   "source": [
    "nba['Team'].hasnans"
   ]
  },
  {
   "cell_type": "code",
   "execution_count": 18,
   "id": "a48f65eb-3216-43db-94bd-563e3e59489f",
   "metadata": {},
   "outputs": [
    {
     "data": {
      "text/plain": [
       "30"
      ]
     },
     "execution_count": 18,
     "metadata": {},
     "output_type": "execute_result"
    }
   ],
   "source": [
    "nba['Team'].nunique()"
   ]
  },
  {
   "cell_type": "code",
   "execution_count": 19,
   "id": "bcbc0327-6af8-4152-9d14-2a0069dce9f8",
   "metadata": {},
   "outputs": [],
   "source": [
    "nba['Team'] = nba['Team'].astype(\"category\")"
   ]
  },
  {
   "cell_type": "code",
   "execution_count": 20,
   "id": "a01237a0-da51-4749-a190-85a70f726b21",
   "metadata": {},
   "outputs": [
    {
     "name": "stdout",
     "output_type": "stream",
     "text": [
      "<class 'pandas.core.frame.DataFrame'>\n",
      "Int64Index: 457 entries, 0 to 456\n",
      "Data columns (total 9 columns):\n",
      " #   Column    Non-Null Count  Dtype   \n",
      "---  ------    --------------  -----   \n",
      " 0   Name      457 non-null    object  \n",
      " 1   Team      457 non-null    category\n",
      " 2   Number    457 non-null    float64 \n",
      " 3   Position  457 non-null    category\n",
      " 4   Age       457 non-null    float64 \n",
      " 5   Height    457 non-null    object  \n",
      " 6   Weight    457 non-null    float64 \n",
      " 7   College   373 non-null    object  \n",
      " 8   Salary    446 non-null    float64 \n",
      "dtypes: category(2), float64(4), object(3)\n",
      "memory usage: 30.9+ KB\n"
     ]
    }
   ],
   "source": [
    "nba.info()"
   ]
  },
  {
   "cell_type": "code",
   "execution_count": 21,
   "id": "f3af0e3d-8eff-4729-ba1a-1b15ddab6ac3",
   "metadata": {},
   "outputs": [
    {
     "name": "stdout",
     "output_type": "stream",
     "text": [
      "variação percentual relativa de redução de -5.79% no uso da memória.\n"
     ]
    }
   ],
   "source": [
    " print(f\"variação percentual relativa de redução de {round(((30.9 / 32.8) - 1) * 100, 2)}% no uso da memória.\")"
   ]
  },
  {
   "cell_type": "code",
   "execution_count": 22,
   "id": "e9617bb7-6700-420b-a459-140b7a7b3053",
   "metadata": {},
   "outputs": [
    {
     "name": "stdout",
     "output_type": "stream",
     "text": [
      "variação percentual relativa de redução final é de -13.45% no uso da memória.\n"
     ]
    }
   ],
   "source": [
    " print(f\"variação percentual relativa de redução final é de {round(((30.9 / 35.7) - 1) * 100, 2)}% no uso da memória.\")"
   ]
  },
  {
   "cell_type": "code",
   "execution_count": null,
   "id": "a47b4ae9-cd50-43ce-93be-8abd5d276765",
   "metadata": {},
   "outputs": [],
   "source": []
  }
 ],
 "metadata": {
  "kernelspec": {
   "display_name": "Python 3 (ipykernel)",
   "language": "python",
   "name": "python3"
  },
  "language_info": {
   "codemirror_mode": {
    "name": "ipython",
    "version": 3
   },
   "file_extension": ".py",
   "mimetype": "text/x-python",
   "name": "python",
   "nbconvert_exporter": "python",
   "pygments_lexer": "ipython3",
   "version": "3.10.6"
  }
 },
 "nbformat": 4,
 "nbformat_minor": 5
}
