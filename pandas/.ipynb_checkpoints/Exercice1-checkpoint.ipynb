{
 "cells": [
  {
   "cell_type": "markdown",
   "id": "410da6d5",
   "metadata": {},
   "source": [
    "# Imports"
   ]
  },
  {
   "cell_type": "code",
   "execution_count": 2,
   "id": "aa2ca360",
   "metadata": {},
   "outputs": [],
   "source": [
    "import pandas as pd"
   ]
  },
  {
   "cell_type": "markdown",
   "id": "5aba9314",
   "metadata": {},
   "source": [
    "# Create a Serie Object v2"
   ]
  },
  {
   "cell_type": "markdown",
   "id": "61b09b94",
   "metadata": {},
   "source": [
    "### Create a list with 4 countries - United States, France, Germany, Italy"
   ]
  },
  {
   "cell_type": "code",
   "execution_count": 3,
   "id": "ef568e48",
   "metadata": {},
   "outputs": [],
   "source": [
    "list_countries = [\"United States\", \"France\", \"Germany\", \"Italy\"]"
   ]
  },
  {
   "cell_type": "markdown",
   "id": "d4223892",
   "metadata": {},
   "source": [
    "### Create a new Series by passing in the list of countries and Assign the Series to a \"countries\" variable"
   ]
  },
  {
   "cell_type": "code",
   "execution_count": 6,
   "id": "7299c708",
   "metadata": {},
   "outputs": [
    {
     "data": {
      "text/plain": [
       "0    United States\n",
       "1           France\n",
       "2          Germany\n",
       "3            Italy\n",
       "dtype: object"
      ]
     },
     "execution_count": 6,
     "metadata": {},
     "output_type": "execute_result"
    }
   ],
   "source": [
    "countries = pd.Series(list_countries)\n",
    "\n",
    "countries"
   ]
  },
  {
   "cell_type": "markdown",
   "id": "37196197",
   "metadata": {},
   "source": [
    "------------------------------------------------------------------------------------------------"
   ]
  },
  {
   "cell_type": "markdown",
   "id": "2c09aede",
   "metadata": {},
   "source": [
    "### Create a list with 3 colors - red, green, blue"
   ]
  },
  {
   "cell_type": "code",
   "execution_count": 7,
   "id": "466bff04",
   "metadata": {},
   "outputs": [],
   "source": [
    "list_colors = [\"red\", \"green\", \"blue\"]"
   ]
  },
  {
   "cell_type": "markdown",
   "id": "23974984",
   "metadata": {},
   "source": [
    "### Create a new Series by passing in the list of colors and Assign the Series to a \"colors\" variable"
   ]
  },
  {
   "cell_type": "code",
   "execution_count": 8,
   "id": "bd8aa8dc",
   "metadata": {},
   "outputs": [
    {
     "data": {
      "text/plain": [
       "0      red\n",
       "1    green\n",
       "2     blue\n",
       "dtype: object"
      ]
     },
     "execution_count": 8,
     "metadata": {},
     "output_type": "execute_result"
    }
   ],
   "source": [
    "colors = pd.Series(list_colors)\n",
    "\n",
    "colors"
   ]
  },
  {
   "cell_type": "markdown",
   "id": "170a431a",
   "metadata": {},
   "source": [
    "----------------------------------------------------------------------------------------------------------"
   ]
  },
  {
   "cell_type": "markdown",
   "id": "c6bef6e8",
   "metadata": {},
   "source": [
    "### Given the \"recipe\" dictionary below:"
   ]
  },
  {
   "cell_type": "code",
   "execution_count": 9,
   "id": "ad23c1f2",
   "metadata": {},
   "outputs": [],
   "source": [
    "recipe = {\n",
    "  \"Flour\": True,\n",
    "  \"Sugar\": True,\n",
    "  \"Salt\": False\n",
    "}"
   ]
  },
  {
   "cell_type": "markdown",
   "id": "2891a588",
   "metadata": {},
   "source": [
    "###  Assign the resulting Series to a \"series_dict\" variable"
   ]
  },
  {
   "cell_type": "code",
   "execution_count": 10,
   "id": "9d7b0952",
   "metadata": {},
   "outputs": [
    {
     "data": {
      "text/plain": [
       "Flour     True\n",
       "Sugar     True\n",
       "Salt     False\n",
       "dtype: bool"
      ]
     },
     "execution_count": 10,
     "metadata": {},
     "output_type": "execute_result"
    }
   ],
   "source": [
    "series_dict = pd.Series(recipe)\n",
    "\n",
    "series_dict"
   ]
  }
 ],
 "metadata": {
  "kernelspec": {
   "display_name": "Python 3 (ipykernel)",
   "language": "python",
   "name": "python3"
  },
  "language_info": {
   "codemirror_mode": {
    "name": "ipython",
    "version": 3
   },
   "file_extension": ".py",
   "mimetype": "text/x-python",
   "name": "python",
   "nbconvert_exporter": "python",
   "pygments_lexer": "ipython3",
   "version": "3.10.4"
  }
 },
 "nbformat": 4,
 "nbformat_minor": 5
}
