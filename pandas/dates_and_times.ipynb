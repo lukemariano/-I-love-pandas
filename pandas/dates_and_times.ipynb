{
 "cells": [
  {
   "cell_type": "code",
   "execution_count": 3,
   "id": "9ef11d19-60ce-48ba-9dc0-60f8646c33aa",
   "metadata": {},
   "outputs": [],
   "source": [
    "import pandas as pd\n",
    "import datetime as dt"
   ]
  },
  {
   "cell_type": "markdown",
   "id": "010eac9c-56db-42b6-b803-067bde32f8a2",
   "metadata": {},
   "source": [
    "## **Review of Python datetime Module**"
   ]
  },
  {
   "cell_type": "code",
   "execution_count": 6,
   "id": "8ad0be0c-62e3-4a63-9176-c0cdb0e8cbaa",
   "metadata": {},
   "outputs": [],
   "source": [
    "someday = dt.date(2023, 7, 18)"
   ]
  },
  {
   "cell_type": "code",
   "execution_count": 7,
   "id": "d561d279-73ad-4cd7-b8d2-60e118d1810d",
   "metadata": {},
   "outputs": [
    {
     "data": {
      "text/plain": [
       "2023"
      ]
     },
     "execution_count": 7,
     "metadata": {},
     "output_type": "execute_result"
    }
   ],
   "source": [
    "someday.year"
   ]
  },
  {
   "cell_type": "code",
   "execution_count": 8,
   "id": "dddc429a-d20e-4ec7-836a-d19c41893806",
   "metadata": {},
   "outputs": [
    {
     "data": {
      "text/plain": [
       "7"
      ]
     },
     "execution_count": 8,
     "metadata": {},
     "output_type": "execute_result"
    }
   ],
   "source": [
    "someday.month"
   ]
  },
  {
   "cell_type": "code",
   "execution_count": 9,
   "id": "420abac9-cb55-4f91-a878-e7527482cb97",
   "metadata": {},
   "outputs": [
    {
     "data": {
      "text/plain": [
       "18"
      ]
     },
     "execution_count": 9,
     "metadata": {},
     "output_type": "execute_result"
    }
   ],
   "source": [
    "someday.day"
   ]
  },
  {
   "cell_type": "code",
   "execution_count": 19,
   "id": "281341a8-4436-4730-9fc6-e4d290870809",
   "metadata": {},
   "outputs": [
    {
     "data": {
      "text/plain": [
       "'2023-07-18'"
      ]
     },
     "execution_count": 19,
     "metadata": {},
     "output_type": "execute_result"
    }
   ],
   "source": [
    "str(someday)"
   ]
  },
  {
   "cell_type": "code",
   "execution_count": 18,
   "id": "139960f5-1701-4891-a20d-145f5090665d",
   "metadata": {},
   "outputs": [
    {
     "data": {
      "text/plain": [
       "'2023-07-17 17:13:57'"
      ]
     },
     "execution_count": 18,
     "metadata": {},
     "output_type": "execute_result"
    }
   ],
   "source": [
    "str(dt.datetime(2023, 7, 17, 17, 13, 57))"
   ]
  },
  {
   "cell_type": "markdown",
   "id": "b0909c3f-cdf1-4e79-bb02-3bcea2e38476",
   "metadata": {},
   "source": [
    "#### O construtor str() nos permite visualizar objetos de data em um formato legível."
   ]
  },
  {
   "cell_type": "code",
   "execution_count": 20,
   "id": "81a9b58b-426f-4820-8e93-6ac1f31b6b36",
   "metadata": {},
   "outputs": [],
   "source": [
    "sometime = dt.datetime(2023, 7, 17, 17, 13, 57)"
   ]
  },
  {
   "cell_type": "code",
   "execution_count": 21,
   "id": "5c93824a-204f-446d-8597-157549ce6eaf",
   "metadata": {},
   "outputs": [
    {
     "data": {
      "text/plain": [
       "2023"
      ]
     },
     "execution_count": 21,
     "metadata": {},
     "output_type": "execute_result"
    }
   ],
   "source": [
    "sometime.year"
   ]
  },
  {
   "cell_type": "code",
   "execution_count": 22,
   "id": "af7cc2cd-ee0a-43fc-a611-9f6f6a80ebd3",
   "metadata": {},
   "outputs": [
    {
     "data": {
      "text/plain": [
       "7"
      ]
     },
     "execution_count": 22,
     "metadata": {},
     "output_type": "execute_result"
    }
   ],
   "source": [
    "sometime.month"
   ]
  },
  {
   "cell_type": "code",
   "execution_count": 23,
   "id": "5f799246-917a-4c56-bdc7-ad6618873e44",
   "metadata": {},
   "outputs": [
    {
     "data": {
      "text/plain": [
       "17"
      ]
     },
     "execution_count": 23,
     "metadata": {},
     "output_type": "execute_result"
    }
   ],
   "source": [
    "sometime.day"
   ]
  },
  {
   "cell_type": "code",
   "execution_count": 24,
   "id": "49a75550-35a5-4d3c-ae1d-dabd967fc208",
   "metadata": {},
   "outputs": [
    {
     "data": {
      "text/plain": [
       "17"
      ]
     },
     "execution_count": 24,
     "metadata": {},
     "output_type": "execute_result"
    }
   ],
   "source": [
    "sometime.hour"
   ]
  },
  {
   "cell_type": "code",
   "execution_count": 25,
   "id": "483087d2-bdb9-4171-a788-f764cfb36d3a",
   "metadata": {},
   "outputs": [
    {
     "data": {
      "text/plain": [
       "13"
      ]
     },
     "execution_count": 25,
     "metadata": {},
     "output_type": "execute_result"
    }
   ],
   "source": [
    "sometime.minute"
   ]
  },
  {
   "cell_type": "code",
   "execution_count": 26,
   "id": "a0472831-b210-4a90-af84-e4432138948b",
   "metadata": {},
   "outputs": [
    {
     "data": {
      "text/plain": [
       "57"
      ]
     },
     "execution_count": 26,
     "metadata": {},
     "output_type": "execute_result"
    }
   ],
   "source": [
    "sometime.second"
   ]
  },
  {
   "cell_type": "code",
   "execution_count": 34,
   "id": "10a6a849-e8ce-43c0-bc32-9dbe8c930950",
   "metadata": {},
   "outputs": [
    {
     "data": {
      "text/plain": [
       "0"
      ]
     },
     "execution_count": 34,
     "metadata": {},
     "output_type": "execute_result"
    }
   ],
   "source": [
    "sometime.weekday()"
   ]
  },
  {
   "cell_type": "code",
   "execution_count": null,
   "id": "a0422318-d849-43f1-ba79-4a39b4c820a0",
   "metadata": {},
   "outputs": [],
   "source": []
  },
  {
   "cell_type": "markdown",
   "id": "76ebf264-edca-4b35-8335-92be3a40a842",
   "metadata": {},
   "source": [
    "## **The pandas Timestamp Object**"
   ]
  },
  {
   "cell_type": "code",
   "execution_count": 36,
   "id": "2cbfae3f-a606-4394-9787-c1dc97c7cb60",
   "metadata": {},
   "outputs": [
    {
     "data": {
      "text/plain": [
       "pandas._libs.tslibs.timestamps.Timestamp"
      ]
     },
     "execution_count": 36,
     "metadata": {},
     "output_type": "execute_result"
    }
   ],
   "source": [
    "type(pd.Timestamp(\"2023-07-18\"))"
   ]
  },
  {
   "cell_type": "code",
   "execution_count": 38,
   "id": "1ac36932-784c-46e9-83de-192acda525f9",
   "metadata": {},
   "outputs": [
    {
     "data": {
      "text/plain": [
       "'2023-07-18 00:00:00'"
      ]
     },
     "execution_count": 38,
     "metadata": {},
     "output_type": "execute_result"
    }
   ],
   "source": [
    "str(pd.Timestamp(\"2023-07-18\"))"
   ]
  },
  {
   "cell_type": "code",
   "execution_count": 42,
   "id": "e5414da6-8878-4a52-833e-1d777f36ef8b",
   "metadata": {},
   "outputs": [
    {
     "data": {
      "text/plain": [
       "Timestamp('2023-07-18 00:00:00')"
      ]
     },
     "execution_count": 42,
     "metadata": {},
     "output_type": "execute_result"
    }
   ],
   "source": [
    "pd.Timestamp(\"2023/07/18\")\n",
    "pd.Timestamp(\"2023, 07, 18\")\n",
    "pd.Timestamp(\"18/7/2023\")"
   ]
  },
  {
   "cell_type": "markdown",
   "id": "147bbd8e-ea6d-4b51-9af5-3851ab48e40b",
   "metadata": {},
   "source": [
    "#### A ressalva aqui, é que dependendo do formato da data, as vezes o pandas consegue descobrir o formato correto da data (ano-mês-dia), mas as vezes o formato fornecido pode ser um pouco confuso, e output retornado pode não estar conforme o esperado."
   ]
  },
  {
   "cell_type": "code",
   "execution_count": 45,
   "id": "a0ce3b98-1ea7-4820-a00f-db52852158df",
   "metadata": {},
   "outputs": [
    {
     "data": {
      "text/plain": [
       "Timestamp('2023-07-18 21:30:00')"
      ]
     },
     "execution_count": 45,
     "metadata": {},
     "output_type": "execute_result"
    }
   ],
   "source": [
    "pd.Timestamp(\"2023-07-18 21:30:00\")"
   ]
  },
  {
   "cell_type": "code",
   "execution_count": 46,
   "id": "6a43552e-e9ed-4a3d-aee5-666b7c58fe14",
   "metadata": {},
   "outputs": [
    {
     "data": {
      "text/plain": [
       "Timestamp('2021-03-08 18:13:29')"
      ]
     },
     "execution_count": 46,
     "metadata": {},
     "output_type": "execute_result"
    }
   ],
   "source": [
    "pd.Timestamp(\"2021-03-08 6:13:29 PM\")"
   ]
  },
  {
   "cell_type": "code",
   "execution_count": 48,
   "id": "d1d815af-613a-4342-a697-e9dbab0e8f1f",
   "metadata": {},
   "outputs": [
    {
     "data": {
      "text/plain": [
       "Timestamp('2023-07-18 00:00:00')"
      ]
     },
     "execution_count": 48,
     "metadata": {},
     "output_type": "execute_result"
    }
   ],
   "source": [
    "pd.Timestamp(dt.date(2023, 7, 18))"
   ]
  },
  {
   "cell_type": "code",
   "execution_count": 49,
   "id": "4f974bb3-88a4-48e6-ba99-5c2ea4615a8f",
   "metadata": {},
   "outputs": [
    {
     "data": {
      "text/plain": [
       "Timestamp('2023-07-18 21:30:10')"
      ]
     },
     "execution_count": 49,
     "metadata": {},
     "output_type": "execute_result"
    }
   ],
   "source": [
    "pd.Timestamp(dt.datetime(2023, 7, 18, 21, 30, 10))"
   ]
  },
  {
   "cell_type": "code",
   "execution_count": null,
   "id": "b087fbf8-70f4-444a-88a1-8d2f5b163cdb",
   "metadata": {},
   "outputs": [],
   "source": []
  },
  {
   "cell_type": "markdown",
   "id": "de70c279-a4b5-489f-924e-e5bc11f3dd39",
   "metadata": {},
   "source": [
    "## **The pandas DateTimeIndex Object**"
   ]
  },
  {
   "cell_type": "code",
   "execution_count": 51,
   "id": "3e477b29-2aaa-4126-a131-b0fcbb9026c5",
   "metadata": {},
   "outputs": [
    {
     "data": {
      "text/plain": [
       "DatetimeIndex(['2023-07-18', '1990-06-13', '2002-02-24'], dtype='datetime64[ns]', freq=None)"
      ]
     },
     "execution_count": 51,
     "metadata": {},
     "output_type": "execute_result"
    }
   ],
   "source": [
    "dates = [\"2023-07-18\", \"1990-06-13\", \"2002-02-24\"]\n",
    "\n",
    "pd.DatetimeIndex(dates) # Armazena datas no formato datetime"
   ]
  },
  {
   "cell_type": "code",
   "execution_count": 52,
   "id": "05558cf0-5048-4b87-86c8-5b025d116091",
   "metadata": {},
   "outputs": [],
   "source": [
    "dates = [dt.date(2023, 7, 18), dt.date(2023, 7, 19), dt.date(2023, 7, 20)]"
   ]
  },
  {
   "cell_type": "code",
   "execution_count": 54,
   "id": "b3e91f3c-688f-4656-82be-da8d5aa43800",
   "metadata": {},
   "outputs": [],
   "source": [
    "dt_index = pd.DatetimeIndex(dates)"
   ]
  },
  {
   "cell_type": "code",
   "execution_count": 55,
   "id": "627ef6b0-4f3d-4988-a031-f7c5483d736a",
   "metadata": {},
   "outputs": [
    {
     "data": {
      "text/plain": [
       "2023-07-18    100\n",
       "2023-07-19    200\n",
       "2023-07-20    300\n",
       "dtype: int64"
      ]
     },
     "execution_count": 55,
     "metadata": {},
     "output_type": "execute_result"
    }
   ],
   "source": [
    "values = [100, 200, 300]\n",
    "\n",
    "pd.Series(data = values, index = dt_index)"
   ]
  },
  {
   "cell_type": "markdown",
   "id": "fa62ef6c-d5cb-47b3-a163-8291378da570",
   "metadata": {},
   "source": [
    "#### Em resumo, o método pd.DateTimeIndex() serve apenas como um container para armazenar dados no formato datetime, de modo com que possam ser manipulados mais tarde em objetos Series ou Dataframes."
   ]
  },
  {
   "cell_type": "code",
   "execution_count": null,
   "id": "fe2b7dc9-6bd8-4b54-b94f-8fc7ae31f53b",
   "metadata": {},
   "outputs": [],
   "source": []
  },
  {
   "cell_type": "markdown",
   "id": "43d3dd7d-283c-4b36-b53d-7796af1edefa",
   "metadata": {},
   "source": [
    "## The pd.to_datetime() Method"
   ]
  },
  {
   "cell_type": "code",
   "execution_count": 56,
   "id": "c60b3571-0c7d-4194-b5ab-9fda265df81b",
   "metadata": {},
   "outputs": [
    {
     "data": {
      "text/plain": [
       "DatetimeIndex(['2023-07-18', '2023-07-19', '2023-07-20'], dtype='datetime64[ns]', freq=None)"
      ]
     },
     "execution_count": 56,
     "metadata": {},
     "output_type": "execute_result"
    }
   ],
   "source": [
    "pd.to_datetime([\"2023-07-18\", \"2023-07-19\", \"2023-07-20\"])"
   ]
  },
  {
   "cell_type": "code",
   "execution_count": 57,
   "id": "6dd4cafe-d966-437b-9ad2-f19b64dee860",
   "metadata": {},
   "outputs": [
    {
     "data": {
      "text/plain": [
       "Timestamp('2023-07-18 00:00:00')"
      ]
     },
     "execution_count": 57,
     "metadata": {},
     "output_type": "execute_result"
    }
   ],
   "source": [
    "pd.to_datetime(\"2023-07-18\")"
   ]
  },
  {
   "cell_type": "code",
   "execution_count": 62,
   "id": "4698d299-e8af-43dd-a3e9-d137ae0f9341",
   "metadata": {},
   "outputs": [
    {
     "data": {
      "text/plain": [
       "Timestamp('2023-07-18 21:40:31.593402')"
      ]
     },
     "execution_count": 62,
     "metadata": {},
     "output_type": "execute_result"
    }
   ],
   "source": [
    "pd.to_datetime(dt.datetime.now())"
   ]
  },
  {
   "cell_type": "code",
   "execution_count": 63,
   "id": "305ab06d-4b32-4f8c-b126-3bee9017b580",
   "metadata": {},
   "outputs": [
    {
     "data": {
      "text/plain": [
       "DatetimeIndex(['2023-01-01', '2023-07-17'], dtype='datetime64[ns]', freq=None)"
      ]
     },
     "execution_count": 63,
     "metadata": {},
     "output_type": "execute_result"
    }
   ],
   "source": [
    "pd.to_datetime([\"2023\", \"July 17th, 2023\"])"
   ]
  },
  {
   "cell_type": "code",
   "execution_count": 67,
   "id": "601fb796-7e76-4521-bff8-1d917ded94b6",
   "metadata": {},
   "outputs": [
    {
     "data": {
      "text/plain": [
       "0               2023\n",
       "1    July 17th, 2023\n",
       "2        2023, 7, 18\n",
       "dtype: object"
      ]
     },
     "execution_count": 67,
     "metadata": {},
     "output_type": "execute_result"
    }
   ],
   "source": [
    "s = pd.Series([\"2023\", \"July 17th, 2023\", \"2023, 7, 18\"])\n",
    "s"
   ]
  },
  {
   "cell_type": "code",
   "execution_count": 68,
   "id": "2c872eb2-ef10-43d3-94b2-b21227f9927b",
   "metadata": {},
   "outputs": [
    {
     "data": {
      "text/plain": [
       "0   2023-01-01\n",
       "1   2023-07-17\n",
       "2   2023-07-18\n",
       "dtype: datetime64[ns]"
      ]
     },
     "execution_count": 68,
     "metadata": {},
     "output_type": "execute_result"
    }
   ],
   "source": [
    "pd.to_datetime(s)"
   ]
  },
  {
   "cell_type": "code",
   "execution_count": 70,
   "id": "8bb1fcbe-7efc-4c8f-9686-3c59308b86eb",
   "metadata": {},
   "outputs": [
    {
     "data": {
      "text/plain": [
       "0    July 4th, 1996\n",
       "1        10/04/1991\n",
       "2             Hello\n",
       "3        2015-02-31\n",
       "dtype: object"
      ]
     },
     "execution_count": 70,
     "metadata": {},
     "output_type": "execute_result"
    }
   ],
   "source": [
    "dates = pd.Series([\"July 4th, 1996\", \"10/04/1991\", \"Hello\", \"2015-02-31\"])\n",
    "dates"
   ]
  },
  {
   "cell_type": "code",
   "execution_count": 73,
   "id": "b8a4cde3-68d2-46d3-b311-e6e50cfccd72",
   "metadata": {},
   "outputs": [
    {
     "data": {
      "text/plain": [
       "0   1996-07-04\n",
       "1   1991-10-04\n",
       "2          NaT\n",
       "3          NaT\n",
       "dtype: datetime64[ns]"
      ]
     },
     "execution_count": 73,
     "metadata": {},
     "output_type": "execute_result"
    }
   ],
   "source": [
    "pd.to_datetime(dates, errors = \"coerce\") # o argumento que passamos para o parâmetro \"errors\" nos permite apenas converter dados que puderem ser convertidos para o formato datetime.\n",
    "\n",
    "# NaT == Not a Time"
   ]
  },
  {
   "cell_type": "code",
   "execution_count": 75,
   "id": "87c72d01-40a0-42cf-8987-2d65b9c0b2a9",
   "metadata": {},
   "outputs": [
    {
     "data": {
      "text/plain": [
       "DatetimeIndex(['2012-10-08 18:15:05', '2012-10-09 18:15:05'], dtype='datetime64[ns]', freq=None)"
      ]
     },
     "execution_count": 75,
     "metadata": {},
     "output_type": "execute_result"
    }
   ],
   "source": [
    "pd.to_datetime([1349720105, 1349806505], unit = \"s\") # converte datas no formato Unix"
   ]
  },
  {
   "cell_type": "markdown",
   "id": "e417693c-0729-4b52-a562-dd6967e69d14",
   "metadata": {},
   "source": [
    "#### Em sintese, basicamente aprendemos a como converter datas nos mais diversos formatos com o método pd.to_datetime, além de aprendermos a utilizar o parâmetro errors = \"coerce\" para nos tornarmos capazes de converter os dados do nosso dataset que puderem serem convertidos para o formato de data, ignorando os que não puderem."
   ]
  },
  {
   "cell_type": "code",
   "execution_count": null,
   "id": "2de94122-58ff-4998-bba2-46733cf3d98e",
   "metadata": {},
   "outputs": [],
   "source": []
  },
  {
   "cell_type": "markdown",
   "id": "4038d4b7-0245-46e5-99be-4c979489c99e",
   "metadata": {},
   "source": [
    "## **Create Range of Dates with the pd.date_range() Method, Part 1**"
   ]
  },
  {
   "cell_type": "code",
   "execution_count": 78,
   "id": "4d0fe48b-190f-490d-a7eb-895e45cb37b5",
   "metadata": {},
   "outputs": [],
   "source": [
    "times = pd.date_range(start = \"2016-01-01\", end = \"2016-01-10\", freq = \"D\")"
   ]
  },
  {
   "cell_type": "code",
   "execution_count": 79,
   "id": "d737b3ce-fcbd-4077-81d3-9d88bda1c090",
   "metadata": {},
   "outputs": [
    {
     "data": {
      "text/plain": [
       "pandas.core.indexes.datetimes.DatetimeIndex"
      ]
     },
     "execution_count": 79,
     "metadata": {},
     "output_type": "execute_result"
    }
   ],
   "source": [
    "type(times)"
   ]
  },
  {
   "cell_type": "code",
   "execution_count": 82,
   "id": "a5089f0a-0465-44d0-86d9-fce198c22c00",
   "metadata": {},
   "outputs": [
    {
     "data": {
      "text/plain": [
       "Timestamp('2016-01-01 00:00:00', freq='D')"
      ]
     },
     "execution_count": 82,
     "metadata": {},
     "output_type": "execute_result"
    }
   ],
   "source": [
    "times[0]"
   ]
  },
  {
   "cell_type": "code",
   "execution_count": 83,
   "id": "98b15c2e-e0c6-465c-b372-fd89ca531bce",
   "metadata": {},
   "outputs": [
    {
     "data": {
      "text/plain": [
       "'2016-01-01 00:00:00'"
      ]
     },
     "execution_count": 83,
     "metadata": {},
     "output_type": "execute_result"
    }
   ],
   "source": [
    "str(times[0])"
   ]
  },
  {
   "cell_type": "code",
   "execution_count": 84,
   "id": "7a9610fa-3a24-4eea-ac10-7ad4430a9061",
   "metadata": {},
   "outputs": [
    {
     "data": {
      "text/plain": [
       "pandas._libs.tslibs.timestamps.Timestamp"
      ]
     },
     "execution_count": 84,
     "metadata": {},
     "output_type": "execute_result"
    }
   ],
   "source": [
    "type(times[0])"
   ]
  },
  {
   "cell_type": "code",
   "execution_count": 89,
   "id": "4bf2f0e9-352d-4329-93db-08a6c8914936",
   "metadata": {},
   "outputs": [
    {
     "data": {
      "text/plain": [
       "DatetimeIndex(['2016-01-01', '2016-01-03', '2016-01-05', '2016-01-07',\n",
       "               '2016-01-09'],\n",
       "              dtype='datetime64[ns]', freq='2D')"
      ]
     },
     "execution_count": 89,
     "metadata": {},
     "output_type": "execute_result"
    }
   ],
   "source": [
    "pd.date_range(start = \"2016-01-01\", end = \"2016-01-10\", freq = \"2D\")"
   ]
  },
  {
   "cell_type": "code",
   "execution_count": 90,
   "id": "602214ff-1c6d-49db-a2dc-1c5ac36f3bbd",
   "metadata": {},
   "outputs": [
    {
     "data": {
      "text/plain": [
       "DatetimeIndex(['2016-01-01', '2016-01-04', '2016-01-05', '2016-01-06',\n",
       "               '2016-01-07', '2016-01-08'],\n",
       "              dtype='datetime64[ns]', freq='B')"
      ]
     },
     "execution_count": 90,
     "metadata": {},
     "output_type": "execute_result"
    }
   ],
   "source": [
    "pd.date_range(start = \"2016-01-01\", end = \"2016-01-10\", freq = \"B\") # intervalo de datas apenas em dias úteis"
   ]
  },
  {
   "cell_type": "code",
   "execution_count": 92,
   "id": "30d45f40-0f48-42e5-9288-f4d28c2c1a9b",
   "metadata": {},
   "outputs": [
    {
     "data": {
      "text/plain": [
       "DatetimeIndex(['2016-01-03', '2016-01-10'], dtype='datetime64[ns]', freq='W-SUN')"
      ]
     },
     "execution_count": 92,
     "metadata": {},
     "output_type": "execute_result"
    }
   ],
   "source": [
    "pd.date_range(start = \"2016-01-01\", end = \"2016-01-15\", freq = \"W\") # pega apenas um dia por semana - Domingo | W-SUN"
   ]
  },
  {
   "cell_type": "code",
   "execution_count": 94,
   "id": "59099c92-cef4-41a8-8bbd-806e25e1aa6c",
   "metadata": {},
   "outputs": [
    {
     "data": {
      "text/plain": [
       "DatetimeIndex(['2016-01-01', '2016-01-08', '2016-01-15'], dtype='datetime64[ns]', freq='W-FRI')"
      ]
     },
     "execution_count": 94,
     "metadata": {},
     "output_type": "execute_result"
    }
   ],
   "source": [
    "pd.date_range(start = \"2016-01-01\", end = \"2016-01-15\", freq = \"W-FRI\") # podemos personalizar o dia da semana que queremos pegar"
   ]
  },
  {
   "cell_type": "code",
   "execution_count": 95,
   "id": "dd15fedc-7b97-4848-80ee-31a32cf85511",
   "metadata": {},
   "outputs": [
    {
     "data": {
      "text/plain": [
       "DatetimeIndex(['2016-01-01 00:00:00', '2016-01-01 01:00:00',\n",
       "               '2016-01-01 02:00:00', '2016-01-01 03:00:00',\n",
       "               '2016-01-01 04:00:00', '2016-01-01 05:00:00',\n",
       "               '2016-01-01 06:00:00', '2016-01-01 07:00:00',\n",
       "               '2016-01-01 08:00:00', '2016-01-01 09:00:00',\n",
       "               ...\n",
       "               '2016-01-14 15:00:00', '2016-01-14 16:00:00',\n",
       "               '2016-01-14 17:00:00', '2016-01-14 18:00:00',\n",
       "               '2016-01-14 19:00:00', '2016-01-14 20:00:00',\n",
       "               '2016-01-14 21:00:00', '2016-01-14 22:00:00',\n",
       "               '2016-01-14 23:00:00', '2016-01-15 00:00:00'],\n",
       "              dtype='datetime64[ns]', length=337, freq='H')"
      ]
     },
     "execution_count": 95,
     "metadata": {},
     "output_type": "execute_result"
    }
   ],
   "source": [
    "pd.date_range(start = \"2016-01-01\", end = \"2016-01-15\", freq = \"H\") # gera intervalo de datas por hora"
   ]
  },
  {
   "cell_type": "code",
   "execution_count": 97,
   "id": "514ff3e4-6d00-4e49-a68d-dbbdb61951ea",
   "metadata": {},
   "outputs": [
    {
     "data": {
      "text/plain": [
       "DatetimeIndex(['2016-01-01 00:00:00', '2016-01-01 06:00:00',\n",
       "               '2016-01-01 12:00:00', '2016-01-01 18:00:00',\n",
       "               '2016-01-02 00:00:00', '2016-01-02 06:00:00',\n",
       "               '2016-01-02 12:00:00', '2016-01-02 18:00:00',\n",
       "               '2016-01-03 00:00:00', '2016-01-03 06:00:00',\n",
       "               '2016-01-03 12:00:00', '2016-01-03 18:00:00',\n",
       "               '2016-01-04 00:00:00', '2016-01-04 06:00:00',\n",
       "               '2016-01-04 12:00:00', '2016-01-04 18:00:00',\n",
       "               '2016-01-05 00:00:00', '2016-01-05 06:00:00',\n",
       "               '2016-01-05 12:00:00', '2016-01-05 18:00:00',\n",
       "               '2016-01-06 00:00:00', '2016-01-06 06:00:00',\n",
       "               '2016-01-06 12:00:00', '2016-01-06 18:00:00',\n",
       "               '2016-01-07 00:00:00', '2016-01-07 06:00:00',\n",
       "               '2016-01-07 12:00:00', '2016-01-07 18:00:00',\n",
       "               '2016-01-08 00:00:00', '2016-01-08 06:00:00',\n",
       "               '2016-01-08 12:00:00', '2016-01-08 18:00:00',\n",
       "               '2016-01-09 00:00:00', '2016-01-09 06:00:00',\n",
       "               '2016-01-09 12:00:00', '2016-01-09 18:00:00',\n",
       "               '2016-01-10 00:00:00', '2016-01-10 06:00:00',\n",
       "               '2016-01-10 12:00:00', '2016-01-10 18:00:00',\n",
       "               '2016-01-11 00:00:00', '2016-01-11 06:00:00',\n",
       "               '2016-01-11 12:00:00', '2016-01-11 18:00:00',\n",
       "               '2016-01-12 00:00:00', '2016-01-12 06:00:00',\n",
       "               '2016-01-12 12:00:00', '2016-01-12 18:00:00',\n",
       "               '2016-01-13 00:00:00', '2016-01-13 06:00:00',\n",
       "               '2016-01-13 12:00:00', '2016-01-13 18:00:00',\n",
       "               '2016-01-14 00:00:00', '2016-01-14 06:00:00',\n",
       "               '2016-01-14 12:00:00', '2016-01-14 18:00:00',\n",
       "               '2016-01-15 00:00:00'],\n",
       "              dtype='datetime64[ns]', freq='6H')"
      ]
     },
     "execution_count": 97,
     "metadata": {},
     "output_type": "execute_result"
    }
   ],
   "source": [
    "pd.date_range(start = \"2016-01-01\", end = \"2016-01-15\", freq = \"6H\") # também podemos personalizar o intervalo de datas a nível de intervalo de horas"
   ]
  },
  {
   "cell_type": "code",
   "execution_count": 99,
   "id": "278cd52b-8ab7-4bfa-8fbf-3029c4dd81f8",
   "metadata": {},
   "outputs": [
    {
     "data": {
      "text/plain": [
       "DatetimeIndex(['2016-01-31', '2016-02-29', '2016-03-31', '2016-04-30',\n",
       "               '2016-05-31', '2016-06-30', '2016-07-31', '2016-08-31',\n",
       "               '2016-09-30', '2016-10-31', '2016-11-30', '2016-12-31'],\n",
       "              dtype='datetime64[ns]', freq='M')"
      ]
     },
     "execution_count": 99,
     "metadata": {},
     "output_type": "execute_result"
    }
   ],
   "source": [
    "pd.date_range(start = \"2016-01-01\", end = \"2016-12-31\", freq = \"M\") # intervalos de data a nível de meses | pega o último dia do mês"
   ]
  },
  {
   "cell_type": "code",
   "execution_count": 100,
   "id": "9aeec780-bcfe-4d46-91cd-e2ce06bb9d3f",
   "metadata": {},
   "outputs": [
    {
     "data": {
      "text/plain": [
       "DatetimeIndex(['2016-01-01', '2016-02-01', '2016-03-01', '2016-04-01',\n",
       "               '2016-05-01', '2016-06-01', '2016-07-01', '2016-08-01',\n",
       "               '2016-09-01', '2016-10-01', '2016-11-01', '2016-12-01'],\n",
       "              dtype='datetime64[ns]', freq='MS')"
      ]
     },
     "execution_count": 100,
     "metadata": {},
     "output_type": "execute_result"
    }
   ],
   "source": [
    "pd.date_range(start = \"2016-01-01\", end = \"2016-12-31\", freq = \"MS\") # intervalos de data a nível de inicio do dia do mês | Month Start"
   ]
  },
  {
   "cell_type": "code",
   "execution_count": 103,
   "id": "68ffb06d-4510-4d14-8ec7-38c45f1eb0c7",
   "metadata": {},
   "outputs": [
    {
     "data": {
      "text/plain": [
       "DatetimeIndex(['2016-01-01', '2017-01-01', '2018-01-01', '2019-01-01',\n",
       "               '2020-01-01', '2021-01-01', '2022-01-01', '2023-01-01',\n",
       "               '2024-01-01', '2025-01-01', '2026-01-01', '2027-01-01',\n",
       "               '2028-01-01', '2029-01-01', '2030-01-01', '2031-01-01',\n",
       "               '2032-01-01', '2033-01-01', '2034-01-01', '2035-01-01',\n",
       "               '2036-01-01', '2037-01-01', '2038-01-01', '2039-01-01',\n",
       "               '2040-01-01', '2041-01-01', '2042-01-01', '2043-01-01',\n",
       "               '2044-01-01', '2045-01-01', '2046-01-01', '2047-01-01',\n",
       "               '2048-01-01', '2049-01-01', '2050-01-01'],\n",
       "              dtype='datetime64[ns]', freq='AS-JAN')"
      ]
     },
     "execution_count": 103,
     "metadata": {},
     "output_type": "execute_result"
    }
   ],
   "source": [
    "pd.date_range(start = \"2016-01-01\", end = \"2050-12-31\", freq = \"AS\") # intervalo de datas em um intervalo anual | Annual Start"
   ]
  },
  {
   "cell_type": "markdown",
   "id": "4df864ac-ec29-4b6c-a115-74df5d7c05ac",
   "metadata": {},
   "source": [
    "#### Resumo: basicamente com o método pd.date_range() podemos gerar um objeto DateTimeIndex (container que armazena dados no formato datetime), contendo datas em um range e intervalo específico."
   ]
  },
  {
   "cell_type": "code",
   "execution_count": null,
   "id": "ad29d3fb-a1bb-4808-9400-a011efbe96ae",
   "metadata": {},
   "outputs": [],
   "source": []
  },
  {
   "cell_type": "code",
   "execution_count": null,
   "id": "33f956cc-164b-4a0e-8436-c6f224af7f81",
   "metadata": {},
   "outputs": [],
   "source": []
  },
  {
   "cell_type": "code",
   "execution_count": null,
   "id": "50e19092-f18b-4b91-8ab8-2f29d188257b",
   "metadata": {},
   "outputs": [],
   "source": []
  },
  {
   "cell_type": "code",
   "execution_count": null,
   "id": "59d0b4bc-635d-4536-ac90-c7a037d78cff",
   "metadata": {},
   "outputs": [],
   "source": []
  },
  {
   "cell_type": "code",
   "execution_count": null,
   "id": "427a37ac-bfb3-4726-a214-924eb0275c8f",
   "metadata": {},
   "outputs": [],
   "source": []
  },
  {
   "cell_type": "code",
   "execution_count": null,
   "id": "6b8e62d7-3869-4552-b9bd-4fb0957c0754",
   "metadata": {},
   "outputs": [],
   "source": []
  },
  {
   "cell_type": "code",
   "execution_count": null,
   "id": "ba319326-8323-4d01-99ed-b5498105067f",
   "metadata": {},
   "outputs": [],
   "source": []
  },
  {
   "cell_type": "code",
   "execution_count": null,
   "id": "6fcf0a4f-1c29-4b14-a723-ef6af634359b",
   "metadata": {},
   "outputs": [],
   "source": []
  },
  {
   "cell_type": "code",
   "execution_count": null,
   "id": "dc475df9-4464-4b35-9ff7-648c197ab605",
   "metadata": {},
   "outputs": [],
   "source": []
  },
  {
   "cell_type": "code",
   "execution_count": null,
   "id": "87468e2f-ef5b-427f-90ee-81b247ec6469",
   "metadata": {},
   "outputs": [],
   "source": []
  },
  {
   "cell_type": "code",
   "execution_count": null,
   "id": "c7092198-8480-4ea6-b72c-5012176f7ec6",
   "metadata": {},
   "outputs": [],
   "source": []
  },
  {
   "cell_type": "code",
   "execution_count": null,
   "id": "585bd0d0-c7f5-4b06-b632-3086907ca263",
   "metadata": {},
   "outputs": [],
   "source": []
  },
  {
   "cell_type": "code",
   "execution_count": null,
   "id": "908a4f2b-84ed-48b7-b95f-6c2447518a96",
   "metadata": {},
   "outputs": [],
   "source": []
  },
  {
   "cell_type": "code",
   "execution_count": null,
   "id": "6a39535d-8ddd-493d-9e54-e9f21e2bc44d",
   "metadata": {},
   "outputs": [],
   "source": []
  },
  {
   "cell_type": "code",
   "execution_count": null,
   "id": "5af784ef-73cf-4864-8678-8f391b3e25a9",
   "metadata": {},
   "outputs": [],
   "source": []
  },
  {
   "cell_type": "code",
   "execution_count": null,
   "id": "3ed16fee-921a-4a62-bb22-4e4a45563200",
   "metadata": {},
   "outputs": [],
   "source": []
  },
  {
   "cell_type": "code",
   "execution_count": null,
   "id": "a762b3bf-3a73-4eca-ab58-d9e45f377f49",
   "metadata": {},
   "outputs": [],
   "source": []
  },
  {
   "cell_type": "code",
   "execution_count": null,
   "id": "3c9198b3-402e-4eb2-bbc7-2d3e95159797",
   "metadata": {},
   "outputs": [],
   "source": []
  },
  {
   "cell_type": "code",
   "execution_count": null,
   "id": "3bfc1035-0f4a-4f7d-876d-3d9c22dc5afc",
   "metadata": {},
   "outputs": [],
   "source": []
  },
  {
   "cell_type": "code",
   "execution_count": null,
   "id": "9933b356-e20e-49e6-8d38-d4d6c1e5925b",
   "metadata": {},
   "outputs": [],
   "source": []
  },
  {
   "cell_type": "code",
   "execution_count": null,
   "id": "8daa9038-eef3-4f23-8898-15d333a85781",
   "metadata": {},
   "outputs": [],
   "source": []
  },
  {
   "cell_type": "code",
   "execution_count": null,
   "id": "2ccfd2ac-fd11-4188-86c4-e22cec2fdc9b",
   "metadata": {},
   "outputs": [],
   "source": []
  },
  {
   "cell_type": "code",
   "execution_count": null,
   "id": "59ec90ca-71b8-43db-a177-4fa810f3036b",
   "metadata": {},
   "outputs": [],
   "source": []
  },
  {
   "cell_type": "code",
   "execution_count": null,
   "id": "2d6979b4-f9c0-44d1-b11c-3a8090e4072a",
   "metadata": {},
   "outputs": [],
   "source": []
  },
  {
   "cell_type": "code",
   "execution_count": null,
   "id": "617d53a0-8f95-4745-aa59-147157a07632",
   "metadata": {},
   "outputs": [],
   "source": []
  },
  {
   "cell_type": "code",
   "execution_count": null,
   "id": "b2591bab-0671-436c-8afe-16cb9faeb02e",
   "metadata": {},
   "outputs": [],
   "source": []
  },
  {
   "cell_type": "code",
   "execution_count": null,
   "id": "ea748183-0f4d-4ca2-828c-3574238a0c88",
   "metadata": {},
   "outputs": [],
   "source": []
  },
  {
   "cell_type": "code",
   "execution_count": null,
   "id": "834de517-7a2f-48c4-9ea7-00213770a83d",
   "metadata": {},
   "outputs": [],
   "source": []
  },
  {
   "cell_type": "code",
   "execution_count": null,
   "id": "251cbf6e-dd0e-49a9-bdfd-0a2543c416db",
   "metadata": {},
   "outputs": [],
   "source": []
  },
  {
   "cell_type": "code",
   "execution_count": null,
   "id": "566e7ee4-a48e-4d53-b55f-49a672425f6b",
   "metadata": {},
   "outputs": [],
   "source": []
  },
  {
   "cell_type": "code",
   "execution_count": null,
   "id": "e4b472d1-86e3-49b4-96e3-94f09f2bd907",
   "metadata": {},
   "outputs": [],
   "source": []
  },
  {
   "cell_type": "code",
   "execution_count": null,
   "id": "076a9eb3-eb96-40f0-82f1-388d668a995b",
   "metadata": {},
   "outputs": [],
   "source": []
  },
  {
   "cell_type": "code",
   "execution_count": null,
   "id": "4e83c80c-92ad-4072-9122-0d511b4bc699",
   "metadata": {},
   "outputs": [],
   "source": []
  },
  {
   "cell_type": "code",
   "execution_count": null,
   "id": "a4ccb4b9-e350-4fbb-babc-f7604a0cfe33",
   "metadata": {},
   "outputs": [],
   "source": []
  },
  {
   "cell_type": "code",
   "execution_count": null,
   "id": "4d64174f-3ed7-4748-8ead-7d7a28211adc",
   "metadata": {},
   "outputs": [],
   "source": []
  },
  {
   "cell_type": "code",
   "execution_count": null,
   "id": "4a33ca50-333a-48b0-bf6f-16a5e056b414",
   "metadata": {},
   "outputs": [],
   "source": []
  },
  {
   "cell_type": "code",
   "execution_count": null,
   "id": "07c8f02c-5d28-4c3c-9630-37981a7d7ed5",
   "metadata": {},
   "outputs": [],
   "source": []
  },
  {
   "cell_type": "code",
   "execution_count": null,
   "id": "821786af-32bf-4b9c-99f6-f02fc95582f7",
   "metadata": {},
   "outputs": [],
   "source": []
  },
  {
   "cell_type": "code",
   "execution_count": null,
   "id": "07bdad54-2b5c-46da-a2bd-3d1e1f9f4cd8",
   "metadata": {},
   "outputs": [],
   "source": []
  },
  {
   "cell_type": "code",
   "execution_count": null,
   "id": "4c8c8869-3130-4d54-b843-b9f502045b50",
   "metadata": {},
   "outputs": [],
   "source": []
  },
  {
   "cell_type": "code",
   "execution_count": null,
   "id": "9b4e763f-8756-402e-9dd8-68690cc22729",
   "metadata": {},
   "outputs": [],
   "source": []
  },
  {
   "cell_type": "code",
   "execution_count": null,
   "id": "64a1e00b-646f-40a1-98a0-0a205304babe",
   "metadata": {},
   "outputs": [],
   "source": []
  },
  {
   "cell_type": "code",
   "execution_count": null,
   "id": "9fee9ad4-7409-4d19-9270-b80a1c63ee8a",
   "metadata": {},
   "outputs": [],
   "source": []
  },
  {
   "cell_type": "code",
   "execution_count": null,
   "id": "40cca296-25ad-4e0e-be3f-6b8945d2980c",
   "metadata": {},
   "outputs": [],
   "source": []
  },
  {
   "cell_type": "code",
   "execution_count": null,
   "id": "dbff05b6-89eb-4bdc-9bf6-54bc2f7315f9",
   "metadata": {},
   "outputs": [],
   "source": []
  },
  {
   "cell_type": "code",
   "execution_count": null,
   "id": "95a70f3f-9435-43cb-85f8-1522272408cd",
   "metadata": {},
   "outputs": [],
   "source": []
  },
  {
   "cell_type": "code",
   "execution_count": null,
   "id": "fb4201af-0a24-4be9-add5-1dea9a218f04",
   "metadata": {},
   "outputs": [],
   "source": []
  },
  {
   "cell_type": "code",
   "execution_count": null,
   "id": "8f7369a3-6639-4833-b6e0-cff4928bcc56",
   "metadata": {},
   "outputs": [],
   "source": []
  },
  {
   "cell_type": "code",
   "execution_count": null,
   "id": "e29513d3-ad77-4199-bd57-090ce467e23f",
   "metadata": {},
   "outputs": [],
   "source": []
  },
  {
   "cell_type": "code",
   "execution_count": null,
   "id": "e925f413-27ad-47a3-a34b-253863c7aa3c",
   "metadata": {},
   "outputs": [],
   "source": []
  },
  {
   "cell_type": "code",
   "execution_count": null,
   "id": "2bf10f3d-0f98-43f6-8bec-ff06ba6cac57",
   "metadata": {},
   "outputs": [],
   "source": []
  },
  {
   "cell_type": "code",
   "execution_count": null,
   "id": "c4bee130-b647-4509-af4d-2f857dca7129",
   "metadata": {},
   "outputs": [],
   "source": []
  },
  {
   "cell_type": "code",
   "execution_count": null,
   "id": "56b22b85-38c9-42e8-a311-a1dc3b6fa75c",
   "metadata": {},
   "outputs": [],
   "source": []
  },
  {
   "cell_type": "code",
   "execution_count": null,
   "id": "7d9b84ad-6c3a-45ce-bbe5-9d570ce906b1",
   "metadata": {},
   "outputs": [],
   "source": []
  },
  {
   "cell_type": "code",
   "execution_count": null,
   "id": "0f209eb2-322b-487c-bcd4-739d18dc05c5",
   "metadata": {},
   "outputs": [],
   "source": []
  },
  {
   "cell_type": "code",
   "execution_count": null,
   "id": "f6fa1e5f-2de5-459f-aa69-b9827312d7ad",
   "metadata": {},
   "outputs": [],
   "source": []
  },
  {
   "cell_type": "code",
   "execution_count": null,
   "id": "863fe056-7229-46d8-b364-097285d9c1c3",
   "metadata": {},
   "outputs": [],
   "source": []
  },
  {
   "cell_type": "code",
   "execution_count": null,
   "id": "102478fa-9315-4b68-a958-bbc28c93074e",
   "metadata": {},
   "outputs": [],
   "source": []
  }
 ],
 "metadata": {
  "kernelspec": {
   "display_name": "Python 3 (ipykernel)",
   "language": "python",
   "name": "python3"
  },
  "language_info": {
   "codemirror_mode": {
    "name": "ipython",
    "version": 3
   },
   "file_extension": ".py",
   "mimetype": "text/x-python",
   "name": "python",
   "nbconvert_exporter": "python",
   "pygments_lexer": "ipython3",
   "version": "3.10.4"
  }
 },
 "nbformat": 4,
 "nbformat_minor": 5
}
