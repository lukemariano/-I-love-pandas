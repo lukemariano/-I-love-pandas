{
 "cells": [
  {
   "cell_type": "markdown",
   "id": "ffffd093",
   "metadata": {},
   "source": [
    "# Imports"
   ]
  },
  {
   "cell_type": "code",
   "execution_count": 1,
   "id": "84a99c4a",
   "metadata": {},
   "outputs": [],
   "source": [
    "import pandas as pd"
   ]
  },
  {
   "cell_type": "markdown",
   "id": "780c810f",
   "metadata": {},
   "source": [
    "# Create a Series Object from a Python List"
   ]
  },
  {
   "cell_type": "code",
   "execution_count": 2,
   "id": "71767af1",
   "metadata": {},
   "outputs": [
    {
     "data": {
      "text/plain": [
       "0    Chocolate\n",
       "1      Morango\n",
       "2     Baunilha\n",
       "3          Uva\n",
       "dtype: object"
      ]
     },
     "execution_count": 2,
     "metadata": {},
     "output_type": "execute_result"
    }
   ],
   "source": [
    "ice_cream = [\"Chocolate\", \"Morango\", \"Baunilha\", \"Uva\"]\n",
    "\n",
    "pd.Series(ice_cream)"
   ]
  },
  {
   "cell_type": "code",
   "execution_count": 4,
   "id": "60c304db",
   "metadata": {},
   "outputs": [
    {
     "data": {
      "text/plain": [
       "0    1\n",
       "1    5\n",
       "2    6\n",
       "3    7\n",
       "4    8\n",
       "dtype: int64"
      ]
     },
     "execution_count": 4,
     "metadata": {},
     "output_type": "execute_result"
    }
   ],
   "source": [
    "lotterry = [1, 5, 6, 7, 8]\n",
    "\n",
    "pd.Series(lotterry)"
   ]
  },
  {
   "cell_type": "markdown",
   "id": "de8f7ffe",
   "metadata": {},
   "source": [
    "# Create a Series Object from a Dictionary"
   ]
  },
  {
   "cell_type": "code",
   "execution_count": 8,
   "id": "02204d2a",
   "metadata": {},
   "outputs": [
    {
     "data": {
      "text/plain": [
       "Ano      2022\n",
       "Nome    Lucas\n",
       "dtype: object"
      ]
     },
     "execution_count": 8,
     "metadata": {},
     "output_type": "execute_result"
    }
   ],
   "source": [
    "dic = {\"Ano\": 2022, \"Nome\": \"Lucas\"}\n",
    "\n",
    "pd.Series(dic)"
   ]
  },
  {
   "cell_type": "code",
   "execution_count": 9,
   "id": "5ff19159",
   "metadata": {},
   "outputs": [
    {
     "data": {
      "text/plain": [
       "2"
      ]
     },
     "execution_count": 9,
     "metadata": {},
     "output_type": "execute_result"
    }
   ],
   "source": [
    "len(dic)"
   ]
  },
  {
   "cell_type": "code",
   "execution_count": 10,
   "id": "f6d97111",
   "metadata": {},
   "outputs": [
    {
     "data": {
      "text/plain": [
       "0     True\n",
       "1    False\n",
       "2    False\n",
       "3     True\n",
       "4     True\n",
       "dtype: bool"
      ]
     },
     "execution_count": 10,
     "metadata": {},
     "output_type": "execute_result"
    }
   ],
   "source": [
    "registrations = [True, False, False, True, True]\n",
    "\n",
    "pd.Series(registrations)"
   ]
  },
  {
   "cell_type": "code",
   "execution_count": 3,
   "id": "72e03c87",
   "metadata": {},
   "outputs": [
    {
     "data": {
      "text/plain": [
       "Salmon    Orange\n",
       "Tuna         Red\n",
       "Eel        Brown\n",
       "dtype: object"
      ]
     },
     "execution_count": 3,
     "metadata": {},
     "output_type": "execute_result"
    }
   ],
   "source": [
    "sushi = {\n",
    "    \"Salmon\": \"Orange\",\n",
    "    \"Tuna\": \"Red\",\n",
    "    \"Eel\": \"Brown\"\n",
    "}\n",
    "\n",
    "pd.Series(sushi)"
   ]
  },
  {
   "cell_type": "markdown",
   "id": "dcc1afef",
   "metadata": {},
   "source": [
    " -----------------------------------------------------------------------------------------------------------------"
   ]
  },
  {
   "cell_type": "markdown",
   "id": "1719b515",
   "metadata": {},
   "source": [
    "# Intro to Methods"
   ]
  },
  {
   "cell_type": "code",
   "execution_count": 2,
   "id": "928484c7",
   "metadata": {},
   "outputs": [
    {
     "data": {
      "text/plain": [
       "0    2.99\n",
       "1    4.45\n",
       "2    5.50\n",
       "3    6.00\n",
       "dtype: float64"
      ]
     },
     "execution_count": 2,
     "metadata": {},
     "output_type": "execute_result"
    }
   ],
   "source": [
    "prices = pd.Series([2.99, 4.45, 5.50, 6])\n",
    "\n",
    "prices"
   ]
  },
  {
   "cell_type": "code",
   "execution_count": 10,
   "id": "9468c256",
   "metadata": {},
   "outputs": [
    {
     "data": {
      "text/plain": [
       "count    4.00\n",
       "mean     4.74\n",
       "std      1.33\n",
       "min      2.99\n",
       "25%      4.08\n",
       "50%      4.97\n",
       "75%      5.62\n",
       "max      6.00\n",
       "dtype: float64"
      ]
     },
     "execution_count": 10,
     "metadata": {},
     "output_type": "execute_result"
    }
   ],
   "source": [
    "prices.describe().round(2)"
   ]
  },
  {
   "cell_type": "code",
   "execution_count": 6,
   "id": "a18a6e0d",
   "metadata": {},
   "outputs": [
    {
     "data": {
      "text/plain": [
       "18.94"
      ]
     },
     "execution_count": 6,
     "metadata": {},
     "output_type": "execute_result"
    }
   ],
   "source": [
    "prices.sum()"
   ]
  },
  {
   "cell_type": "code",
   "execution_count": 8,
   "id": "a3a84855",
   "metadata": {},
   "outputs": [
    {
     "data": {
      "text/plain": [
       "439.1"
      ]
     },
     "execution_count": 8,
     "metadata": {},
     "output_type": "execute_result"
    }
   ],
   "source": [
    "prices.product().round(1)"
   ]
  },
  {
   "cell_type": "code",
   "execution_count": 12,
   "id": "92cd012f",
   "metadata": {},
   "outputs": [
    {
     "data": {
      "text/plain": [
       "4.735"
      ]
     },
     "execution_count": 12,
     "metadata": {},
     "output_type": "execute_result"
    }
   ],
   "source": [
    "prices.mean()"
   ]
  },
  {
   "cell_type": "markdown",
   "id": "7e5db5ac",
   "metadata": {},
   "source": [
    "------------------------------------------------------------------------------------------------------------------"
   ]
  },
  {
   "cell_type": "markdown",
   "id": "6c22b711",
   "metadata": {},
   "source": [
    "# Intro to Attributes"
   ]
  },
  {
   "cell_type": "code",
   "execution_count": 8,
   "id": "275012fb",
   "metadata": {},
   "outputs": [
    {
     "data": {
      "text/plain": [
       "0          Lindo\n",
       "1    Inteligente\n",
       "2      Brilhante\n",
       "dtype: object"
      ]
     },
     "execution_count": 8,
     "metadata": {},
     "output_type": "execute_result"
    }
   ],
   "source": [
    "atributos = pd.Series([\"Lindo\", \"Inteligente\", \"Brilhante\"])\n",
    "\n",
    "atributos"
   ]
  },
  {
   "cell_type": "code",
   "execution_count": 10,
   "id": "aab742ab",
   "metadata": {},
   "outputs": [
    {
     "data": {
      "text/plain": [
       "3"
      ]
     },
     "execution_count": 10,
     "metadata": {},
     "output_type": "execute_result"
    }
   ],
   "source": [
    "atributos.size"
   ]
  },
  {
   "cell_type": "code",
   "execution_count": 9,
   "id": "9705e394",
   "metadata": {},
   "outputs": [
    {
     "data": {
      "text/plain": [
       "True"
      ]
     },
     "execution_count": 9,
     "metadata": {},
     "output_type": "execute_result"
    }
   ],
   "source": [
    "atributos.is_unique"
   ]
  },
  {
   "cell_type": "code",
   "execution_count": 11,
   "id": "c4e1520e",
   "metadata": {},
   "outputs": [
    {
     "data": {
      "text/plain": [
       "array(['Lindo', 'Inteligente', 'Brilhante'], dtype=object)"
      ]
     },
     "execution_count": 11,
     "metadata": {},
     "output_type": "execute_result"
    }
   ],
   "source": [
    "atributos.values"
   ]
  },
  {
   "cell_type": "code",
   "execution_count": 12,
   "id": "a03aa823",
   "metadata": {},
   "outputs": [
    {
     "data": {
      "text/plain": [
       "numpy.ndarray"
      ]
     },
     "execution_count": 12,
     "metadata": {},
     "output_type": "execute_result"
    }
   ],
   "source": [
    "type(atributos.values)"
   ]
  },
  {
   "cell_type": "code",
   "execution_count": 13,
   "id": "98c0c06d",
   "metadata": {},
   "outputs": [
    {
     "data": {
      "text/plain": [
       "RangeIndex(start=0, stop=3, step=1)"
      ]
     },
     "execution_count": 13,
     "metadata": {},
     "output_type": "execute_result"
    }
   ],
   "source": [
    "atributos.index"
   ]
  },
  {
   "cell_type": "code",
   "execution_count": null,
   "id": "79cf3433",
   "metadata": {},
   "outputs": [],
   "source": []
  }
 ],
 "metadata": {
  "kernelspec": {
   "display_name": "Python 3 (ipykernel)",
   "language": "python",
   "name": "python3"
  },
  "language_info": {
   "codemirror_mode": {
    "name": "ipython",
    "version": 3
   },
   "file_extension": ".py",
   "mimetype": "text/x-python",
   "name": "python",
   "nbconvert_exporter": "python",
   "pygments_lexer": "ipython3",
   "version": "3.10.4"
  }
 },
 "nbformat": 4,
 "nbformat_minor": 5
}
