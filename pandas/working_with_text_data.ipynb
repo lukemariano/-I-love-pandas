{
 "cells": [
  {
   "cell_type": "code",
   "execution_count": 1,
   "id": "e8057fee-d36b-4703-b43b-01af08cbdce1",
   "metadata": {},
   "outputs": [],
   "source": [
    "import pandas as pd"
   ]
  },
  {
   "cell_type": "code",
   "execution_count": 2,
   "id": "c3bef6f6-4c57-4b0e-a161-d8c00c5c69bf",
   "metadata": {},
   "outputs": [
    {
     "data": {
      "text/html": [
       "<div>\n",
       "<style scoped>\n",
       "    .dataframe tbody tr th:only-of-type {\n",
       "        vertical-align: middle;\n",
       "    }\n",
       "\n",
       "    .dataframe tbody tr th {\n",
       "        vertical-align: top;\n",
       "    }\n",
       "\n",
       "    .dataframe thead th {\n",
       "        text-align: right;\n",
       "    }\n",
       "</style>\n",
       "<table border=\"1\" class=\"dataframe\">\n",
       "  <thead>\n",
       "    <tr style=\"text-align: right;\">\n",
       "      <th></th>\n",
       "      <th>Name</th>\n",
       "      <th>Position Title</th>\n",
       "      <th>Department</th>\n",
       "      <th>Employee Annual Salary</th>\n",
       "    </tr>\n",
       "  </thead>\n",
       "  <tbody>\n",
       "    <tr>\n",
       "      <th>32059</th>\n",
       "      <td>ZYMANTAS,  MARK E</td>\n",
       "      <td>POLICE OFFICER</td>\n",
       "      <td>POLICE</td>\n",
       "      <td>$84450.00</td>\n",
       "    </tr>\n",
       "    <tr>\n",
       "      <th>32060</th>\n",
       "      <td>ZYRKOWSKI,  CARLO E</td>\n",
       "      <td>POLICE OFFICER</td>\n",
       "      <td>POLICE</td>\n",
       "      <td>$87384.00</td>\n",
       "    </tr>\n",
       "    <tr>\n",
       "      <th>32061</th>\n",
       "      <td>ZYSKOWSKI,  DARIUSZ</td>\n",
       "      <td>CHIEF DATA BASE ANALYST</td>\n",
       "      <td>DoIT</td>\n",
       "      <td>$113664.00</td>\n",
       "    </tr>\n",
       "  </tbody>\n",
       "</table>\n",
       "</div>"
      ],
      "text/plain": [
       "                      Name           Position Title Department  \\\n",
       "32059    ZYMANTAS,  MARK E           POLICE OFFICER     POLICE   \n",
       "32060  ZYRKOWSKI,  CARLO E           POLICE OFFICER     POLICE   \n",
       "32061  ZYSKOWSKI,  DARIUSZ  CHIEF DATA BASE ANALYST       DoIT   \n",
       "\n",
       "      Employee Annual Salary  \n",
       "32059              $84450.00  \n",
       "32060              $87384.00  \n",
       "32061             $113664.00  "
      ]
     },
     "execution_count": 2,
     "metadata": {},
     "output_type": "execute_result"
    }
   ],
   "source": [
    "chicago = pd.read_csv(\"chicago.csv\")\n",
    "chicago.dropna(how = \"all\", inplace = True)\n",
    "chicago.tail(3)"
   ]
  },
  {
   "cell_type": "code",
   "execution_count": 3,
   "id": "67d65417-6883-4157-804a-e4c105a586de",
   "metadata": {},
   "outputs": [
    {
     "name": "stdout",
     "output_type": "stream",
     "text": [
      "<class 'pandas.core.frame.DataFrame'>\n",
      "Int64Index: 32062 entries, 0 to 32061\n",
      "Data columns (total 4 columns):\n",
      " #   Column                  Non-Null Count  Dtype \n",
      "---  ------                  --------------  ----- \n",
      " 0   Name                    32062 non-null  object\n",
      " 1   Position Title          32062 non-null  object\n",
      " 2   Department              32062 non-null  object\n",
      " 3   Employee Annual Salary  32062 non-null  object\n",
      "dtypes: object(4)\n",
      "memory usage: 1.2+ MB\n"
     ]
    }
   ],
   "source": [
    "chicago.info()"
   ]
  },
  {
   "cell_type": "code",
   "execution_count": 4,
   "id": "e1f564eb-e263-44dc-8d1b-cd8ccce681de",
   "metadata": {},
   "outputs": [
    {
     "data": {
      "text/plain": [
       "array(['WATER MGMNT', 'POLICE', 'GENERAL SERVICES', 'CITY COUNCIL',\n",
       "       'STREETS & SAN', 'OEMC', 'AVIATION', 'FIRE', 'FAMILY & SUPPORT',\n",
       "       'IPRA', 'PUBLIC LIBRARY', 'BUSINESS AFFAIRS', 'TRANSPORTN',\n",
       "       'HEALTH', \"MAYOR'S OFFICE\", 'LAW', 'FINANCE', 'CULTURAL AFFAIRS',\n",
       "       'COMMUNITY DEVELOPMENT', 'BUILDINGS', 'ANIMAL CONTRL',\n",
       "       'CITY CLERK', 'BOARD OF ELECTION', 'INSPECTOR GEN', 'TREASURER',\n",
       "       'DISABILITIES', 'HUMAN RESOURCES', 'DoIT', 'BUDGET & MGMT',\n",
       "       'PROCUREMENT', 'HUMAN RELATIONS', 'BOARD OF ETHICS',\n",
       "       'POLICE BOARD', 'ADMIN HEARNG', 'LICENSE APPL COMM'], dtype=object)"
      ]
     },
     "execution_count": 4,
     "metadata": {},
     "output_type": "execute_result"
    }
   ],
   "source": [
    "chicago[\"Department\"].unique()"
   ]
  },
  {
   "cell_type": "code",
   "execution_count": 5,
   "id": "b29e237d-0dd1-44bb-bfce-b44177594ba6",
   "metadata": {},
   "outputs": [
    {
     "data": {
      "text/plain": [
       "35"
      ]
     },
     "execution_count": 5,
     "metadata": {},
     "output_type": "execute_result"
    }
   ],
   "source": [
    "chicago[\"Department\"].nunique()"
   ]
  },
  {
   "cell_type": "code",
   "execution_count": 6,
   "id": "1642c526-c59f-4eba-bd1f-26d678b43fff",
   "metadata": {},
   "outputs": [
    {
     "data": {
      "text/plain": [
       "Name                      31776\n",
       "Position Title             1093\n",
       "Department                   35\n",
       "Employee Annual Salary     1156\n",
       "dtype: int64"
      ]
     },
     "execution_count": 6,
     "metadata": {},
     "output_type": "execute_result"
    }
   ],
   "source": [
    "# Nós da uma boa aproxy de quais colunas podemos utilizar para otimizarmos o consumo de memória do nosso Datafrane\n",
    "\n",
    "chicago.nunique() # Nos dá uma overview sobre a quantidade de valores únicos para cada coluna do nosso Dataframe"
   ]
  },
  {
   "cell_type": "code",
   "execution_count": 7,
   "id": "ceec091d-0044-411d-a05e-1b357d0f729f",
   "metadata": {},
   "outputs": [],
   "source": [
    "# Otimizando o consumo de memória do nosso Datafrane\n",
    "\n",
    "chicago[\"Department\"] = chicago[\"Department\"].astype(\"category\")"
   ]
  },
  {
   "cell_type": "code",
   "execution_count": 8,
   "id": "6355ab14-b7fc-4c8b-9e4e-d059afba23ec",
   "metadata": {},
   "outputs": [
    {
     "name": "stdout",
     "output_type": "stream",
     "text": [
      "<class 'pandas.core.frame.DataFrame'>\n",
      "Int64Index: 32062 entries, 0 to 32061\n",
      "Data columns (total 4 columns):\n",
      " #   Column                  Non-Null Count  Dtype   \n",
      "---  ------                  --------------  -----   \n",
      " 0   Name                    32062 non-null  object  \n",
      " 1   Position Title          32062 non-null  object  \n",
      " 2   Department              32062 non-null  category\n",
      " 3   Employee Annual Salary  32062 non-null  object  \n",
      "dtypes: category(1), object(3)\n",
      "memory usage: 1.0+ MB\n"
     ]
    }
   ],
   "source": [
    "chicago.info()"
   ]
  },
  {
   "cell_type": "code",
   "execution_count": null,
   "id": "6773e116-06aa-42d0-916e-c59b6235aea9",
   "metadata": {},
   "outputs": [],
   "source": []
  },
  {
   "cell_type": "markdown",
   "id": "ad07e2cf-30fe-4850-9d5e-52966d82bbda",
   "metadata": {},
   "source": [
    "## **Common String Methods - .lower(), .upper(), .title() and .len()**"
   ]
  },
  {
   "cell_type": "code",
   "execution_count": 9,
   "id": "5f8c3c8a-e268-4852-a47d-1e9e5bc40de0",
   "metadata": {},
   "outputs": [
    {
     "data": {
      "text/html": [
       "<div>\n",
       "<style scoped>\n",
       "    .dataframe tbody tr th:only-of-type {\n",
       "        vertical-align: middle;\n",
       "    }\n",
       "\n",
       "    .dataframe tbody tr th {\n",
       "        vertical-align: top;\n",
       "    }\n",
       "\n",
       "    .dataframe thead th {\n",
       "        text-align: right;\n",
       "    }\n",
       "</style>\n",
       "<table border=\"1\" class=\"dataframe\">\n",
       "  <thead>\n",
       "    <tr style=\"text-align: right;\">\n",
       "      <th></th>\n",
       "      <th>Name</th>\n",
       "      <th>Position Title</th>\n",
       "      <th>Department</th>\n",
       "      <th>Employee Annual Salary</th>\n",
       "    </tr>\n",
       "  </thead>\n",
       "  <tbody>\n",
       "    <tr>\n",
       "      <th>0</th>\n",
       "      <td>AARON,  ELVIA J</td>\n",
       "      <td>WATER RATE TAKER</td>\n",
       "      <td>WATER MGMNT</td>\n",
       "      <td>$90744.00</td>\n",
       "    </tr>\n",
       "    <tr>\n",
       "      <th>1</th>\n",
       "      <td>AARON,  JEFFERY M</td>\n",
       "      <td>POLICE OFFICER</td>\n",
       "      <td>POLICE</td>\n",
       "      <td>$84450.00</td>\n",
       "    </tr>\n",
       "    <tr>\n",
       "      <th>2</th>\n",
       "      <td>AARON,  KARINA</td>\n",
       "      <td>POLICE OFFICER</td>\n",
       "      <td>POLICE</td>\n",
       "      <td>$84450.00</td>\n",
       "    </tr>\n",
       "  </tbody>\n",
       "</table>\n",
       "</div>"
      ],
      "text/plain": [
       "                Name    Position Title   Department Employee Annual Salary\n",
       "0    AARON,  ELVIA J  WATER RATE TAKER  WATER MGMNT              $90744.00\n",
       "1  AARON,  JEFFERY M    POLICE OFFICER       POLICE              $84450.00\n",
       "2     AARON,  KARINA    POLICE OFFICER       POLICE              $84450.00"
      ]
     },
     "execution_count": 9,
     "metadata": {},
     "output_type": "execute_result"
    }
   ],
   "source": [
    "chicago = pd.read_csv(filepath_or_buffer = \"chicago.csv\")\n",
    "chicago.dropna(how = \"all\", inplace = True)\n",
    "chicago[\"Department\"] = chicago[\"Department\"].astype(\"category\")\n",
    "\n",
    "chicago.head(3)"
   ]
  },
  {
   "cell_type": "code",
   "execution_count": 10,
   "id": "bbd2329d-65c4-4f70-81b0-a1dc6e72f2e6",
   "metadata": {},
   "outputs": [
    {
     "data": {
      "text/plain": [
       "'hello world'"
      ]
     },
     "execution_count": 10,
     "metadata": {},
     "output_type": "execute_result"
    }
   ],
   "source": [
    "\"Hello World\".lower()"
   ]
  },
  {
   "cell_type": "code",
   "execution_count": 11,
   "id": "02e720fe-9aa2-4681-878d-b1e215fce9c7",
   "metadata": {},
   "outputs": [
    {
     "data": {
      "text/plain": [
       "'HELLO WORLD'"
      ]
     },
     "execution_count": 11,
     "metadata": {},
     "output_type": "execute_result"
    }
   ],
   "source": [
    "\"Hello World\".upper()"
   ]
  },
  {
   "cell_type": "code",
   "execution_count": 12,
   "id": "fe7ffd0f-39ef-496d-8e42-1b47444647ae",
   "metadata": {},
   "outputs": [
    {
     "data": {
      "text/plain": [
       "'Hello World'"
      ]
     },
     "execution_count": 12,
     "metadata": {},
     "output_type": "execute_result"
    }
   ],
   "source": [
    "\"heLlo woRld\".title()"
   ]
  },
  {
   "cell_type": "code",
   "execution_count": 13,
   "id": "8e463471-c8b4-469f-8f8a-99c8c2eb8f5e",
   "metadata": {},
   "outputs": [
    {
     "data": {
      "text/plain": [
       "0            aaron,  elvia j\n",
       "1          aaron,  jeffery m\n",
       "2             aaron,  karina\n",
       "3        aaron,  kimberlei r\n",
       "4        abad jr,  vicente m\n",
       "                ...         \n",
       "32057    zygadlo,  michael j\n",
       "32058     zygowicz,  peter j\n",
       "32059      zymantas,  mark e\n",
       "32060    zyrkowski,  carlo e\n",
       "32061    zyskowski,  dariusz\n",
       "Name: Name, Length: 32062, dtype: object"
      ]
     },
     "execution_count": 13,
     "metadata": {},
     "output_type": "execute_result"
    }
   ],
   "source": [
    "# Para aplicarmos métodos comuns de strings em valores de Séries Pandas, precisamos extender a Série para a propriedade 'str'\n",
    "\n",
    "chicago[\"Name\"].str.lower()"
   ]
  },
  {
   "cell_type": "code",
   "execution_count": 14,
   "id": "8c7245f7-5b96-471e-aad9-f8eb4b62bd9c",
   "metadata": {},
   "outputs": [],
   "source": [
    "chicago[\"Name\"] = chicago[\"Name\"].str.title()\n",
    "chicago[\"Position Title\"] = chicago[\"Position Title\"].str.title()\n",
    "chicago[\"Department\"] = chicago[\"Department\"].str.title()"
   ]
  },
  {
   "cell_type": "code",
   "execution_count": 15,
   "id": "e76c8e03-4baf-4766-8251-cb675176ce22",
   "metadata": {},
   "outputs": [
    {
     "data": {
      "text/html": [
       "<div>\n",
       "<style scoped>\n",
       "    .dataframe tbody tr th:only-of-type {\n",
       "        vertical-align: middle;\n",
       "    }\n",
       "\n",
       "    .dataframe tbody tr th {\n",
       "        vertical-align: top;\n",
       "    }\n",
       "\n",
       "    .dataframe thead th {\n",
       "        text-align: right;\n",
       "    }\n",
       "</style>\n",
       "<table border=\"1\" class=\"dataframe\">\n",
       "  <thead>\n",
       "    <tr style=\"text-align: right;\">\n",
       "      <th></th>\n",
       "      <th>Name</th>\n",
       "      <th>Position Title</th>\n",
       "      <th>Department</th>\n",
       "      <th>Employee Annual Salary</th>\n",
       "    </tr>\n",
       "  </thead>\n",
       "  <tbody>\n",
       "    <tr>\n",
       "      <th>0</th>\n",
       "      <td>Aaron,  Elvia J</td>\n",
       "      <td>Water Rate Taker</td>\n",
       "      <td>Water Mgmnt</td>\n",
       "      <td>$90744.00</td>\n",
       "    </tr>\n",
       "    <tr>\n",
       "      <th>1</th>\n",
       "      <td>Aaron,  Jeffery M</td>\n",
       "      <td>Police Officer</td>\n",
       "      <td>Police</td>\n",
       "      <td>$84450.00</td>\n",
       "    </tr>\n",
       "    <tr>\n",
       "      <th>2</th>\n",
       "      <td>Aaron,  Karina</td>\n",
       "      <td>Police Officer</td>\n",
       "      <td>Police</td>\n",
       "      <td>$84450.00</td>\n",
       "    </tr>\n",
       "  </tbody>\n",
       "</table>\n",
       "</div>"
      ],
      "text/plain": [
       "                Name    Position Title   Department Employee Annual Salary\n",
       "0    Aaron,  Elvia J  Water Rate Taker  Water Mgmnt              $90744.00\n",
       "1  Aaron,  Jeffery M    Police Officer       Police              $84450.00\n",
       "2     Aaron,  Karina    Police Officer       Police              $84450.00"
      ]
     },
     "execution_count": 15,
     "metadata": {},
     "output_type": "execute_result"
    }
   ],
   "source": [
    "chicago.head(3)"
   ]
  },
  {
   "cell_type": "code",
   "execution_count": 16,
   "id": "bc19d9ba-2420-4a93-bbbf-783f2b620ee2",
   "metadata": {},
   "outputs": [
    {
     "data": {
      "text/plain": [
       "0        11\n",
       "1         6\n",
       "2         6\n",
       "3        16\n",
       "4        11\n",
       "         ..\n",
       "32057    16\n",
       "32058     6\n",
       "32059     6\n",
       "32060     6\n",
       "32061     4\n",
       "Name: Department, Length: 32062, dtype: int64"
      ]
     },
     "execution_count": 16,
     "metadata": {},
     "output_type": "execute_result"
    }
   ],
   "source": [
    "# Utilizando o método .len() para verificarmos a quantidade de caracteres em cada string da nossa coluna\n",
    "\n",
    "chicago[\"Department\"].str.len()"
   ]
  },
  {
   "cell_type": "code",
   "execution_count": null,
   "id": "fc621260-5bb5-44ac-8e40-e60af8a764ea",
   "metadata": {},
   "outputs": [],
   "source": []
  },
  {
   "cell_type": "markdown",
   "id": "3fb4a004-36d8-4255-8aec-4aa29cdae351",
   "metadata": {},
   "source": [
    "## **The .str.replace() Method**"
   ]
  },
  {
   "cell_type": "code",
   "execution_count": 17,
   "id": "0a66d820-f40d-4865-851d-0d3409819036",
   "metadata": {},
   "outputs": [
    {
     "data": {
      "text/html": [
       "<div>\n",
       "<style scoped>\n",
       "    .dataframe tbody tr th:only-of-type {\n",
       "        vertical-align: middle;\n",
       "    }\n",
       "\n",
       "    .dataframe tbody tr th {\n",
       "        vertical-align: top;\n",
       "    }\n",
       "\n",
       "    .dataframe thead th {\n",
       "        text-align: right;\n",
       "    }\n",
       "</style>\n",
       "<table border=\"1\" class=\"dataframe\">\n",
       "  <thead>\n",
       "    <tr style=\"text-align: right;\">\n",
       "      <th></th>\n",
       "      <th>Name</th>\n",
       "      <th>Position Title</th>\n",
       "      <th>Department</th>\n",
       "      <th>Employee Annual Salary</th>\n",
       "    </tr>\n",
       "  </thead>\n",
       "  <tbody>\n",
       "    <tr>\n",
       "      <th>32059</th>\n",
       "      <td>ZYMANTAS,  MARK E</td>\n",
       "      <td>POLICE OFFICER</td>\n",
       "      <td>POLICE</td>\n",
       "      <td>$84450.00</td>\n",
       "    </tr>\n",
       "    <tr>\n",
       "      <th>32060</th>\n",
       "      <td>ZYRKOWSKI,  CARLO E</td>\n",
       "      <td>POLICE OFFICER</td>\n",
       "      <td>POLICE</td>\n",
       "      <td>$87384.00</td>\n",
       "    </tr>\n",
       "    <tr>\n",
       "      <th>32061</th>\n",
       "      <td>ZYSKOWSKI,  DARIUSZ</td>\n",
       "      <td>CHIEF DATA BASE ANALYST</td>\n",
       "      <td>DoIT</td>\n",
       "      <td>$113664.00</td>\n",
       "    </tr>\n",
       "  </tbody>\n",
       "</table>\n",
       "</div>"
      ],
      "text/plain": [
       "                      Name           Position Title Department  \\\n",
       "32059    ZYMANTAS,  MARK E           POLICE OFFICER     POLICE   \n",
       "32060  ZYRKOWSKI,  CARLO E           POLICE OFFICER     POLICE   \n",
       "32061  ZYSKOWSKI,  DARIUSZ  CHIEF DATA BASE ANALYST       DoIT   \n",
       "\n",
       "      Employee Annual Salary  \n",
       "32059              $84450.00  \n",
       "32060              $87384.00  \n",
       "32061             $113664.00  "
      ]
     },
     "execution_count": 17,
     "metadata": {},
     "output_type": "execute_result"
    }
   ],
   "source": [
    "chicago = pd.read_csv(\"chicago.csv\")\n",
    "chicago.dropna(how = \"all\", inplace = True)\n",
    "chicago[\"Department\"] = chicago[\"Department\"].astype(\"category\")\n",
    "\n",
    "chicago.tail(3)"
   ]
  },
  {
   "cell_type": "code",
   "execution_count": 18,
   "id": "d6c57e94-0fdf-4e51-9366-5187c5341bf8",
   "metadata": {},
   "outputs": [
    {
     "data": {
      "text/plain": [
       "'He!!o wor!d'"
      ]
     },
     "execution_count": 18,
     "metadata": {},
     "output_type": "execute_result"
    }
   ],
   "source": [
    "\"Hello world\".replace(\"l\", \"!\")"
   ]
  },
  {
   "cell_type": "code",
   "execution_count": 19,
   "id": "3f1aa466-2007-4d9b-9ac7-b65a72f858a6",
   "metadata": {},
   "outputs": [],
   "source": [
    "chicago[\"Department\"] = chicago[\"Department\"].str.title().str.replace(\"Mgmnt\", \"Management\")"
   ]
  },
  {
   "cell_type": "code",
   "execution_count": 20,
   "id": "b8e589d3-fd79-400e-a431-186b013d3c90",
   "metadata": {},
   "outputs": [
    {
     "data": {
      "text/html": [
       "<div>\n",
       "<style scoped>\n",
       "    .dataframe tbody tr th:only-of-type {\n",
       "        vertical-align: middle;\n",
       "    }\n",
       "\n",
       "    .dataframe tbody tr th {\n",
       "        vertical-align: top;\n",
       "    }\n",
       "\n",
       "    .dataframe thead th {\n",
       "        text-align: right;\n",
       "    }\n",
       "</style>\n",
       "<table border=\"1\" class=\"dataframe\">\n",
       "  <thead>\n",
       "    <tr style=\"text-align: right;\">\n",
       "      <th></th>\n",
       "      <th>Name</th>\n",
       "      <th>Position Title</th>\n",
       "      <th>Department</th>\n",
       "      <th>Employee Annual Salary</th>\n",
       "    </tr>\n",
       "  </thead>\n",
       "  <tbody>\n",
       "    <tr>\n",
       "      <th>0</th>\n",
       "      <td>AARON,  ELVIA J</td>\n",
       "      <td>WATER RATE TAKER</td>\n",
       "      <td>Water Management</td>\n",
       "      <td>$90744.00</td>\n",
       "    </tr>\n",
       "    <tr>\n",
       "      <th>1</th>\n",
       "      <td>AARON,  JEFFERY M</td>\n",
       "      <td>POLICE OFFICER</td>\n",
       "      <td>Police</td>\n",
       "      <td>$84450.00</td>\n",
       "    </tr>\n",
       "    <tr>\n",
       "      <th>2</th>\n",
       "      <td>AARON,  KARINA</td>\n",
       "      <td>POLICE OFFICER</td>\n",
       "      <td>Police</td>\n",
       "      <td>$84450.00</td>\n",
       "    </tr>\n",
       "  </tbody>\n",
       "</table>\n",
       "</div>"
      ],
      "text/plain": [
       "                Name    Position Title        Department  \\\n",
       "0    AARON,  ELVIA J  WATER RATE TAKER  Water Management   \n",
       "1  AARON,  JEFFERY M    POLICE OFFICER            Police   \n",
       "2     AARON,  KARINA    POLICE OFFICER            Police   \n",
       "\n",
       "  Employee Annual Salary  \n",
       "0              $90744.00  \n",
       "1              $84450.00  \n",
       "2              $84450.00  "
      ]
     },
     "execution_count": 20,
     "metadata": {},
     "output_type": "execute_result"
    }
   ],
   "source": [
    "chicago.head(3)"
   ]
  },
  {
   "cell_type": "code",
   "execution_count": 21,
   "id": "a01bb4b8-57f2-4ec0-a514-6dab0a8384f7",
   "metadata": {},
   "outputs": [
    {
     "name": "stderr",
     "output_type": "stream",
     "text": [
      "/tmp/ipykernel_10463/2959077595.py:1: FutureWarning: The default value of regex will change from True to False in a future version. In addition, single character regular expressions will *not* be treated as literal strings when regex=True.\n",
      "  chicago[\"Employee Annual Salary\"] = chicago[\"Employee Annual Salary\"].str.replace(\"$\", \"\").astype(\"float\")\n"
     ]
    }
   ],
   "source": [
    "chicago[\"Employee Annual Salary\"] = chicago[\"Employee Annual Salary\"].str.replace(\"$\", \"\").astype(\"float\")"
   ]
  },
  {
   "cell_type": "code",
   "execution_count": 22,
   "id": "9623bbfe-3f69-4ce8-941b-7bf2a7180cf5",
   "metadata": {},
   "outputs": [
    {
     "data": {
      "text/html": [
       "<div>\n",
       "<style scoped>\n",
       "    .dataframe tbody tr th:only-of-type {\n",
       "        vertical-align: middle;\n",
       "    }\n",
       "\n",
       "    .dataframe tbody tr th {\n",
       "        vertical-align: top;\n",
       "    }\n",
       "\n",
       "    .dataframe thead th {\n",
       "        text-align: right;\n",
       "    }\n",
       "</style>\n",
       "<table border=\"1\" class=\"dataframe\">\n",
       "  <thead>\n",
       "    <tr style=\"text-align: right;\">\n",
       "      <th></th>\n",
       "      <th>Name</th>\n",
       "      <th>Position Title</th>\n",
       "      <th>Department</th>\n",
       "      <th>Employee Annual Salary</th>\n",
       "    </tr>\n",
       "  </thead>\n",
       "  <tbody>\n",
       "    <tr>\n",
       "      <th>0</th>\n",
       "      <td>AARON,  ELVIA J</td>\n",
       "      <td>WATER RATE TAKER</td>\n",
       "      <td>Water Management</td>\n",
       "      <td>90744.0</td>\n",
       "    </tr>\n",
       "    <tr>\n",
       "      <th>1</th>\n",
       "      <td>AARON,  JEFFERY M</td>\n",
       "      <td>POLICE OFFICER</td>\n",
       "      <td>Police</td>\n",
       "      <td>84450.0</td>\n",
       "    </tr>\n",
       "    <tr>\n",
       "      <th>2</th>\n",
       "      <td>AARON,  KARINA</td>\n",
       "      <td>POLICE OFFICER</td>\n",
       "      <td>Police</td>\n",
       "      <td>84450.0</td>\n",
       "    </tr>\n",
       "  </tbody>\n",
       "</table>\n",
       "</div>"
      ],
      "text/plain": [
       "                Name    Position Title        Department  \\\n",
       "0    AARON,  ELVIA J  WATER RATE TAKER  Water Management   \n",
       "1  AARON,  JEFFERY M    POLICE OFFICER            Police   \n",
       "2     AARON,  KARINA    POLICE OFFICER            Police   \n",
       "\n",
       "   Employee Annual Salary  \n",
       "0                 90744.0  \n",
       "1                 84450.0  \n",
       "2                 84450.0  "
      ]
     },
     "execution_count": 22,
     "metadata": {},
     "output_type": "execute_result"
    }
   ],
   "source": [
    "chicago.head(3)"
   ]
  },
  {
   "cell_type": "code",
   "execution_count": 23,
   "id": "1663da74-a06f-4e1b-8d7d-523bfffc6aac",
   "metadata": {},
   "outputs": [
    {
     "data": {
      "text/plain": [
       "2571506375.36"
      ]
     },
     "execution_count": 23,
     "metadata": {},
     "output_type": "execute_result"
    }
   ],
   "source": [
    "chicago[\"Employee Annual Salary\"].sum()"
   ]
  },
  {
   "cell_type": "code",
   "execution_count": null,
   "id": "5a1f80ae-55de-4a9e-ad2c-a0e36bd87078",
   "metadata": {},
   "outputs": [],
   "source": []
  },
  {
   "cell_type": "markdown",
   "id": "65c6c8ee-3e6b-4bce-bd64-ef6cbb73ee16",
   "metadata": {},
   "source": [
    "## **Filtering with String Methods**"
   ]
  },
  {
   "cell_type": "code",
   "execution_count": 24,
   "id": "1d558b6a-e00c-4711-9239-e83aca2ce35c",
   "metadata": {},
   "outputs": [
    {
     "data": {
      "text/html": [
       "<div>\n",
       "<style scoped>\n",
       "    .dataframe tbody tr th:only-of-type {\n",
       "        vertical-align: middle;\n",
       "    }\n",
       "\n",
       "    .dataframe tbody tr th {\n",
       "        vertical-align: top;\n",
       "    }\n",
       "\n",
       "    .dataframe thead th {\n",
       "        text-align: right;\n",
       "    }\n",
       "</style>\n",
       "<table border=\"1\" class=\"dataframe\">\n",
       "  <thead>\n",
       "    <tr style=\"text-align: right;\">\n",
       "      <th></th>\n",
       "      <th>Name</th>\n",
       "      <th>Position Title</th>\n",
       "      <th>Department</th>\n",
       "      <th>Employee Annual Salary</th>\n",
       "    </tr>\n",
       "  </thead>\n",
       "  <tbody>\n",
       "    <tr>\n",
       "      <th>32059</th>\n",
       "      <td>ZYMANTAS,  MARK E</td>\n",
       "      <td>POLICE OFFICER</td>\n",
       "      <td>POLICE</td>\n",
       "      <td>$84450.00</td>\n",
       "    </tr>\n",
       "    <tr>\n",
       "      <th>32060</th>\n",
       "      <td>ZYRKOWSKI,  CARLO E</td>\n",
       "      <td>POLICE OFFICER</td>\n",
       "      <td>POLICE</td>\n",
       "      <td>$87384.00</td>\n",
       "    </tr>\n",
       "    <tr>\n",
       "      <th>32061</th>\n",
       "      <td>ZYSKOWSKI,  DARIUSZ</td>\n",
       "      <td>CHIEF DATA BASE ANALYST</td>\n",
       "      <td>DoIT</td>\n",
       "      <td>$113664.00</td>\n",
       "    </tr>\n",
       "  </tbody>\n",
       "</table>\n",
       "</div>"
      ],
      "text/plain": [
       "                      Name           Position Title Department  \\\n",
       "32059    ZYMANTAS,  MARK E           POLICE OFFICER     POLICE   \n",
       "32060  ZYRKOWSKI,  CARLO E           POLICE OFFICER     POLICE   \n",
       "32061  ZYSKOWSKI,  DARIUSZ  CHIEF DATA BASE ANALYST       DoIT   \n",
       "\n",
       "      Employee Annual Salary  \n",
       "32059              $84450.00  \n",
       "32060              $87384.00  \n",
       "32061             $113664.00  "
      ]
     },
     "execution_count": 24,
     "metadata": {},
     "output_type": "execute_result"
    }
   ],
   "source": [
    "chicago = pd.read_csv(\"chicago.csv\").dropna(how = \"all\")\n",
    "chicago[\"Department\"] = chicago[\"Department\"].astype(\"category\")\n",
    "\n",
    "chicago.tail(3)"
   ]
  },
  {
   "cell_type": "code",
   "execution_count": 25,
   "id": "46820bcf-a726-488d-b0b5-d03a03d340ed",
   "metadata": {},
   "outputs": [
    {
     "data": {
      "text/html": [
       "<div>\n",
       "<style scoped>\n",
       "    .dataframe tbody tr th:only-of-type {\n",
       "        vertical-align: middle;\n",
       "    }\n",
       "\n",
       "    .dataframe tbody tr th {\n",
       "        vertical-align: top;\n",
       "    }\n",
       "\n",
       "    .dataframe thead th {\n",
       "        text-align: right;\n",
       "    }\n",
       "</style>\n",
       "<table border=\"1\" class=\"dataframe\">\n",
       "  <thead>\n",
       "    <tr style=\"text-align: right;\">\n",
       "      <th></th>\n",
       "      <th>Name</th>\n",
       "      <th>Position Title</th>\n",
       "      <th>Department</th>\n",
       "      <th>Employee Annual Salary</th>\n",
       "    </tr>\n",
       "  </thead>\n",
       "  <tbody>\n",
       "    <tr>\n",
       "      <th>0</th>\n",
       "      <td>AARON,  ELVIA J</td>\n",
       "      <td>WATER RATE TAKER</td>\n",
       "      <td>WATER MGMNT</td>\n",
       "      <td>$90744.00</td>\n",
       "    </tr>\n",
       "    <tr>\n",
       "      <th>554</th>\n",
       "      <td>ALUISE,  VINCENT G</td>\n",
       "      <td>FOREMAN OF WATER PIPE CONSTRUCTION</td>\n",
       "      <td>WATER MGMNT</td>\n",
       "      <td>$102440.00</td>\n",
       "    </tr>\n",
       "    <tr>\n",
       "      <th>671</th>\n",
       "      <td>ANDER,  PERRY A</td>\n",
       "      <td>WATER CHEMIST II</td>\n",
       "      <td>WATER MGMNT</td>\n",
       "      <td>$82044.00</td>\n",
       "    </tr>\n",
       "    <tr>\n",
       "      <th>685</th>\n",
       "      <td>ANDERSON,  ANDREW J</td>\n",
       "      <td>DISTRICT SUPERINTENDENT OF WATER DISTRIBUTION</td>\n",
       "      <td>WATER MGMNT</td>\n",
       "      <td>$109272.00</td>\n",
       "    </tr>\n",
       "    <tr>\n",
       "      <th>702</th>\n",
       "      <td>ANDERSON,  DONALD</td>\n",
       "      <td>FOREMAN OF WATER PIPE CONSTRUCTION</td>\n",
       "      <td>WATER MGMNT</td>\n",
       "      <td>$102440.00</td>\n",
       "    </tr>\n",
       "    <tr>\n",
       "      <th>...</th>\n",
       "      <td>...</td>\n",
       "      <td>...</td>\n",
       "      <td>...</td>\n",
       "      <td>...</td>\n",
       "    </tr>\n",
       "    <tr>\n",
       "      <th>29669</th>\n",
       "      <td>VERMA,  ANUPAM</td>\n",
       "      <td>MANAGING ENGINEER - WATER MANAGEMENT</td>\n",
       "      <td>WATER MGMNT</td>\n",
       "      <td>$111192.00</td>\n",
       "    </tr>\n",
       "    <tr>\n",
       "      <th>30239</th>\n",
       "      <td>WASHINGTON,  JOSEPH</td>\n",
       "      <td>WATER CHEMIST III</td>\n",
       "      <td>WATER MGMNT</td>\n",
       "      <td>$89676.00</td>\n",
       "    </tr>\n",
       "    <tr>\n",
       "      <th>30544</th>\n",
       "      <td>WEST,  THOMAS R</td>\n",
       "      <td>GEN SUPT OF WATER MANAGEMENT</td>\n",
       "      <td>WATER MGMNT</td>\n",
       "      <td>$115704.00</td>\n",
       "    </tr>\n",
       "    <tr>\n",
       "      <th>30991</th>\n",
       "      <td>WILLIAMS,  MATTHEW</td>\n",
       "      <td>FOREMAN OF WATER PIPE CONSTRUCTION</td>\n",
       "      <td>WATER MGMNT</td>\n",
       "      <td>$102440.00</td>\n",
       "    </tr>\n",
       "    <tr>\n",
       "      <th>31405</th>\n",
       "      <td>WOODRIDGE,  ROBERT L</td>\n",
       "      <td>FOREMAN OF WATER PIPE CONSTRUCTION</td>\n",
       "      <td>WATER MGMNT</td>\n",
       "      <td>$102440.00</td>\n",
       "    </tr>\n",
       "  </tbody>\n",
       "</table>\n",
       "<p>111 rows × 4 columns</p>\n",
       "</div>"
      ],
      "text/plain": [
       "                       Name                                 Position Title  \\\n",
       "0           AARON,  ELVIA J                               WATER RATE TAKER   \n",
       "554      ALUISE,  VINCENT G             FOREMAN OF WATER PIPE CONSTRUCTION   \n",
       "671         ANDER,  PERRY A                               WATER CHEMIST II   \n",
       "685     ANDERSON,  ANDREW J  DISTRICT SUPERINTENDENT OF WATER DISTRIBUTION   \n",
       "702       ANDERSON,  DONALD             FOREMAN OF WATER PIPE CONSTRUCTION   \n",
       "...                     ...                                            ...   \n",
       "29669        VERMA,  ANUPAM           MANAGING ENGINEER - WATER MANAGEMENT   \n",
       "30239   WASHINGTON,  JOSEPH                              WATER CHEMIST III   \n",
       "30544       WEST,  THOMAS R                   GEN SUPT OF WATER MANAGEMENT   \n",
       "30991    WILLIAMS,  MATTHEW             FOREMAN OF WATER PIPE CONSTRUCTION   \n",
       "31405  WOODRIDGE,  ROBERT L             FOREMAN OF WATER PIPE CONSTRUCTION   \n",
       "\n",
       "        Department Employee Annual Salary  \n",
       "0      WATER MGMNT              $90744.00  \n",
       "554    WATER MGMNT             $102440.00  \n",
       "671    WATER MGMNT              $82044.00  \n",
       "685    WATER MGMNT             $109272.00  \n",
       "702    WATER MGMNT             $102440.00  \n",
       "...            ...                    ...  \n",
       "29669  WATER MGMNT             $111192.00  \n",
       "30239  WATER MGMNT              $89676.00  \n",
       "30544  WATER MGMNT             $115704.00  \n",
       "30991  WATER MGMNT             $102440.00  \n",
       "31405  WATER MGMNT             $102440.00  \n",
       "\n",
       "[111 rows x 4 columns]"
      ]
     },
     "execution_count": 25,
     "metadata": {},
     "output_type": "execute_result"
    }
   ],
   "source": [
    "# Antes de utilizarmos uma filtragem de dados com strings, uma boa prática é normalizar esses dados com os métodos \"lower\" ou \"upper\" \n",
    "# Utilizando o método \"contains\" para verificar se uma palavra está presente nos valores de nossa Série pandas\n",
    "\n",
    "position_title_contain_water_word = chicago[\"Position Title\"].str.lower().str.contains(\"water\")\n",
    "chicago.query(\"@position_title_contain_water_word\")"
   ]
  },
  {
   "cell_type": "code",
   "execution_count": 26,
   "id": "ce085699-d48c-4873-9d5b-0e901be954d3",
   "metadata": {},
   "outputs": [
    {
     "data": {
      "text/html": [
       "<div>\n",
       "<style scoped>\n",
       "    .dataframe tbody tr th:only-of-type {\n",
       "        vertical-align: middle;\n",
       "    }\n",
       "\n",
       "    .dataframe tbody tr th {\n",
       "        vertical-align: top;\n",
       "    }\n",
       "\n",
       "    .dataframe thead th {\n",
       "        text-align: right;\n",
       "    }\n",
       "</style>\n",
       "<table border=\"1\" class=\"dataframe\">\n",
       "  <thead>\n",
       "    <tr style=\"text-align: right;\">\n",
       "      <th></th>\n",
       "      <th>Name</th>\n",
       "      <th>Position Title</th>\n",
       "      <th>Department</th>\n",
       "      <th>Employee Annual Salary</th>\n",
       "    </tr>\n",
       "  </thead>\n",
       "  <tbody>\n",
       "    <tr>\n",
       "      <th>0</th>\n",
       "      <td>AARON,  ELVIA J</td>\n",
       "      <td>WATER RATE TAKER</td>\n",
       "      <td>WATER MGMNT</td>\n",
       "      <td>$90744.00</td>\n",
       "    </tr>\n",
       "    <tr>\n",
       "      <th>671</th>\n",
       "      <td>ANDER,  PERRY A</td>\n",
       "      <td>WATER CHEMIST II</td>\n",
       "      <td>WATER MGMNT</td>\n",
       "      <td>$82044.00</td>\n",
       "    </tr>\n",
       "    <tr>\n",
       "      <th>1054</th>\n",
       "      <td>ASHLEY,  KARMA T</td>\n",
       "      <td>WATER CHEMIST II</td>\n",
       "      <td>WATER MGMNT</td>\n",
       "      <td>$82044.00</td>\n",
       "    </tr>\n",
       "    <tr>\n",
       "      <th>1079</th>\n",
       "      <td>ATKINS,  JOANNA M</td>\n",
       "      <td>WATER CHEMIST II</td>\n",
       "      <td>WATER MGMNT</td>\n",
       "      <td>$82044.00</td>\n",
       "    </tr>\n",
       "    <tr>\n",
       "      <th>1181</th>\n",
       "      <td>AZEEM,  MOHAMMED A</td>\n",
       "      <td>WATER CHEMIST II</td>\n",
       "      <td>WATER MGMNT</td>\n",
       "      <td>$53172.00</td>\n",
       "    </tr>\n",
       "    <tr>\n",
       "      <th>...</th>\n",
       "      <td>...</td>\n",
       "      <td>...</td>\n",
       "      <td>...</td>\n",
       "      <td>...</td>\n",
       "    </tr>\n",
       "    <tr>\n",
       "      <th>28574</th>\n",
       "      <td>THREATT,  DENISE R</td>\n",
       "      <td>WATER QUALITY INSPECTOR</td>\n",
       "      <td>WATER MGMNT</td>\n",
       "      <td>$62004.00</td>\n",
       "    </tr>\n",
       "    <tr>\n",
       "      <th>28602</th>\n",
       "      <td>TIGNOR,  DARRYL B</td>\n",
       "      <td>WATER RATE TAKER</td>\n",
       "      <td>WATER MGMNT</td>\n",
       "      <td>$78948.00</td>\n",
       "    </tr>\n",
       "    <tr>\n",
       "      <th>28955</th>\n",
       "      <td>TRAVIS COOK,  LESLIE R</td>\n",
       "      <td>WATER RATE TAKER</td>\n",
       "      <td>WATER MGMNT</td>\n",
       "      <td>$78948.00</td>\n",
       "    </tr>\n",
       "    <tr>\n",
       "      <th>29584</th>\n",
       "      <td>VELAZQUEZ,  JOHN</td>\n",
       "      <td>WATER RATE TAKER</td>\n",
       "      <td>WATER MGMNT</td>\n",
       "      <td>$78948.00</td>\n",
       "    </tr>\n",
       "    <tr>\n",
       "      <th>30239</th>\n",
       "      <td>WASHINGTON,  JOSEPH</td>\n",
       "      <td>WATER CHEMIST III</td>\n",
       "      <td>WATER MGMNT</td>\n",
       "      <td>$89676.00</td>\n",
       "    </tr>\n",
       "  </tbody>\n",
       "</table>\n",
       "<p>75 rows × 4 columns</p>\n",
       "</div>"
      ],
      "text/plain": [
       "                         Name           Position Title   Department  \\\n",
       "0             AARON,  ELVIA J         WATER RATE TAKER  WATER MGMNT   \n",
       "671           ANDER,  PERRY A         WATER CHEMIST II  WATER MGMNT   \n",
       "1054         ASHLEY,  KARMA T         WATER CHEMIST II  WATER MGMNT   \n",
       "1079        ATKINS,  JOANNA M         WATER CHEMIST II  WATER MGMNT   \n",
       "1181       AZEEM,  MOHAMMED A         WATER CHEMIST II  WATER MGMNT   \n",
       "...                       ...                      ...          ...   \n",
       "28574      THREATT,  DENISE R  WATER QUALITY INSPECTOR  WATER MGMNT   \n",
       "28602       TIGNOR,  DARRYL B         WATER RATE TAKER  WATER MGMNT   \n",
       "28955  TRAVIS COOK,  LESLIE R         WATER RATE TAKER  WATER MGMNT   \n",
       "29584        VELAZQUEZ,  JOHN         WATER RATE TAKER  WATER MGMNT   \n",
       "30239     WASHINGTON,  JOSEPH        WATER CHEMIST III  WATER MGMNT   \n",
       "\n",
       "      Employee Annual Salary  \n",
       "0                  $90744.00  \n",
       "671                $82044.00  \n",
       "1054               $82044.00  \n",
       "1079               $82044.00  \n",
       "1181               $53172.00  \n",
       "...                      ...  \n",
       "28574              $62004.00  \n",
       "28602              $78948.00  \n",
       "28955              $78948.00  \n",
       "29584              $78948.00  \n",
       "30239              $89676.00  \n",
       "\n",
       "[75 rows x 4 columns]"
      ]
     },
     "execution_count": 26,
     "metadata": {},
     "output_type": "execute_result"
    }
   ],
   "source": [
    "mask = chicago[\"Position Title\"].str.lower().str.startswith(\"water\")\n",
    "chicago[mask]"
   ]
  },
  {
   "cell_type": "code",
   "execution_count": 27,
   "id": "83239645-d06b-498d-8472-572fca833667",
   "metadata": {},
   "outputs": [
    {
     "data": {
      "text/html": [
       "<div>\n",
       "<style scoped>\n",
       "    .dataframe tbody tr th:only-of-type {\n",
       "        vertical-align: middle;\n",
       "    }\n",
       "\n",
       "    .dataframe tbody tr th {\n",
       "        vertical-align: top;\n",
       "    }\n",
       "\n",
       "    .dataframe thead th {\n",
       "        text-align: right;\n",
       "    }\n",
       "</style>\n",
       "<table border=\"1\" class=\"dataframe\">\n",
       "  <thead>\n",
       "    <tr style=\"text-align: right;\">\n",
       "      <th></th>\n",
       "      <th>Name</th>\n",
       "      <th>Position Title</th>\n",
       "      <th>Department</th>\n",
       "      <th>Employee Annual Salary</th>\n",
       "    </tr>\n",
       "  </thead>\n",
       "  <tbody>\n",
       "    <tr>\n",
       "      <th>184</th>\n",
       "      <td>AFROZ,  NAYYAR</td>\n",
       "      <td>PSYCHIATRIST</td>\n",
       "      <td>HEALTH</td>\n",
       "      <td>$99840.00</td>\n",
       "    </tr>\n",
       "    <tr>\n",
       "      <th>308</th>\n",
       "      <td>ALARCON,  LUIS J</td>\n",
       "      <td>LOAN PROCESSING SPECIALIST</td>\n",
       "      <td>COMMUNITY DEVELOPMENT</td>\n",
       "      <td>$81948.00</td>\n",
       "    </tr>\n",
       "    <tr>\n",
       "      <th>422</th>\n",
       "      <td>ALLAIN,  CAROLYN</td>\n",
       "      <td>SENIOR TELECOMMUNICATIONS SPECIALIST</td>\n",
       "      <td>DoIT</td>\n",
       "      <td>$89880.00</td>\n",
       "    </tr>\n",
       "    <tr>\n",
       "      <th>472</th>\n",
       "      <td>ALLEN,  ROBERT</td>\n",
       "      <td>MACHINIST</td>\n",
       "      <td>WATER MGMNT</td>\n",
       "      <td>$94328.00</td>\n",
       "    </tr>\n",
       "    <tr>\n",
       "      <th>705</th>\n",
       "      <td>ANDERSON,  EDWARD M</td>\n",
       "      <td>SR PROCUREMENT SPECIALIST</td>\n",
       "      <td>PROCUREMENT</td>\n",
       "      <td>$91476.00</td>\n",
       "    </tr>\n",
       "    <tr>\n",
       "      <th>...</th>\n",
       "      <td>...</td>\n",
       "      <td>...</td>\n",
       "      <td>...</td>\n",
       "      <td>...</td>\n",
       "    </tr>\n",
       "    <tr>\n",
       "      <th>31667</th>\n",
       "      <td>YODER,  TERESA G</td>\n",
       "      <td>ARCHIVAL SPECIALIST</td>\n",
       "      <td>PUBLIC LIBRARY</td>\n",
       "      <td>$74304.00</td>\n",
       "    </tr>\n",
       "    <tr>\n",
       "      <th>31688</th>\n",
       "      <td>YOUNGBLOOM,  LAURENCE G</td>\n",
       "      <td>CRIMES SURVEILLANCE SPECIALIST</td>\n",
       "      <td>OEMC</td>\n",
       "      <td>$19676.80</td>\n",
       "    </tr>\n",
       "    <tr>\n",
       "      <th>31717</th>\n",
       "      <td>YOUNG,  KIMBERLY M</td>\n",
       "      <td>SR PROCUREMENT SPECIALIST</td>\n",
       "      <td>PROCUREMENT</td>\n",
       "      <td>$68556.00</td>\n",
       "    </tr>\n",
       "    <tr>\n",
       "      <th>31837</th>\n",
       "      <td>ZAPATA,  HUGO</td>\n",
       "      <td>SR PROCUREMENT SPECIALIST</td>\n",
       "      <td>PROCUREMENT</td>\n",
       "      <td>$87324.00</td>\n",
       "    </tr>\n",
       "    <tr>\n",
       "      <th>31918</th>\n",
       "      <td>ZEMKE,  RICHARD P</td>\n",
       "      <td>MACHINIST</td>\n",
       "      <td>AVIATION</td>\n",
       "      <td>$94328.00</td>\n",
       "    </tr>\n",
       "  </tbody>\n",
       "</table>\n",
       "<p>172 rows × 4 columns</p>\n",
       "</div>"
      ],
      "text/plain": [
       "                          Name                        Position Title  \\\n",
       "184             AFROZ,  NAYYAR                          PSYCHIATRIST   \n",
       "308           ALARCON,  LUIS J            LOAN PROCESSING SPECIALIST   \n",
       "422           ALLAIN,  CAROLYN  SENIOR TELECOMMUNICATIONS SPECIALIST   \n",
       "472             ALLEN,  ROBERT                             MACHINIST   \n",
       "705        ANDERSON,  EDWARD M             SR PROCUREMENT SPECIALIST   \n",
       "...                        ...                                   ...   \n",
       "31667         YODER,  TERESA G                   ARCHIVAL SPECIALIST   \n",
       "31688  YOUNGBLOOM,  LAURENCE G        CRIMES SURVEILLANCE SPECIALIST   \n",
       "31717       YOUNG,  KIMBERLY M             SR PROCUREMENT SPECIALIST   \n",
       "31837            ZAPATA,  HUGO             SR PROCUREMENT SPECIALIST   \n",
       "31918        ZEMKE,  RICHARD P                             MACHINIST   \n",
       "\n",
       "                  Department Employee Annual Salary  \n",
       "184                   HEALTH              $99840.00  \n",
       "308    COMMUNITY DEVELOPMENT              $81948.00  \n",
       "422                     DoIT              $89880.00  \n",
       "472              WATER MGMNT              $94328.00  \n",
       "705              PROCUREMENT              $91476.00  \n",
       "...                      ...                    ...  \n",
       "31667         PUBLIC LIBRARY              $74304.00  \n",
       "31688                   OEMC              $19676.80  \n",
       "31717            PROCUREMENT              $68556.00  \n",
       "31837            PROCUREMENT              $87324.00  \n",
       "31918               AVIATION              $94328.00  \n",
       "\n",
       "[172 rows x 4 columns]"
      ]
     },
     "execution_count": 27,
     "metadata": {},
     "output_type": "execute_result"
    }
   ],
   "source": [
    "mask = chicago[\"Position Title\"].str.lower().str.endswith(\"ist\")\n",
    "chicago.query(\"@mask\")"
   ]
  },
  {
   "cell_type": "code",
   "execution_count": null,
   "id": "7ddcfe65-52be-45ea-a37e-a833d6e5f15c",
   "metadata": {},
   "outputs": [],
   "source": []
  },
  {
   "cell_type": "markdown",
   "id": "d87b8c79-3c65-458f-8d1f-668c12da5b27",
   "metadata": {},
   "source": [
    "## **More String Methods - .strip(), .lstrip() and .rstrip()**"
   ]
  },
  {
   "cell_type": "code",
   "execution_count": 28,
   "id": "683eff21-6813-430f-9ea1-bc2c959d2eec",
   "metadata": {},
   "outputs": [
    {
     "data": {
      "text/html": [
       "<div>\n",
       "<style scoped>\n",
       "    .dataframe tbody tr th:only-of-type {\n",
       "        vertical-align: middle;\n",
       "    }\n",
       "\n",
       "    .dataframe tbody tr th {\n",
       "        vertical-align: top;\n",
       "    }\n",
       "\n",
       "    .dataframe thead th {\n",
       "        text-align: right;\n",
       "    }\n",
       "</style>\n",
       "<table border=\"1\" class=\"dataframe\">\n",
       "  <thead>\n",
       "    <tr style=\"text-align: right;\">\n",
       "      <th></th>\n",
       "      <th>Name</th>\n",
       "      <th>Position Title</th>\n",
       "      <th>Department</th>\n",
       "      <th>Employee Annual Salary</th>\n",
       "    </tr>\n",
       "  </thead>\n",
       "  <tbody>\n",
       "    <tr>\n",
       "      <th>32059</th>\n",
       "      <td>ZYMANTAS,  MARK E</td>\n",
       "      <td>POLICE OFFICER</td>\n",
       "      <td>POLICE</td>\n",
       "      <td>$84450.00</td>\n",
       "    </tr>\n",
       "    <tr>\n",
       "      <th>32060</th>\n",
       "      <td>ZYRKOWSKI,  CARLO E</td>\n",
       "      <td>POLICE OFFICER</td>\n",
       "      <td>POLICE</td>\n",
       "      <td>$87384.00</td>\n",
       "    </tr>\n",
       "    <tr>\n",
       "      <th>32061</th>\n",
       "      <td>ZYSKOWSKI,  DARIUSZ</td>\n",
       "      <td>CHIEF DATA BASE ANALYST</td>\n",
       "      <td>DoIT</td>\n",
       "      <td>$113664.00</td>\n",
       "    </tr>\n",
       "  </tbody>\n",
       "</table>\n",
       "</div>"
      ],
      "text/plain": [
       "                      Name           Position Title Department  \\\n",
       "32059    ZYMANTAS,  MARK E           POLICE OFFICER     POLICE   \n",
       "32060  ZYRKOWSKI,  CARLO E           POLICE OFFICER     POLICE   \n",
       "32061  ZYSKOWSKI,  DARIUSZ  CHIEF DATA BASE ANALYST       DoIT   \n",
       "\n",
       "      Employee Annual Salary  \n",
       "32059              $84450.00  \n",
       "32060              $87384.00  \n",
       "32061             $113664.00  "
      ]
     },
     "execution_count": 28,
     "metadata": {},
     "output_type": "execute_result"
    }
   ],
   "source": [
    "chicago = pd.read_csv(\"chicago.csv\").dropna(how = \"all\")\n",
    "chicago[\"Department\"] = chicago[\"Department\"].astype(\"category\")\n",
    "chicago.tail(3)"
   ]
  },
  {
   "cell_type": "code",
   "execution_count": 31,
   "id": "0bc2ca46-b9b5-4156-b923-1f6aa7f4c958",
   "metadata": {},
   "outputs": [
    {
     "data": {
      "text/plain": [
       "'Hello World           '"
      ]
     },
     "execution_count": 31,
     "metadata": {},
     "output_type": "execute_result"
    }
   ],
   "source": [
    "\"            Hello World           \".lstrip()"
   ]
  },
  {
   "cell_type": "code",
   "execution_count": 32,
   "id": "51d7bc6b-5b28-40d2-b223-a4c4e344a446",
   "metadata": {},
   "outputs": [
    {
     "data": {
      "text/plain": [
       "'            Hello World'"
      ]
     },
     "execution_count": 32,
     "metadata": {},
     "output_type": "execute_result"
    }
   ],
   "source": [
    "\"            Hello World           \".rstrip()"
   ]
  },
  {
   "cell_type": "code",
   "execution_count": 33,
   "id": "2c1b642b-ecc4-4299-8828-07cd2775e287",
   "metadata": {},
   "outputs": [
    {
     "data": {
      "text/plain": [
       "'Hello World'"
      ]
     },
     "execution_count": 33,
     "metadata": {},
     "output_type": "execute_result"
    }
   ],
   "source": [
    "\"            Hello World           \".strip()"
   ]
  },
  {
   "cell_type": "code",
   "execution_count": 38,
   "id": "7f6d1bff-bcbb-47bb-87ab-86f1a56556f9",
   "metadata": {},
   "outputs": [],
   "source": [
    "chicago[\"Name\"] = chicago[\"Name\"].str.strip()"
   ]
  },
  {
   "cell_type": "code",
   "execution_count": 39,
   "id": "8c6b61c6-2fda-4a8c-a40f-a49a8b2970cb",
   "metadata": {},
   "outputs": [
    {
     "data": {
      "text/html": [
       "<div>\n",
       "<style scoped>\n",
       "    .dataframe tbody tr th:only-of-type {\n",
       "        vertical-align: middle;\n",
       "    }\n",
       "\n",
       "    .dataframe tbody tr th {\n",
       "        vertical-align: top;\n",
       "    }\n",
       "\n",
       "    .dataframe thead th {\n",
       "        text-align: right;\n",
       "    }\n",
       "</style>\n",
       "<table border=\"1\" class=\"dataframe\">\n",
       "  <thead>\n",
       "    <tr style=\"text-align: right;\">\n",
       "      <th></th>\n",
       "      <th>Name</th>\n",
       "      <th>Position Title</th>\n",
       "      <th>Department</th>\n",
       "      <th>Employee Annual Salary</th>\n",
       "    </tr>\n",
       "  </thead>\n",
       "  <tbody>\n",
       "    <tr>\n",
       "      <th>0</th>\n",
       "      <td>AARON,  ELVIA J</td>\n",
       "      <td>WATER RATE TAKER</td>\n",
       "      <td>WATER MGMNT</td>\n",
       "      <td>$90744.00</td>\n",
       "    </tr>\n",
       "    <tr>\n",
       "      <th>1</th>\n",
       "      <td>AARON,  JEFFERY M</td>\n",
       "      <td>POLICE OFFICER</td>\n",
       "      <td>POLICE</td>\n",
       "      <td>$84450.00</td>\n",
       "    </tr>\n",
       "    <tr>\n",
       "      <th>2</th>\n",
       "      <td>AARON,  KARINA</td>\n",
       "      <td>POLICE OFFICER</td>\n",
       "      <td>POLICE</td>\n",
       "      <td>$84450.00</td>\n",
       "    </tr>\n",
       "  </tbody>\n",
       "</table>\n",
       "</div>"
      ],
      "text/plain": [
       "                Name    Position Title   Department Employee Annual Salary\n",
       "0    AARON,  ELVIA J  WATER RATE TAKER  WATER MGMNT              $90744.00\n",
       "1  AARON,  JEFFERY M    POLICE OFFICER       POLICE              $84450.00\n",
       "2     AARON,  KARINA    POLICE OFFICER       POLICE              $84450.00"
      ]
     },
     "execution_count": 39,
     "metadata": {},
     "output_type": "execute_result"
    }
   ],
   "source": [
    "chicago.head(3)"
   ]
  },
  {
   "cell_type": "code",
   "execution_count": null,
   "id": "64bb697d-96e4-4d77-8d55-658b2ad97c4e",
   "metadata": {},
   "outputs": [],
   "source": []
  },
  {
   "cell_type": "markdown",
   "id": "6d2e4736-b43e-47f7-bdd7-d0bb37d6ba44",
   "metadata": {},
   "source": [
    "## **String Methods on Index and Columns**"
   ]
  },
  {
   "cell_type": "code",
   "execution_count": 41,
   "id": "ce852178-6e20-4a28-bd79-822743b3e571",
   "metadata": {},
   "outputs": [
    {
     "data": {
      "text/html": [
       "<div>\n",
       "<style scoped>\n",
       "    .dataframe tbody tr th:only-of-type {\n",
       "        vertical-align: middle;\n",
       "    }\n",
       "\n",
       "    .dataframe tbody tr th {\n",
       "        vertical-align: top;\n",
       "    }\n",
       "\n",
       "    .dataframe thead th {\n",
       "        text-align: right;\n",
       "    }\n",
       "</style>\n",
       "<table border=\"1\" class=\"dataframe\">\n",
       "  <thead>\n",
       "    <tr style=\"text-align: right;\">\n",
       "      <th></th>\n",
       "      <th>Position Title</th>\n",
       "      <th>Department</th>\n",
       "      <th>Employee Annual Salary</th>\n",
       "    </tr>\n",
       "    <tr>\n",
       "      <th>Name</th>\n",
       "      <th></th>\n",
       "      <th></th>\n",
       "      <th></th>\n",
       "    </tr>\n",
       "  </thead>\n",
       "  <tbody>\n",
       "    <tr>\n",
       "      <th>ZYMANTAS,  MARK E</th>\n",
       "      <td>POLICE OFFICER</td>\n",
       "      <td>POLICE</td>\n",
       "      <td>$84450.00</td>\n",
       "    </tr>\n",
       "    <tr>\n",
       "      <th>ZYRKOWSKI,  CARLO E</th>\n",
       "      <td>POLICE OFFICER</td>\n",
       "      <td>POLICE</td>\n",
       "      <td>$87384.00</td>\n",
       "    </tr>\n",
       "    <tr>\n",
       "      <th>ZYSKOWSKI,  DARIUSZ</th>\n",
       "      <td>CHIEF DATA BASE ANALYST</td>\n",
       "      <td>DoIT</td>\n",
       "      <td>$113664.00</td>\n",
       "    </tr>\n",
       "  </tbody>\n",
       "</table>\n",
       "</div>"
      ],
      "text/plain": [
       "                              Position Title Department Employee Annual Salary\n",
       "Name                                                                          \n",
       "ZYMANTAS,  MARK E             POLICE OFFICER     POLICE              $84450.00\n",
       "ZYRKOWSKI,  CARLO E           POLICE OFFICER     POLICE              $87384.00\n",
       "ZYSKOWSKI,  DARIUSZ  CHIEF DATA BASE ANALYST       DoIT             $113664.00"
      ]
     },
     "execution_count": 41,
     "metadata": {},
     "output_type": "execute_result"
    }
   ],
   "source": [
    "chicago = pd.read_csv(\"chicago.csv\", index_col = [\"Name\"]).dropna(how = \"all\")\n",
    "chicago[\"Department\"] = chicago[\"Department\"].astype(\"category\")\n",
    "chicago.tail(3)"
   ]
  },
  {
   "cell_type": "code",
   "execution_count": 46,
   "id": "47eace15-d04c-4149-84ef-4ce71281fc48",
   "metadata": {},
   "outputs": [],
   "source": [
    "chicago.index = chicago.index.str.strip().str.title()"
   ]
  },
  {
   "cell_type": "code",
   "execution_count": 47,
   "id": "70bc8168-3df6-4588-be44-aa1d3d5f6bc4",
   "metadata": {},
   "outputs": [
    {
     "data": {
      "text/html": [
       "<div>\n",
       "<style scoped>\n",
       "    .dataframe tbody tr th:only-of-type {\n",
       "        vertical-align: middle;\n",
       "    }\n",
       "\n",
       "    .dataframe tbody tr th {\n",
       "        vertical-align: top;\n",
       "    }\n",
       "\n",
       "    .dataframe thead th {\n",
       "        text-align: right;\n",
       "    }\n",
       "</style>\n",
       "<table border=\"1\" class=\"dataframe\">\n",
       "  <thead>\n",
       "    <tr style=\"text-align: right;\">\n",
       "      <th></th>\n",
       "      <th>Position Title</th>\n",
       "      <th>Department</th>\n",
       "      <th>Employee Annual Salary</th>\n",
       "    </tr>\n",
       "    <tr>\n",
       "      <th>Name</th>\n",
       "      <th></th>\n",
       "      <th></th>\n",
       "      <th></th>\n",
       "    </tr>\n",
       "  </thead>\n",
       "  <tbody>\n",
       "    <tr>\n",
       "      <th>Aaron,  Elvia J</th>\n",
       "      <td>WATER RATE TAKER</td>\n",
       "      <td>WATER MGMNT</td>\n",
       "      <td>$90744.00</td>\n",
       "    </tr>\n",
       "    <tr>\n",
       "      <th>Aaron,  Jeffery M</th>\n",
       "      <td>POLICE OFFICER</td>\n",
       "      <td>POLICE</td>\n",
       "      <td>$84450.00</td>\n",
       "    </tr>\n",
       "    <tr>\n",
       "      <th>Aaron,  Karina</th>\n",
       "      <td>POLICE OFFICER</td>\n",
       "      <td>POLICE</td>\n",
       "      <td>$84450.00</td>\n",
       "    </tr>\n",
       "  </tbody>\n",
       "</table>\n",
       "</div>"
      ],
      "text/plain": [
       "                     Position Title   Department Employee Annual Salary\n",
       "Name                                                                   \n",
       "Aaron,  Elvia J    WATER RATE TAKER  WATER MGMNT              $90744.00\n",
       "Aaron,  Jeffery M    POLICE OFFICER       POLICE              $84450.00\n",
       "Aaron,  Karina       POLICE OFFICER       POLICE              $84450.00"
      ]
     },
     "execution_count": 47,
     "metadata": {},
     "output_type": "execute_result"
    }
   ],
   "source": [
    "chicago.head(3)"
   ]
  },
  {
   "cell_type": "code",
   "execution_count": 50,
   "id": "7c7d9e66-e3bf-46e4-9de4-b81bd6a42e11",
   "metadata": {},
   "outputs": [],
   "source": [
    "chicago.columns = chicago.columns.str.upper()"
   ]
  },
  {
   "cell_type": "code",
   "execution_count": 51,
   "id": "0a128358-1262-44ff-b8c5-595fe7443afb",
   "metadata": {},
   "outputs": [
    {
     "data": {
      "text/html": [
       "<div>\n",
       "<style scoped>\n",
       "    .dataframe tbody tr th:only-of-type {\n",
       "        vertical-align: middle;\n",
       "    }\n",
       "\n",
       "    .dataframe tbody tr th {\n",
       "        vertical-align: top;\n",
       "    }\n",
       "\n",
       "    .dataframe thead th {\n",
       "        text-align: right;\n",
       "    }\n",
       "</style>\n",
       "<table border=\"1\" class=\"dataframe\">\n",
       "  <thead>\n",
       "    <tr style=\"text-align: right;\">\n",
       "      <th></th>\n",
       "      <th>POSITION TITLE</th>\n",
       "      <th>DEPARTMENT</th>\n",
       "      <th>EMPLOYEE ANNUAL SALARY</th>\n",
       "    </tr>\n",
       "    <tr>\n",
       "      <th>Name</th>\n",
       "      <th></th>\n",
       "      <th></th>\n",
       "      <th></th>\n",
       "    </tr>\n",
       "  </thead>\n",
       "  <tbody>\n",
       "    <tr>\n",
       "      <th>Aaron,  Elvia J</th>\n",
       "      <td>WATER RATE TAKER</td>\n",
       "      <td>WATER MGMNT</td>\n",
       "      <td>$90744.00</td>\n",
       "    </tr>\n",
       "    <tr>\n",
       "      <th>Aaron,  Jeffery M</th>\n",
       "      <td>POLICE OFFICER</td>\n",
       "      <td>POLICE</td>\n",
       "      <td>$84450.00</td>\n",
       "    </tr>\n",
       "    <tr>\n",
       "      <th>Aaron,  Karina</th>\n",
       "      <td>POLICE OFFICER</td>\n",
       "      <td>POLICE</td>\n",
       "      <td>$84450.00</td>\n",
       "    </tr>\n",
       "  </tbody>\n",
       "</table>\n",
       "</div>"
      ],
      "text/plain": [
       "                     POSITION TITLE   DEPARTMENT EMPLOYEE ANNUAL SALARY\n",
       "Name                                                                   \n",
       "Aaron,  Elvia J    WATER RATE TAKER  WATER MGMNT              $90744.00\n",
       "Aaron,  Jeffery M    POLICE OFFICER       POLICE              $84450.00\n",
       "Aaron,  Karina       POLICE OFFICER       POLICE              $84450.00"
      ]
     },
     "execution_count": 51,
     "metadata": {},
     "output_type": "execute_result"
    }
   ],
   "source": [
    "chicago.head(3)"
   ]
  },
  {
   "cell_type": "code",
   "execution_count": null,
   "id": "3128cb52-61a4-4ea0-8ffd-c580039e8e38",
   "metadata": {},
   "outputs": [],
   "source": []
  },
  {
   "cell_type": "markdown",
   "id": "18536290-c260-4065-8791-73e80c7c12be",
   "metadata": {},
   "source": [
    "## **Split Strings by Characters with .str.split() Method**"
   ]
  },
  {
   "cell_type": "code",
   "execution_count": 52,
   "id": "1fe2fa2a-9908-4985-b19c-0cc14997dd60",
   "metadata": {},
   "outputs": [
    {
     "data": {
      "text/html": [
       "<div>\n",
       "<style scoped>\n",
       "    .dataframe tbody tr th:only-of-type {\n",
       "        vertical-align: middle;\n",
       "    }\n",
       "\n",
       "    .dataframe tbody tr th {\n",
       "        vertical-align: top;\n",
       "    }\n",
       "\n",
       "    .dataframe thead th {\n",
       "        text-align: right;\n",
       "    }\n",
       "</style>\n",
       "<table border=\"1\" class=\"dataframe\">\n",
       "  <thead>\n",
       "    <tr style=\"text-align: right;\">\n",
       "      <th></th>\n",
       "      <th>Name</th>\n",
       "      <th>Position Title</th>\n",
       "      <th>Department</th>\n",
       "      <th>Employee Annual Salary</th>\n",
       "    </tr>\n",
       "  </thead>\n",
       "  <tbody>\n",
       "    <tr>\n",
       "      <th>32059</th>\n",
       "      <td>ZYMANTAS,  MARK E</td>\n",
       "      <td>POLICE OFFICER</td>\n",
       "      <td>POLICE</td>\n",
       "      <td>$84450.00</td>\n",
       "    </tr>\n",
       "    <tr>\n",
       "      <th>32060</th>\n",
       "      <td>ZYRKOWSKI,  CARLO E</td>\n",
       "      <td>POLICE OFFICER</td>\n",
       "      <td>POLICE</td>\n",
       "      <td>$87384.00</td>\n",
       "    </tr>\n",
       "    <tr>\n",
       "      <th>32061</th>\n",
       "      <td>ZYSKOWSKI,  DARIUSZ</td>\n",
       "      <td>CHIEF DATA BASE ANALYST</td>\n",
       "      <td>DoIT</td>\n",
       "      <td>$113664.00</td>\n",
       "    </tr>\n",
       "  </tbody>\n",
       "</table>\n",
       "</div>"
      ],
      "text/plain": [
       "                      Name           Position Title Department  \\\n",
       "32059    ZYMANTAS,  MARK E           POLICE OFFICER     POLICE   \n",
       "32060  ZYRKOWSKI,  CARLO E           POLICE OFFICER     POLICE   \n",
       "32061  ZYSKOWSKI,  DARIUSZ  CHIEF DATA BASE ANALYST       DoIT   \n",
       "\n",
       "      Employee Annual Salary  \n",
       "32059              $84450.00  \n",
       "32060              $87384.00  \n",
       "32061             $113664.00  "
      ]
     },
     "execution_count": 52,
     "metadata": {},
     "output_type": "execute_result"
    }
   ],
   "source": [
    "chicago = pd.read_csv(\"chicago.csv\").dropna(how = \"all\")\n",
    "chicago[\"Department\"] = chicago[\"Department\"].astype(\"category\")\n",
    "chicago.tail(3)"
   ]
  },
  {
   "cell_type": "code",
   "execution_count": 53,
   "id": "b7a8dd6d-4958-43ad-a466-33d89cbdb1f3",
   "metadata": {},
   "outputs": [
    {
     "data": {
      "text/plain": [
       "['Hello', 'my', 'name', 'is', 'Lucas']"
      ]
     },
     "execution_count": 53,
     "metadata": {},
     "output_type": "execute_result"
    }
   ],
   "source": [
    "\"Hello my name is Lucas\".split(\" \")"
   ]
  },
  {
   "cell_type": "code",
   "execution_count": 64,
   "id": "35acd3cc-a79c-412e-9e0a-8d11f78b7062",
   "metadata": {},
   "outputs": [
    {
     "data": {
      "text/plain": [
       "Williams    293\n",
       "Johnson     244\n",
       "Smith       241\n",
       "Brown       185\n",
       "Jones       183\n",
       "Name: Name, dtype: int64"
      ]
     },
     "execution_count": 64,
     "metadata": {},
     "output_type": "execute_result"
    }
   ],
   "source": [
    "# com o código abaixo estamos obtendo os sobrenomes e normalizando-os para obtermos os nomes mais comuns em chicago\n",
    "chicago[\"Name\"].str.split(\",\").str.get(0).str.title().value_counts().nlargest(5)"
   ]
  },
  {
   "cell_type": "code",
   "execution_count": 71,
   "id": "e6ec06d7-6282-400a-8b0d-355ec7f029bf",
   "metadata": {},
   "outputs": [
    {
     "data": {
      "text/plain": [
       "Police             10856\n",
       "Firefighter-Emt     1509\n",
       "Sergeant            1186\n",
       "Pool                 918\n",
       "Firefighter          810\n",
       "Name: Position Title, dtype: int64"
      ]
     },
     "execution_count": 71,
     "metadata": {},
     "output_type": "execute_result"
    }
   ],
   "source": [
    "# Encontrar a primeira palavra mais comum entre os titulos existentes no dataset\n",
    "# Precisamos validar também se teremos pelo menos um elemento gerado para cada lista, se não podemos obter um erro.\n",
    "\n",
    "chicago[\"Position Title\"].str.split(\" \").str.get(0).str.title().value_counts().head(5)"
   ]
  },
  {
   "cell_type": "code",
   "execution_count": null,
   "id": "955bf60b-aeb5-4980-8f5b-21a09f90613d",
   "metadata": {},
   "outputs": [],
   "source": []
  },
  {
   "cell_type": "markdown",
   "id": "0449547d-d773-48f1-9b38-6b91f57a1479",
   "metadata": {},
   "source": [
    "## **More Practice with Splits**"
   ]
  },
  {
   "cell_type": "code",
   "execution_count": 78,
   "id": "089e546e-c591-4374-a931-4a5cbb3cf1da",
   "metadata": {},
   "outputs": [
    {
     "data": {
      "text/html": [
       "<div>\n",
       "<style scoped>\n",
       "    .dataframe tbody tr th:only-of-type {\n",
       "        vertical-align: middle;\n",
       "    }\n",
       "\n",
       "    .dataframe tbody tr th {\n",
       "        vertical-align: top;\n",
       "    }\n",
       "\n",
       "    .dataframe thead th {\n",
       "        text-align: right;\n",
       "    }\n",
       "</style>\n",
       "<table border=\"1\" class=\"dataframe\">\n",
       "  <thead>\n",
       "    <tr style=\"text-align: right;\">\n",
       "      <th></th>\n",
       "      <th>Name</th>\n",
       "      <th>Position Title</th>\n",
       "      <th>Department</th>\n",
       "      <th>Employee Annual Salary</th>\n",
       "    </tr>\n",
       "  </thead>\n",
       "  <tbody>\n",
       "    <tr>\n",
       "      <th>0</th>\n",
       "      <td>AARON,  ELVIA J</td>\n",
       "      <td>WATER RATE TAKER</td>\n",
       "      <td>WATER MGMNT</td>\n",
       "      <td>$90744.00</td>\n",
       "    </tr>\n",
       "    <tr>\n",
       "      <th>1</th>\n",
       "      <td>AARON,  JEFFERY M</td>\n",
       "      <td>POLICE OFFICER</td>\n",
       "      <td>POLICE</td>\n",
       "      <td>$84450.00</td>\n",
       "    </tr>\n",
       "    <tr>\n",
       "      <th>2</th>\n",
       "      <td>AARON,  KARINA</td>\n",
       "      <td>POLICE OFFICER</td>\n",
       "      <td>POLICE</td>\n",
       "      <td>$84450.00</td>\n",
       "    </tr>\n",
       "  </tbody>\n",
       "</table>\n",
       "</div>"
      ],
      "text/plain": [
       "                Name    Position Title   Department Employee Annual Salary\n",
       "0    AARON,  ELVIA J  WATER RATE TAKER  WATER MGMNT              $90744.00\n",
       "1  AARON,  JEFFERY M    POLICE OFFICER       POLICE              $84450.00\n",
       "2     AARON,  KARINA    POLICE OFFICER       POLICE              $84450.00"
      ]
     },
     "execution_count": 78,
     "metadata": {},
     "output_type": "execute_result"
    }
   ],
   "source": [
    "chicago = pd.read_csv(\"chicago.csv\").dropna(how = \"all\")\n",
    "chicago[\"Department\"] = chicago[\"Department\"].astype(\"category\")\n",
    "chicago.head(3)"
   ]
  },
  {
   "cell_type": "code",
   "execution_count": 86,
   "id": "0151a837-5141-44d7-833f-582f414be183",
   "metadata": {},
   "outputs": [
    {
     "data": {
      "text/plain": [
       "MICHAEL    1153\n",
       "JOHN        899\n",
       "JAMES       676\n",
       "ROBERT      622\n",
       "JOSEPH      537\n",
       "Name: Name, dtype: int64"
      ]
     },
     "execution_count": 86,
     "metadata": {},
     "output_type": "execute_result"
    }
   ],
   "source": [
    "# Obtendo os 5 primeiros nomes mais populares de Chicago\n",
    "\n",
    "chicago[\"Name\"].str.split(\",\").str.get(1).str.strip().str.split(\" \").str.get(0).value_counts().head(5)"
   ]
  },
  {
   "cell_type": "code",
   "execution_count": null,
   "id": "0c0971e7-4e1d-471f-8f84-52c44427b819",
   "metadata": {},
   "outputs": [],
   "source": []
  },
  {
   "cell_type": "markdown",
   "id": "cffe60c5-6b46-4e6f-84cb-7d63fbe2e254",
   "metadata": {},
   "source": [
    "## **The expand and n Parameters of the str.split() Method**"
   ]
  },
  {
   "cell_type": "code",
   "execution_count": 87,
   "id": "045b31e3-52a6-4d87-bf49-bd779ed91729",
   "metadata": {},
   "outputs": [
    {
     "data": {
      "text/html": [
       "<div>\n",
       "<style scoped>\n",
       "    .dataframe tbody tr th:only-of-type {\n",
       "        vertical-align: middle;\n",
       "    }\n",
       "\n",
       "    .dataframe tbody tr th {\n",
       "        vertical-align: top;\n",
       "    }\n",
       "\n",
       "    .dataframe thead th {\n",
       "        text-align: right;\n",
       "    }\n",
       "</style>\n",
       "<table border=\"1\" class=\"dataframe\">\n",
       "  <thead>\n",
       "    <tr style=\"text-align: right;\">\n",
       "      <th></th>\n",
       "      <th>Name</th>\n",
       "      <th>Position Title</th>\n",
       "      <th>Department</th>\n",
       "      <th>Employee Annual Salary</th>\n",
       "    </tr>\n",
       "  </thead>\n",
       "  <tbody>\n",
       "    <tr>\n",
       "      <th>0</th>\n",
       "      <td>AARON,  ELVIA J</td>\n",
       "      <td>WATER RATE TAKER</td>\n",
       "      <td>WATER MGMNT</td>\n",
       "      <td>$90744.00</td>\n",
       "    </tr>\n",
       "    <tr>\n",
       "      <th>1</th>\n",
       "      <td>AARON,  JEFFERY M</td>\n",
       "      <td>POLICE OFFICER</td>\n",
       "      <td>POLICE</td>\n",
       "      <td>$84450.00</td>\n",
       "    </tr>\n",
       "    <tr>\n",
       "      <th>2</th>\n",
       "      <td>AARON,  KARINA</td>\n",
       "      <td>POLICE OFFICER</td>\n",
       "      <td>POLICE</td>\n",
       "      <td>$84450.00</td>\n",
       "    </tr>\n",
       "  </tbody>\n",
       "</table>\n",
       "</div>"
      ],
      "text/plain": [
       "                Name    Position Title   Department Employee Annual Salary\n",
       "0    AARON,  ELVIA J  WATER RATE TAKER  WATER MGMNT              $90744.00\n",
       "1  AARON,  JEFFERY M    POLICE OFFICER       POLICE              $84450.00\n",
       "2     AARON,  KARINA    POLICE OFFICER       POLICE              $84450.00"
      ]
     },
     "execution_count": 104,
     "metadata": {},
     "output_type": "execute_result"
    }
   ],
   "source": [
    "chicago = pd.read_csv(\"chicago.csv\").dropna(how = \"all\")\n",
    "chicago[\"Department\"] = chicago[\"Department\"].astype(\"category\")\n",
    "chicago.head(3)"
   ]
  },
  {
   "cell_type": "code",
   "execution_count": 91,
   "id": "f32fe80c-2fd9-4def-b2bc-31a3f3414dc3",
   "metadata": {},
   "outputs": [
    {
     "data": {
      "text/plain": [
       "0            lucas,  elvia j\n",
       "1          lucas,  jeffery m\n",
       "2             lucas,  karina\n",
       "3        lucas,  kimberlei r\n",
       "4        abad jr,  vicente m\n",
       "                ...         \n",
       "32057    zygadlo,  michael j\n",
       "32058     zygowicz,  peter j\n",
       "32059      zymantas,  mark e\n",
       "32060    zyrkowski,  carlo e\n",
       "32061    zyskowski,  dariusz\n",
       "Name: Name, Length: 32062, dtype: object"
      ]
     },
     "execution_count": 91,
     "metadata": {},
     "output_type": "execute_result"
    }
   ],
   "source": [
    "chicago[\"Name\"].str.lower().str.replace(\"aaron\", \"lucas\") # troca a ocorrência da palavra na string"
   ]
  },
  {
   "cell_type": "code",
   "execution_count": 94,
   "id": "423ff24c-b204-493f-9e84-dff4dfe5cec1",
   "metadata": {},
   "outputs": [
    {
     "data": {
      "text/plain": [
       "0                      LUCAS\n",
       "1          AARON,  JEFFERY M\n",
       "2             AARON,  KARINA\n",
       "3        AARON,  KIMBERLEI R\n",
       "4        ABAD JR,  VICENTE M\n",
       "                ...         \n",
       "32057    ZYGADLO,  MICHAEL J\n",
       "32058     ZYGOWICZ,  PETER J\n",
       "32059      ZYMANTAS,  MARK E\n",
       "32060    ZYRKOWSKI,  CARLO E\n",
       "32061    ZYSKOWSKI,  DARIUSZ\n",
       "Name: Name, Length: 32062, dtype: object"
      ]
     },
     "execution_count": 94,
     "metadata": {},
     "output_type": "execute_result"
    }
   ],
   "source": [
    "chicago[\"Name\"].replace(\"AARON,  ELVIA J\", \"LUCAS\") # altera apenas o valor inteiro do registro observado"
   ]
  },
  {
   "cell_type": "code",
   "execution_count": 109,
   "id": "9afb1114-3cfe-441a-85a9-f7d3f1b60c38",
   "metadata": {},
   "outputs": [],
   "source": [
    "chicago[[\"First Name\", \"Last Name\"]] = chicago[\"Name\"].str.split(\",\", expand = True) # .rename(columns = {0: \"First Name\", 1: \"Last Name\"})"
   ]
  },
  {
   "cell_type": "code",
   "execution_count": 110,
   "id": "e4aef480-ea8b-4d68-866a-6e7fa2c58fe7",
   "metadata": {},
   "outputs": [
    {
     "data": {
      "text/html": [
       "<div>\n",
       "<style scoped>\n",
       "    .dataframe tbody tr th:only-of-type {\n",
       "        vertical-align: middle;\n",
       "    }\n",
       "\n",
       "    .dataframe tbody tr th {\n",
       "        vertical-align: top;\n",
       "    }\n",
       "\n",
       "    .dataframe thead th {\n",
       "        text-align: right;\n",
       "    }\n",
       "</style>\n",
       "<table border=\"1\" class=\"dataframe\">\n",
       "  <thead>\n",
       "    <tr style=\"text-align: right;\">\n",
       "      <th></th>\n",
       "      <th>Name</th>\n",
       "      <th>Position Title</th>\n",
       "      <th>Department</th>\n",
       "      <th>Employee Annual Salary</th>\n",
       "      <th>First Name</th>\n",
       "      <th>Last Name</th>\n",
       "    </tr>\n",
       "  </thead>\n",
       "  <tbody>\n",
       "    <tr>\n",
       "      <th>0</th>\n",
       "      <td>AARON,  ELVIA J</td>\n",
       "      <td>WATER RATE TAKER</td>\n",
       "      <td>WATER MGMNT</td>\n",
       "      <td>$90744.00</td>\n",
       "      <td>AARON</td>\n",
       "      <td>ELVIA J</td>\n",
       "    </tr>\n",
       "  </tbody>\n",
       "</table>\n",
       "</div>"
      ],
      "text/plain": [
       "              Name    Position Title   Department Employee Annual Salary  \\\n",
       "0  AARON,  ELVIA J  WATER RATE TAKER  WATER MGMNT              $90744.00   \n",
       "\n",
       "  First Name  Last Name  \n",
       "0      AARON    ELVIA J  "
      ]
     },
     "execution_count": 110,
     "metadata": {},
     "output_type": "execute_result"
    }
   ],
   "source": [
    "chicago.head(1)"
   ]
  },
  {
   "cell_type": "code",
   "execution_count": 115,
   "id": "e34eed15-887c-4025-9c5f-db03ca2d94ec",
   "metadata": {},
   "outputs": [],
   "source": [
    " chicago[[\"First Title Word\", \"Remaining Words for Title\"]] = chicago[\"Position Title\"].str.split(\" \", expand = True, n = 1) # o Dataframe gerado terá o shape adequado de acordo com a lista gerada com o maior tamanho"
   ]
  },
  {
   "cell_type": "code",
   "execution_count": 116,
   "id": "80df1a74-3125-47ba-8ec3-cf8828bb681b",
   "metadata": {},
   "outputs": [
    {
     "data": {
      "text/html": [
       "<div>\n",
       "<style scoped>\n",
       "    .dataframe tbody tr th:only-of-type {\n",
       "        vertical-align: middle;\n",
       "    }\n",
       "\n",
       "    .dataframe tbody tr th {\n",
       "        vertical-align: top;\n",
       "    }\n",
       "\n",
       "    .dataframe thead th {\n",
       "        text-align: right;\n",
       "    }\n",
       "</style>\n",
       "<table border=\"1\" class=\"dataframe\">\n",
       "  <thead>\n",
       "    <tr style=\"text-align: right;\">\n",
       "      <th></th>\n",
       "      <th>Name</th>\n",
       "      <th>Position Title</th>\n",
       "      <th>Department</th>\n",
       "      <th>Employee Annual Salary</th>\n",
       "      <th>First Name</th>\n",
       "      <th>Last Name</th>\n",
       "      <th>First Title Word</th>\n",
       "      <th>Remaining Words for Title</th>\n",
       "    </tr>\n",
       "  </thead>\n",
       "  <tbody>\n",
       "    <tr>\n",
       "      <th>0</th>\n",
       "      <td>AARON,  ELVIA J</td>\n",
       "      <td>WATER RATE TAKER</td>\n",
       "      <td>WATER MGMNT</td>\n",
       "      <td>$90744.00</td>\n",
       "      <td>AARON</td>\n",
       "      <td>ELVIA J</td>\n",
       "      <td>WATER</td>\n",
       "      <td>RATE TAKER</td>\n",
       "    </tr>\n",
       "    <tr>\n",
       "      <th>1</th>\n",
       "      <td>AARON,  JEFFERY M</td>\n",
       "      <td>POLICE OFFICER</td>\n",
       "      <td>POLICE</td>\n",
       "      <td>$84450.00</td>\n",
       "      <td>AARON</td>\n",
       "      <td>JEFFERY M</td>\n",
       "      <td>POLICE</td>\n",
       "      <td>OFFICER</td>\n",
       "    </tr>\n",
       "    <tr>\n",
       "      <th>2</th>\n",
       "      <td>AARON,  KARINA</td>\n",
       "      <td>POLICE OFFICER</td>\n",
       "      <td>POLICE</td>\n",
       "      <td>$84450.00</td>\n",
       "      <td>AARON</td>\n",
       "      <td>KARINA</td>\n",
       "      <td>POLICE</td>\n",
       "      <td>OFFICER</td>\n",
       "    </tr>\n",
       "  </tbody>\n",
       "</table>\n",
       "</div>"
      ],
      "text/plain": [
       "                Name    Position Title   Department Employee Annual Salary  \\\n",
       "0    AARON,  ELVIA J  WATER RATE TAKER  WATER MGMNT              $90744.00   \n",
       "1  AARON,  JEFFERY M    POLICE OFFICER       POLICE              $84450.00   \n",
       "2     AARON,  KARINA    POLICE OFFICER       POLICE              $84450.00   \n",
       "\n",
       "  First Name    Last Name First Title Word Remaining Words for Title  \n",
       "0      AARON      ELVIA J            WATER                RATE TAKER  \n",
       "1      AARON    JEFFERY M           POLICE                   OFFICER  \n",
       "2      AARON       KARINA           POLICE                   OFFICER  "
      ]
     },
     "execution_count": 116,
     "metadata": {},
     "output_type": "execute_result"
    }
   ],
   "source": [
    "chicago.head(3)"
   ]
  },
  {
   "cell_type": "code",
   "execution_count": null,
   "id": "9d908121-f016-4054-b47e-197c85bf8591",
   "metadata": {},
   "outputs": [],
   "source": []
  },
  {
   "cell_type": "code",
   "execution_count": null,
   "id": "7dd531ed-300b-44a2-a82d-39c53d4c01f3",
   "metadata": {},
   "outputs": [],
   "source": []
  },
  {
   "cell_type": "code",
   "execution_count": null,
   "id": "ef733ba0-cd37-4616-b009-90d9f78544a7",
   "metadata": {},
   "outputs": [],
   "source": []
  },
  {
   "cell_type": "code",
   "execution_count": null,
   "id": "75636c7c-e43c-4cc1-8745-ed5b266754d8",
   "metadata": {},
   "outputs": [],
   "source": []
  },
  {
   "cell_type": "code",
   "execution_count": null,
   "id": "fb8f7ae0-cef8-4fc3-abae-dd0eb21a1791",
   "metadata": {},
   "outputs": [],
   "source": []
  },
  {
   "cell_type": "code",
   "execution_count": null,
   "id": "5ee813a4-4c1b-4ea7-b48a-65d724b08798",
   "metadata": {},
   "outputs": [],
   "source": []
  }
 ],
 "metadata": {
  "kernelspec": {
   "display_name": "Python 3 (ipykernel)",
   "language": "python",
   "name": "python3"
  },
  "language_info": {
   "codemirror_mode": {
    "name": "ipython",
    "version": 3
   },
   "file_extension": ".py",
   "mimetype": "text/x-python",
   "name": "python",
   "nbconvert_exporter": "python",
   "pygments_lexer": "ipython3",
   "version": "3.10.6"
  }
 },
 "nbformat": 4,
 "nbformat_minor": 5
}
