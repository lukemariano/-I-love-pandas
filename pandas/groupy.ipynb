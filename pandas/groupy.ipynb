{
 "cells": [
  {
   "cell_type": "markdown",
   "id": "5f0e3cd8-af0c-4688-b2d9-c31ee85cb27d",
   "metadata": {},
   "source": [
    "## **Introdução ao método ```.groupby()```**"
   ]
  },
  {
   "cell_type": "code",
   "execution_count": 1,
   "id": "deed7f98-eadb-477a-9dbd-a9aa605486a1",
   "metadata": {},
   "outputs": [],
   "source": [
    "import pandas as pd"
   ]
  },
  {
   "cell_type": "code",
   "execution_count": 4,
   "id": "e3c245e4-529e-43ed-9d01-cc97eb7e4191",
   "metadata": {},
   "outputs": [
    {
     "data": {
      "text/html": [
       "<div>\n",
       "<style scoped>\n",
       "    .dataframe tbody tr th:only-of-type {\n",
       "        vertical-align: middle;\n",
       "    }\n",
       "\n",
       "    .dataframe tbody tr th {\n",
       "        vertical-align: top;\n",
       "    }\n",
       "\n",
       "    .dataframe thead th {\n",
       "        text-align: right;\n",
       "    }\n",
       "</style>\n",
       "<table border=\"1\" class=\"dataframe\">\n",
       "  <thead>\n",
       "    <tr style=\"text-align: right;\">\n",
       "      <th></th>\n",
       "      <th>Company</th>\n",
       "      <th>Sector</th>\n",
       "      <th>Industry</th>\n",
       "      <th>Location</th>\n",
       "      <th>Revenue</th>\n",
       "      <th>Profits</th>\n",
       "      <th>Employees</th>\n",
       "    </tr>\n",
       "    <tr>\n",
       "      <th>Rank</th>\n",
       "      <th></th>\n",
       "      <th></th>\n",
       "      <th></th>\n",
       "      <th></th>\n",
       "      <th></th>\n",
       "      <th></th>\n",
       "      <th></th>\n",
       "    </tr>\n",
       "  </thead>\n",
       "  <tbody>\n",
       "    <tr>\n",
       "      <th>1</th>\n",
       "      <td>Walmart</td>\n",
       "      <td>Retailing</td>\n",
       "      <td>General Merchandisers</td>\n",
       "      <td>Bentonville, AR</td>\n",
       "      <td>482130</td>\n",
       "      <td>14694</td>\n",
       "      <td>2300000</td>\n",
       "    </tr>\n",
       "    <tr>\n",
       "      <th>2</th>\n",
       "      <td>Exxon Mobil</td>\n",
       "      <td>Energy</td>\n",
       "      <td>Petroleum Refining</td>\n",
       "      <td>Irving, TX</td>\n",
       "      <td>246204</td>\n",
       "      <td>16150</td>\n",
       "      <td>75600</td>\n",
       "    </tr>\n",
       "    <tr>\n",
       "      <th>3</th>\n",
       "      <td>Apple</td>\n",
       "      <td>Technology</td>\n",
       "      <td>Computers, Office Equipment</td>\n",
       "      <td>Cupertino, CA</td>\n",
       "      <td>233715</td>\n",
       "      <td>53394</td>\n",
       "      <td>110000</td>\n",
       "    </tr>\n",
       "  </tbody>\n",
       "</table>\n",
       "</div>"
      ],
      "text/plain": [
       "          Company      Sector                     Industry         Location  \\\n",
       "Rank                                                                          \n",
       "1         Walmart   Retailing        General Merchandisers  Bentonville, AR   \n",
       "2     Exxon Mobil      Energy           Petroleum Refining       Irving, TX   \n",
       "3           Apple  Technology  Computers, Office Equipment    Cupertino, CA   \n",
       "\n",
       "      Revenue  Profits  Employees  \n",
       "Rank                               \n",
       "1      482130    14694    2300000  \n",
       "2      246204    16150      75600  \n",
       "3      233715    53394     110000  "
      ]
     },
     "execution_count": 4,
     "metadata": {},
     "output_type": "execute_result"
    }
   ],
   "source": [
    "fortune = pd.read_csv(\"fortune1000.csv\", index_col = [\"Rank\"])\n",
    "fortune.head(3)"
   ]
  },
  {
   "cell_type": "markdown",
   "id": "b5a295a8-cdb6-4f7a-9b1c-a2da3088266b",
   "metadata": {},
   "source": [
    "A ideia do agrupamento é sempre agrupar uma coluna com \"valores duplicados\".\n",
    "\n",
    "Não faz sentido agrupar dados por uma coluna que apenas possui valores únicos como a \"Company\" por exemplo. Nesse caso, faria mais sentido termos valores agrupados por \"Sector\", \"Industry\" ou \"Location\"."
   ]
  },
  {
   "cell_type": "code",
   "execution_count": 12,
   "id": "c86a521f-39d3-45f1-91b3-8af9b279ff8d",
   "metadata": {},
   "outputs": [
    {
     "data": {
      "text/plain": [
       "pandas.core.groupby.generic.DataFrameGroupBy"
      ]
     },
     "execution_count": 12,
     "metadata": {},
     "output_type": "execute_result"
    }
   ],
   "source": [
    "sectors = fortune.groupby(by = [\"Sector\"])\n",
    "type(sectors)"
   ]
  },
  {
   "cell_type": "markdown",
   "id": "12eb4f0a-cd7d-4a67-ac20-f3de3c73d9cc",
   "metadata": {},
   "source": [
    "### O que temos aqui é apenas um objeto do tipo \"DataFrameGroupBy\" que está armezenado na memória, e ele só será realmente útil se utilizarmos métodos com esse objete (métodos de agregação --> operações matemáticas)."
   ]
  },
  {
   "cell_type": "code",
   "execution_count": null,
   "id": "7b73cc11-fa0f-4576-8810-8d2f220c735f",
   "metadata": {},
   "outputs": [],
   "source": []
  },
  {
   "cell_type": "code",
   "execution_count": null,
   "id": "0d15a8ec-dd7f-480c-b99c-f839291a3f51",
   "metadata": {},
   "outputs": [],
   "source": []
  },
  {
   "cell_type": "code",
   "execution_count": null,
   "id": "7b852138-337d-4166-a1b2-7f1d6e23dbef",
   "metadata": {},
   "outputs": [],
   "source": []
  },
  {
   "cell_type": "code",
   "execution_count": null,
   "id": "85fdf65e-4a71-4c37-923f-1180e901db67",
   "metadata": {},
   "outputs": [],
   "source": []
  },
  {
   "cell_type": "code",
   "execution_count": null,
   "id": "72334299-7be5-43e3-bad2-28884c512caf",
   "metadata": {},
   "outputs": [],
   "source": []
  },
  {
   "cell_type": "code",
   "execution_count": null,
   "id": "69387da7-4350-4c27-ab5f-cede36b2e3c7",
   "metadata": {},
   "outputs": [],
   "source": []
  },
  {
   "cell_type": "code",
   "execution_count": null,
   "id": "6895e9b2-f577-4adf-aec6-6a6ebed242d7",
   "metadata": {},
   "outputs": [],
   "source": []
  },
  {
   "cell_type": "code",
   "execution_count": null,
   "id": "bd825609-e23e-4c12-a13b-9113d9b22e76",
   "metadata": {},
   "outputs": [],
   "source": []
  },
  {
   "cell_type": "code",
   "execution_count": null,
   "id": "ff825d5c-1625-4fcb-8f0a-e699cc82412f",
   "metadata": {},
   "outputs": [],
   "source": []
  },
  {
   "cell_type": "code",
   "execution_count": null,
   "id": "2c369c8d-2ac6-402d-9e4a-21bb2b8227fb",
   "metadata": {},
   "outputs": [],
   "source": []
  },
  {
   "cell_type": "code",
   "execution_count": null,
   "id": "1cf7f155-c176-4d89-8bc8-28daba17dad1",
   "metadata": {},
   "outputs": [],
   "source": []
  },
  {
   "cell_type": "code",
   "execution_count": null,
   "id": "30afbbac-c6cf-46ea-a698-1f93b265154f",
   "metadata": {},
   "outputs": [],
   "source": []
  },
  {
   "cell_type": "code",
   "execution_count": null,
   "id": "bedb7417-dee7-4ae1-825d-55190f955b11",
   "metadata": {},
   "outputs": [],
   "source": []
  },
  {
   "cell_type": "code",
   "execution_count": null,
   "id": "8c36b538-1880-4240-a6b4-35fc7fb7709b",
   "metadata": {},
   "outputs": [],
   "source": []
  },
  {
   "cell_type": "code",
   "execution_count": null,
   "id": "28ca1793-161b-4239-98ea-e8b2872c862f",
   "metadata": {},
   "outputs": [],
   "source": []
  },
  {
   "cell_type": "code",
   "execution_count": null,
   "id": "51082b07-12d7-4e29-87ae-6a91f346a784",
   "metadata": {},
   "outputs": [],
   "source": []
  },
  {
   "cell_type": "code",
   "execution_count": null,
   "id": "0327e185-7b51-4104-9509-82f192e59ed8",
   "metadata": {},
   "outputs": [],
   "source": []
  },
  {
   "cell_type": "code",
   "execution_count": null,
   "id": "4bba55a8-57a0-499a-8ba9-0321a6c3bdb4",
   "metadata": {},
   "outputs": [],
   "source": []
  },
  {
   "cell_type": "code",
   "execution_count": null,
   "id": "249b50f9-39e1-47df-8ea2-dcfb9c23fc41",
   "metadata": {},
   "outputs": [],
   "source": []
  },
  {
   "cell_type": "code",
   "execution_count": null,
   "id": "64c9ff6b-6a18-4b48-9b4a-2ebafe82e0a5",
   "metadata": {},
   "outputs": [],
   "source": []
  },
  {
   "cell_type": "code",
   "execution_count": null,
   "id": "96a09860-344f-4f53-8b9e-28cc0b9ad738",
   "metadata": {},
   "outputs": [],
   "source": []
  },
  {
   "cell_type": "code",
   "execution_count": null,
   "id": "ffb663bd-60d0-450c-8c17-6c9cbf157461",
   "metadata": {},
   "outputs": [],
   "source": []
  },
  {
   "cell_type": "code",
   "execution_count": null,
   "id": "a3e32251-5057-4470-836d-ef4d96fda5fb",
   "metadata": {},
   "outputs": [],
   "source": []
  },
  {
   "cell_type": "code",
   "execution_count": null,
   "id": "82bd7375-bf06-4b02-ab45-ec73d5b817d4",
   "metadata": {},
   "outputs": [],
   "source": []
  },
  {
   "cell_type": "code",
   "execution_count": null,
   "id": "e9b3039d-68b7-4008-917d-211d618f4d12",
   "metadata": {},
   "outputs": [],
   "source": []
  },
  {
   "cell_type": "code",
   "execution_count": null,
   "id": "ab9e059d-4554-4154-81e3-d570e6ae1351",
   "metadata": {},
   "outputs": [],
   "source": []
  },
  {
   "cell_type": "code",
   "execution_count": null,
   "id": "5d4239fd-7847-410a-a092-72a089172b3e",
   "metadata": {},
   "outputs": [],
   "source": []
  },
  {
   "cell_type": "code",
   "execution_count": null,
   "id": "b7a3218b-e469-471e-899d-3e6e55b6b9a6",
   "metadata": {},
   "outputs": [],
   "source": []
  },
  {
   "cell_type": "code",
   "execution_count": null,
   "id": "f0b8da6a-0387-45a5-9457-fc0e9e13eaff",
   "metadata": {},
   "outputs": [],
   "source": []
  },
  {
   "cell_type": "code",
   "execution_count": null,
   "id": "934b2277-81ae-483a-8704-cf5810b02fd9",
   "metadata": {},
   "outputs": [],
   "source": []
  },
  {
   "cell_type": "code",
   "execution_count": null,
   "id": "81f68ba8-799d-46cf-a133-6f446b5960a6",
   "metadata": {},
   "outputs": [],
   "source": []
  },
  {
   "cell_type": "code",
   "execution_count": null,
   "id": "aee1bdbd-3c42-45bd-a8be-f963fd12da5c",
   "metadata": {},
   "outputs": [],
   "source": []
  },
  {
   "cell_type": "code",
   "execution_count": null,
   "id": "81bce675-f1d7-4b9a-b1d0-cd8b18243d87",
   "metadata": {},
   "outputs": [],
   "source": []
  },
  {
   "cell_type": "code",
   "execution_count": null,
   "id": "00be74c0-506e-4483-84f5-e2ea4a6a7563",
   "metadata": {},
   "outputs": [],
   "source": []
  },
  {
   "cell_type": "code",
   "execution_count": null,
   "id": "1fb5b773-f76d-41e6-87ed-7b5a99e31fb7",
   "metadata": {},
   "outputs": [],
   "source": []
  },
  {
   "cell_type": "code",
   "execution_count": null,
   "id": "38f7d8a6-e553-42a4-a020-0612fd9d4ca6",
   "metadata": {},
   "outputs": [],
   "source": []
  },
  {
   "cell_type": "code",
   "execution_count": null,
   "id": "c39ad490-5a3d-4305-8c74-8f21b71d5471",
   "metadata": {},
   "outputs": [],
   "source": []
  },
  {
   "cell_type": "code",
   "execution_count": null,
   "id": "1c4fdf6d-704b-4323-9e13-8ad436d8faf7",
   "metadata": {},
   "outputs": [],
   "source": []
  },
  {
   "cell_type": "code",
   "execution_count": null,
   "id": "6b74a316-969d-4bcc-a37b-a0132acb4c6b",
   "metadata": {},
   "outputs": [],
   "source": []
  },
  {
   "cell_type": "code",
   "execution_count": null,
   "id": "69485864-9b4c-4c1c-a0b8-2ef5fb90f63e",
   "metadata": {},
   "outputs": [],
   "source": []
  },
  {
   "cell_type": "code",
   "execution_count": null,
   "id": "4cc39e60-954e-4b88-900b-ef0bb0ce85d5",
   "metadata": {},
   "outputs": [],
   "source": []
  },
  {
   "cell_type": "code",
   "execution_count": null,
   "id": "9958047f-f2ee-4b25-bb9b-1b6dd481a64d",
   "metadata": {},
   "outputs": [],
   "source": []
  },
  {
   "cell_type": "code",
   "execution_count": null,
   "id": "3ad8bb2f-746e-4263-a03f-d9c6d6f49ea7",
   "metadata": {},
   "outputs": [],
   "source": []
  },
  {
   "cell_type": "code",
   "execution_count": null,
   "id": "891c7caf-b9af-449f-af0c-c94d9f2705c6",
   "metadata": {},
   "outputs": [],
   "source": []
  }
 ],
 "metadata": {
  "kernelspec": {
   "display_name": "Python 3 (ipykernel)",
   "language": "python",
   "name": "python3"
  },
  "language_info": {
   "codemirror_mode": {
    "name": "ipython",
    "version": 3
   },
   "file_extension": ".py",
   "mimetype": "text/x-python",
   "name": "python",
   "nbconvert_exporter": "python",
   "pygments_lexer": "ipython3",
   "version": "3.10.4"
  }
 },
 "nbformat": 4,
 "nbformat_minor": 5
}
